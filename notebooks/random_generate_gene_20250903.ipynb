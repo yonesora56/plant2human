{
 "cells": [
  {
   "cell_type": "code",
   "execution_count": 1,
   "metadata": {},
   "outputs": [],
   "source": [
    "import polars as pl"
   ]
  },
  {
   "cell_type": "code",
   "execution_count": 2,
   "metadata": {},
   "outputs": [
    {
     "data": {
      "text/html": [
       "<div><style>\n",
       ".dataframe > thead > tr,\n",
       ".dataframe > tbody > tr {\n",
       "  text-align: right;\n",
       "  white-space: pre-wrap;\n",
       "}\n",
       "</style>\n",
       "<small>shape: (38_993, 1)</small><table border=\"1\" class=\"dataframe\"><thead><tr><th>From</th></tr><tr><td>str</td></tr></thead><tbody><tr><td>&quot;ENSRNA049440515&quot;</td></tr><tr><td>&quot;ENSRNA049440716&quot;</td></tr><tr><td>&quot;ENSRNA049441102&quot;</td></tr><tr><td>&quot;ENSRNA049441259&quot;</td></tr><tr><td>&quot;ENSRNA049441339&quot;</td></tr><tr><td>&hellip;</td></tr><tr><td>&quot;Os12g0641200&quot;</td></tr><tr><td>&quot;Os12g0641300&quot;</td></tr><tr><td>&quot;Os12g0641400&quot;</td></tr><tr><td>&quot;Os12g0641500&quot;</td></tr><tr><td>&quot;Os12g0641600&quot;</td></tr></tbody></table></div>"
      ],
      "text/plain": [
       "shape: (38_993, 1)\n",
       "┌─────────────────┐\n",
       "│ From            │\n",
       "│ ---             │\n",
       "│ str             │\n",
       "╞═════════════════╡\n",
       "│ ENSRNA049440515 │\n",
       "│ ENSRNA049440716 │\n",
       "│ ENSRNA049441102 │\n",
       "│ ENSRNA049441259 │\n",
       "│ ENSRNA049441339 │\n",
       "│ …               │\n",
       "│ Os12g0641200    │\n",
       "│ Os12g0641300    │\n",
       "│ Os12g0641400    │\n",
       "│ Os12g0641500    │\n",
       "│ Os12g0641600    │\n",
       "└─────────────────┘"
      ]
     },
     "metadata": {},
     "output_type": "display_data"
    }
   ],
   "source": [
    "gene_list = pl.read_csv(\n",
    "    \"../test/oryza_sativa_test_202509/oryza_sativa_gene_list_r60.tsv\", \n",
    "    separator=\"\\t\"\n",
    ").rename(\n",
    "    {\n",
    "        \"Gene stable ID\": \"From\",\n",
    "    }\n",
    ")\n",
    "\n",
    "display(gene_list)"
   ]
  },
  {
   "cell_type": "code",
   "execution_count": 3,
   "metadata": {},
   "outputs": [
    {
     "data": {
      "text/html": [
       "<div><style>\n",
       ".dataframe > thead > tr,\n",
       ".dataframe > tbody > tr {\n",
       "  text-align: right;\n",
       "  white-space: pre-wrap;\n",
       "}\n",
       "</style>\n",
       "<small>shape: (100, 1)</small><table border=\"1\" class=\"dataframe\"><thead><tr><th>From</th></tr><tr><td>str</td></tr></thead><tbody><tr><td>&quot;Os12g0269700&quot;</td></tr><tr><td>&quot;Os10g0410900&quot;</td></tr><tr><td>&quot;Os05g0403000&quot;</td></tr><tr><td>&quot;Os06g0127250&quot;</td></tr><tr><td>&quot;Os02g0249600&quot;</td></tr><tr><td>&hellip;</td></tr><tr><td>&quot;Os07g0581300&quot;</td></tr><tr><td>&quot;Os03g0811600&quot;</td></tr><tr><td>&quot;Os01g0322300&quot;</td></tr><tr><td>&quot;Os07g0655300&quot;</td></tr><tr><td>&quot;Os01g0875300&quot;</td></tr></tbody></table></div>"
      ],
      "text/plain": [
       "shape: (100, 1)\n",
       "┌──────────────┐\n",
       "│ From         │\n",
       "│ ---          │\n",
       "│ str          │\n",
       "╞══════════════╡\n",
       "│ Os12g0269700 │\n",
       "│ Os10g0410900 │\n",
       "│ Os05g0403000 │\n",
       "│ Os06g0127250 │\n",
       "│ Os02g0249600 │\n",
       "│ …            │\n",
       "│ Os07g0581300 │\n",
       "│ Os03g0811600 │\n",
       "│ Os01g0322300 │\n",
       "│ Os07g0655300 │\n",
       "│ Os01g0875300 │\n",
       "└──────────────┘"
      ]
     },
     "metadata": {},
     "output_type": "display_data"
    }
   ],
   "source": [
    "random_genes = gene_list.sample(n=100)\n",
    "\n",
    "display(random_genes)"
   ]
  },
  {
   "cell_type": "code",
   "execution_count": 4,
   "metadata": {},
   "outputs": [],
   "source": [
    "random_genes.write_csv(\n",
    "    \"../test/oryza_sativa_test_100genes_202509/oryza_sativa_random_100genes_list.tsv\", \n",
    "    separator=\"\\t\"\n",
    ")"
   ]
  }
 ],
 "metadata": {
  "kernelspec": {
   "display_name": "Python 3",
   "language": "python",
   "name": "python3"
  },
  "language_info": {
   "codemirror_mode": {
    "name": "ipython",
    "version": 3
   },
   "file_extension": ".py",
   "mimetype": "text/x-python",
   "name": "python",
   "nbconvert_exporter": "python",
   "pygments_lexer": "ipython3",
   "version": "3.11.4"
  }
 },
 "nbformat": 4,
 "nbformat_minor": 2
}
