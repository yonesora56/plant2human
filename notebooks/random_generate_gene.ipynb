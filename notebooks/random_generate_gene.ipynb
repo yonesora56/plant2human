{
 "cells": [
  {
   "cell_type": "code",
   "execution_count": 2,
   "metadata": {},
   "outputs": [],
   "source": [
    "import polars as pl"
   ]
  },
  {
   "cell_type": "code",
   "execution_count": 3,
   "metadata": {},
   "outputs": [
    {
     "data": {
      "text/html": [
       "<div><style>\n",
       ".dataframe > thead > tr,\n",
       ".dataframe > tbody > tr {\n",
       "  text-align: right;\n",
       "  white-space: pre-wrap;\n",
       "}\n",
       "</style>\n",
       "<small>shape: (38_993, 1)</small><table border=\"1\" class=\"dataframe\"><thead><tr><th>From</th></tr><tr><td>str</td></tr></thead><tbody><tr><td>&quot;ENSRNA049440515&quot;</td></tr><tr><td>&quot;ENSRNA049440716&quot;</td></tr><tr><td>&quot;ENSRNA049441102&quot;</td></tr><tr><td>&quot;ENSRNA049441259&quot;</td></tr><tr><td>&quot;ENSRNA049441339&quot;</td></tr><tr><td>&hellip;</td></tr><tr><td>&quot;Os12g0641200&quot;</td></tr><tr><td>&quot;Os12g0641300&quot;</td></tr><tr><td>&quot;Os12g0641400&quot;</td></tr><tr><td>&quot;Os12g0641500&quot;</td></tr><tr><td>&quot;Os12g0641600&quot;</td></tr></tbody></table></div>"
      ],
      "text/plain": [
       "shape: (38_993, 1)\n",
       "┌─────────────────┐\n",
       "│ From            │\n",
       "│ ---             │\n",
       "│ str             │\n",
       "╞═════════════════╡\n",
       "│ ENSRNA049440515 │\n",
       "│ ENSRNA049440716 │\n",
       "│ ENSRNA049441102 │\n",
       "│ ENSRNA049441259 │\n",
       "│ ENSRNA049441339 │\n",
       "│ …               │\n",
       "│ Os12g0641200    │\n",
       "│ Os12g0641300    │\n",
       "│ Os12g0641400    │\n",
       "│ Os12g0641500    │\n",
       "│ Os12g0641600    │\n",
       "└─────────────────┘"
      ]
     },
     "metadata": {},
     "output_type": "display_data"
    }
   ],
   "source": [
    "gene_list = pl.read_csv(\n",
    "    \"./oryza_sativa_test/oryza_sativa_gene_list_r60.tsv\", separator=\"\\t\"\n",
    ").rename(\n",
    "    {\n",
    "        \"Gene stable ID\": \"From\",\n",
    "    }\n",
    ")\n",
    "\n",
    "display(gene_list)"
   ]
  },
  {
   "cell_type": "code",
   "execution_count": 4,
   "metadata": {},
   "outputs": [
    {
     "data": {
      "text/html": [
       "<div><style>\n",
       ".dataframe > thead > tr,\n",
       ".dataframe > tbody > tr {\n",
       "  text-align: right;\n",
       "  white-space: pre-wrap;\n",
       "}\n",
       "</style>\n",
       "<small>shape: (10, 1)</small><table border=\"1\" class=\"dataframe\"><thead><tr><th>From</th></tr><tr><td>str</td></tr></thead><tbody><tr><td>&quot;Os11g0621825&quot;</td></tr><tr><td>&quot;Os06g0114066&quot;</td></tr><tr><td>&quot;Os06g0486800&quot;</td></tr><tr><td>&quot;Os08g0107100&quot;</td></tr><tr><td>&quot;Os02g0644466&quot;</td></tr><tr><td>&quot;Os04g0531500&quot;</td></tr><tr><td>&quot;Os09g0321500&quot;</td></tr><tr><td>&quot;Os08g0288500&quot;</td></tr><tr><td>&quot;Os12g0503101&quot;</td></tr><tr><td>&quot;Os09g0428266&quot;</td></tr></tbody></table></div>"
      ],
      "text/plain": [
       "shape: (10, 1)\n",
       "┌──────────────┐\n",
       "│ From         │\n",
       "│ ---          │\n",
       "│ str          │\n",
       "╞══════════════╡\n",
       "│ Os11g0621825 │\n",
       "│ Os06g0114066 │\n",
       "│ Os06g0486800 │\n",
       "│ Os08g0107100 │\n",
       "│ Os02g0644466 │\n",
       "│ Os04g0531500 │\n",
       "│ Os09g0321500 │\n",
       "│ Os08g0288500 │\n",
       "│ Os12g0503101 │\n",
       "│ Os09g0428266 │\n",
       "└──────────────┘"
      ]
     },
     "metadata": {},
     "output_type": "display_data"
    }
   ],
   "source": [
    "random_genes = gene_list.sample(n=10)\n",
    "\n",
    "display(random_genes)"
   ]
  },
  {
   "cell_type": "code",
   "execution_count": 6,
   "metadata": {},
   "outputs": [],
   "source": [
    "# random_genes.write_csv(\"./oryza_sativa_test/oryza_sativa_random_gene_list.tsv\", separator=\"\\t\")"
   ]
  },
  {
   "cell_type": "markdown",
   "metadata": {},
   "source": [
    "&nbsp;\n",
    "\n",
    "&nbsp;"
   ]
  },
  {
   "cell_type": "markdown",
   "metadata": {},
   "source": [
    "## Zea mays"
   ]
  },
  {
   "cell_type": "code",
   "execution_count": 8,
   "metadata": {},
   "outputs": [
    {
     "data": {
      "text/html": [
       "<div><style>\n",
       ".dataframe > thead > tr,\n",
       ".dataframe > tbody > tr {\n",
       "  text-align: right;\n",
       "  white-space: pre-wrap;\n",
       "}\n",
       "</style>\n",
       "<small>shape: (44_303, 1)</small><table border=\"1\" class=\"dataframe\"><thead><tr><th>From</th></tr><tr><td>str</td></tr></thead><tbody><tr><td>&quot;Zm00001eb000010&quot;</td></tr><tr><td>&quot;Zm00001eb000020&quot;</td></tr><tr><td>&quot;Zm00001eb000030&quot;</td></tr><tr><td>&quot;Zm00001eb000040&quot;</td></tr><tr><td>&quot;Zm00001eb000050&quot;</td></tr><tr><td>&hellip;</td></tr><tr><td>&quot;Zm00001eb442990&quot;</td></tr><tr><td>&quot;Zm00001eb443000&quot;</td></tr><tr><td>&quot;Zm00001eb443010&quot;</td></tr><tr><td>&quot;Zm00001eb443020&quot;</td></tr><tr><td>&quot;Zm00001eb443030&quot;</td></tr></tbody></table></div>"
      ],
      "text/plain": [
       "shape: (44_303, 1)\n",
       "┌─────────────────┐\n",
       "│ From            │\n",
       "│ ---             │\n",
       "│ str             │\n",
       "╞═════════════════╡\n",
       "│ Zm00001eb000010 │\n",
       "│ Zm00001eb000020 │\n",
       "│ Zm00001eb000030 │\n",
       "│ Zm00001eb000040 │\n",
       "│ Zm00001eb000050 │\n",
       "│ …               │\n",
       "│ Zm00001eb442990 │\n",
       "│ Zm00001eb443000 │\n",
       "│ Zm00001eb443010 │\n",
       "│ Zm00001eb443020 │\n",
       "│ Zm00001eb443030 │\n",
       "└─────────────────┘"
      ]
     },
     "metadata": {},
     "output_type": "display_data"
    }
   ],
   "source": [
    "gene_list_2 = pl.read_csv(\n",
    "    \"./zea_mays_test/zea_mays_gene_list_r60.tsv\", separator=\"\\t\"\n",
    ").rename(\n",
    "    {\n",
    "        \"Gene stable ID\": \"From\",\n",
    "    }\n",
    ")\n",
    "\n",
    "display(gene_list_2)"
   ]
  },
  {
   "cell_type": "code",
   "execution_count": 9,
   "metadata": {},
   "outputs": [
    {
     "data": {
      "text/html": [
       "<div><style>\n",
       ".dataframe > thead > tr,\n",
       ".dataframe > tbody > tr {\n",
       "  text-align: right;\n",
       "  white-space: pre-wrap;\n",
       "}\n",
       "</style>\n",
       "<small>shape: (100, 1)</small><table border=\"1\" class=\"dataframe\"><thead><tr><th>From</th></tr><tr><td>str</td></tr></thead><tbody><tr><td>&quot;Zm00001eb204330&quot;</td></tr><tr><td>&quot;Zm00001eb349830&quot;</td></tr><tr><td>&quot;Zm00001eb296320&quot;</td></tr><tr><td>&quot;Zm00001eb071640&quot;</td></tr><tr><td>&quot;Zm00001eb172900&quot;</td></tr><tr><td>&hellip;</td></tr><tr><td>&quot;Zm00001eb093360&quot;</td></tr><tr><td>&quot;Zm00001eb153500&quot;</td></tr><tr><td>&quot;Zm00001eb419930&quot;</td></tr><tr><td>&quot;Zm00001eb184670&quot;</td></tr><tr><td>&quot;Zm00001eb421170&quot;</td></tr></tbody></table></div>"
      ],
      "text/plain": [
       "shape: (100, 1)\n",
       "┌─────────────────┐\n",
       "│ From            │\n",
       "│ ---             │\n",
       "│ str             │\n",
       "╞═════════════════╡\n",
       "│ Zm00001eb204330 │\n",
       "│ Zm00001eb349830 │\n",
       "│ Zm00001eb296320 │\n",
       "│ Zm00001eb071640 │\n",
       "│ Zm00001eb172900 │\n",
       "│ …               │\n",
       "│ Zm00001eb093360 │\n",
       "│ Zm00001eb153500 │\n",
       "│ Zm00001eb419930 │\n",
       "│ Zm00001eb184670 │\n",
       "│ Zm00001eb421170 │\n",
       "└─────────────────┘"
      ]
     },
     "metadata": {},
     "output_type": "display_data"
    }
   ],
   "source": [
    "random_genes_2 = gene_list_2.sample(n=100)\n",
    "\n",
    "display(random_genes_2)\n",
    "# random_genes_2.write_csv(\"./zea_mays_test/zea_mays_random_gene_list.tsv\", separator=\"\\t\")\n"
   ]
  }
 ],
 "metadata": {
  "kernelspec": {
   "display_name": "Python 3",
   "language": "python",
   "name": "python3"
  },
  "language_info": {
   "codemirror_mode": {
    "name": "ipython",
    "version": 3
   },
   "file_extension": ".py",
   "mimetype": "text/x-python",
   "name": "python",
   "nbconvert_exporter": "python",
   "pygments_lexer": "ipython3",
   "version": "3.11.4"
  }
 },
 "nbformat": 4,
 "nbformat_minor": 2
}
