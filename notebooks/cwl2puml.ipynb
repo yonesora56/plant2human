{
 "cells": [
  {
   "cell_type": "code",
   "execution_count": 1,
   "id": "55980677",
   "metadata": {},
   "outputs": [],
   "source": [
    "import cwl_loader"
   ]
  },
  {
   "cell_type": "code",
   "execution_count": 2,
   "id": "f5056d94",
   "metadata": {},
   "outputs": [
    {
     "name": "stderr",
     "output_type": "stream",
     "text": [
      "\u001b[32m2025-09-28 03:51:08.251\u001b[0m | \u001b[34m\u001b[1mDEBUG   \u001b[0m | \u001b[36mcwl_loader\u001b[0m:\u001b[36mload_cwl_from_location\u001b[0m:\u001b[36m226\u001b[0m - \u001b[34m\u001b[1mLoading CWL document from ../Workflow/plant2human_v2.cwl...\u001b[0m\n",
      "\u001b[32m2025-09-28 03:51:08.256\u001b[0m | \u001b[34m\u001b[1mDEBUG   \u001b[0m | \u001b[36mcwl_loader\u001b[0m:\u001b[36m_load_cwl_from_stream\u001b[0m:\u001b[36m229\u001b[0m - \u001b[34m\u001b[1mReading stream from ../Workflow/plant2human_v2.cwl...\u001b[0m\n",
      "\u001b[32m2025-09-28 03:51:08.302\u001b[0m | \u001b[34m\u001b[1mDEBUG   \u001b[0m | \u001b[36mcwl_loader\u001b[0m:\u001b[36mload_cwl_from_stream\u001b[0m:\u001b[36m201\u001b[0m - \u001b[34m\u001b[1mCWL data of type <class 'ruamel.yaml.comments.CommentedMap'> successfully loaded from stream\u001b[0m\n",
      "\u001b[32m2025-09-28 03:51:08.302\u001b[0m | \u001b[34m\u001b[1mDEBUG   \u001b[0m | \u001b[36mcwl_loader\u001b[0m:\u001b[36mload_cwl_from_yaml\u001b[0m:\u001b[36m141\u001b[0m - \u001b[34m\u001b[1mNo needs to update the Raw CWL document since it targets already the v1.2\u001b[0m\n",
      "\u001b[32m2025-09-28 03:51:08.303\u001b[0m | \u001b[34m\u001b[1mDEBUG   \u001b[0m | \u001b[36mcwl_loader\u001b[0m:\u001b[36mload_cwl_from_yaml\u001b[0m:\u001b[36m143\u001b[0m - \u001b[34m\u001b[1mParsing the raw CWL document to the CWL Utils DOM...\u001b[0m\n",
      "\u001b[32m2025-09-28 03:51:08.311\u001b[0m | \u001b[34m\u001b[1mDEBUG   \u001b[0m | \u001b[36mcwl_loader\u001b[0m:\u001b[36mload_cwl_from_yaml\u001b[0m:\u001b[36m156\u001b[0m - \u001b[34m\u001b[1mRaw CWL document successfully parsed to the CWL Utils DOM!\u001b[0m\n",
      "\u001b[32m2025-09-28 03:51:08.312\u001b[0m | \u001b[34m\u001b[1mDEBUG   \u001b[0m | \u001b[36mcwl_loader\u001b[0m:\u001b[36mload_cwl_from_yaml\u001b[0m:\u001b[36m158\u001b[0m - \u001b[34m\u001b[1mDereferencing the steps[].run...\u001b[0m\n",
      "\u001b[32m2025-09-28 03:51:08.312\u001b[0m | \u001b[34m\u001b[1mDEBUG   \u001b[0m | \u001b[36mcwl_loader\u001b[0m:\u001b[36m_on_process\u001b[0m:\u001b[36m76\u001b[0m - \u001b[34m\u001b[1mChecking if Workflow/10_foldseek_easy_search_wf.cwl must be externally imported...\u001b[0m\n",
      "\u001b[32m2025-09-28 03:51:08.312\u001b[0m | \u001b[34m\u001b[1mDEBUG   \u001b[0m | \u001b[36mcwl_loader\u001b[0m:\u001b[36m_on_process\u001b[0m:\u001b[36m80\u001b[0m - \u001b[34m\u001b[1mrun_url: Workflow/10_foldseek_easy_search_wf.cwl - uri: ../Workflow/plant2human_v2.cwl\u001b[0m\n",
      "\u001b[32m2025-09-28 03:51:08.312\u001b[0m | \u001b[34m\u001b[1mDEBUG   \u001b[0m | \u001b[36mcwl_loader\u001b[0m:\u001b[36mload_cwl_from_location\u001b[0m:\u001b[36m226\u001b[0m - \u001b[34m\u001b[1mLoading CWL document from Workflow/10_foldseek_easy_search_wf.cwl...\u001b[0m\n"
     ]
    },
    {
     "ename": "ValueError",
     "evalue": "Invalid source Workflow/10_foldseek_easy_search_wf.cwl: not a URL or existing file path",
     "output_type": "error",
     "traceback": [
      "\u001b[31m---------------------------------------------------------------------------\u001b[39m",
      "\u001b[31mValueError\u001b[39m                                Traceback (most recent call last)",
      "\u001b[36mCell\u001b[39m\u001b[36m \u001b[39m\u001b[32mIn[2]\u001b[39m\u001b[32m, line 1\u001b[39m\n\u001b[32m----> \u001b[39m\u001b[32m1\u001b[39m cwl_document = \u001b[43mcwl_loader\u001b[49m\u001b[43m.\u001b[49m\u001b[43mload_cwl_from_location\u001b[49m\u001b[43m(\u001b[49m\n\u001b[32m      2\u001b[39m \u001b[43m    \u001b[49m\u001b[33;43m\"\u001b[39;49m\u001b[33;43m../Workflow/plant2human_v2.cwl\u001b[39;49m\u001b[33;43m\"\u001b[39;49m\n\u001b[32m      3\u001b[39m \u001b[43m)\u001b[49m\n",
      "\u001b[36mFile \u001b[39m\u001b[32m/usr/local/lib/python3.11/site-packages/cwl_loader/__init__.py:259\u001b[39m, in \u001b[36mload_cwl_from_location\u001b[39m\u001b[34m(path, cwl_version, sort)\u001b[39m\n\u001b[32m    257\u001b[39m \u001b[38;5;28;01melif\u001b[39;00m os.path.exists(path):\n\u001b[32m    258\u001b[39m     \u001b[38;5;28;01mwith\u001b[39;00m \u001b[38;5;28mopen\u001b[39m(path, \u001b[33m'\u001b[39m\u001b[33mr\u001b[39m\u001b[33m'\u001b[39m, encoding=__DEFAULT_ENCODING__) \u001b[38;5;28;01mas\u001b[39;00m f:\n\u001b[32m--> \u001b[39m\u001b[32m259\u001b[39m         \u001b[38;5;28;01mreturn\u001b[39;00m \u001b[43m_load_cwl_from_stream\u001b[49m\u001b[43m(\u001b[49m\u001b[43mf\u001b[49m\u001b[43m)\u001b[49m\n\u001b[32m    260\u001b[39m \u001b[38;5;28;01melse\u001b[39;00m:\n\u001b[32m    261\u001b[39m     \u001b[38;5;28;01mraise\u001b[39;00m \u001b[38;5;167;01mValueError\u001b[39;00m(\u001b[33mf\u001b[39m\u001b[33m\"\u001b[39m\u001b[33mInvalid source \u001b[39m\u001b[38;5;132;01m{\u001b[39;00mpath\u001b[38;5;132;01m}\u001b[39;00m\u001b[33m: not a URL or existing file path\u001b[39m\u001b[33m\"\u001b[39m)\n",
      "\u001b[36mFile \u001b[39m\u001b[32m/usr/local/lib/python3.11/site-packages/cwl_loader/__init__.py:231\u001b[39m, in \u001b[36mload_cwl_from_location.<locals>._load_cwl_from_stream\u001b[39m\u001b[34m(stream)\u001b[39m\n\u001b[32m    228\u001b[39m \u001b[38;5;28;01mdef\u001b[39;00m\u001b[38;5;250m \u001b[39m\u001b[34m_load_cwl_from_stream\u001b[39m(stream):\n\u001b[32m    229\u001b[39m     logger.debug(\u001b[33mf\u001b[39m\u001b[33m\"\u001b[39m\u001b[33mReading stream from \u001b[39m\u001b[38;5;132;01m{\u001b[39;00mpath\u001b[38;5;132;01m}\u001b[39;00m\u001b[33m...\u001b[39m\u001b[33m\"\u001b[39m)\n\u001b[32m--> \u001b[39m\u001b[32m231\u001b[39m     loaded = \u001b[43mload_cwl_from_stream\u001b[49m\u001b[43m(\u001b[49m\n\u001b[32m    232\u001b[39m \u001b[43m        \u001b[49m\u001b[43mcontent\u001b[49m\u001b[43m=\u001b[49m\u001b[43mstream\u001b[49m\u001b[43m,\u001b[49m\n\u001b[32m    233\u001b[39m \u001b[43m        \u001b[49m\u001b[43muri\u001b[49m\u001b[43m=\u001b[49m\u001b[43mpath\u001b[49m\u001b[43m,\u001b[49m\n\u001b[32m    234\u001b[39m \u001b[43m        \u001b[49m\u001b[43mcwl_version\u001b[49m\u001b[43m=\u001b[49m\u001b[43mcwl_version\u001b[49m\u001b[43m,\u001b[49m\n\u001b[32m    235\u001b[39m \u001b[43m        \u001b[49m\u001b[43msort\u001b[49m\u001b[43m=\u001b[49m\u001b[43msort\u001b[49m\n\u001b[32m    236\u001b[39m \u001b[43m    \u001b[49m\u001b[43m)\u001b[49m\n\u001b[32m    238\u001b[39m     logger.debug(\u001b[33mf\u001b[39m\u001b[33m\"\u001b[39m\u001b[33mStream from \u001b[39m\u001b[38;5;132;01m{\u001b[39;00mpath\u001b[38;5;132;01m}\u001b[39;00m\u001b[33m successfully load!\u001b[39m\u001b[33m\"\u001b[39m)\n\u001b[32m    240\u001b[39m     \u001b[38;5;28;01mreturn\u001b[39;00m loaded\n",
      "\u001b[36mFile \u001b[39m\u001b[32m/usr/local/lib/python3.11/site-packages/cwl_loader/__init__.py:203\u001b[39m, in \u001b[36mload_cwl_from_stream\u001b[39m\u001b[34m(content, uri, cwl_version, sort)\u001b[39m\n\u001b[32m    199\u001b[39m cwl_content = _yaml.load(content)\n\u001b[32m    201\u001b[39m logger.debug(\u001b[33mf\u001b[39m\u001b[33m\"\u001b[39m\u001b[33mCWL data of type \u001b[39m\u001b[38;5;132;01m{\u001b[39;00m\u001b[38;5;28mtype\u001b[39m(cwl_content)\u001b[38;5;132;01m}\u001b[39;00m\u001b[33m successfully loaded from stream\u001b[39m\u001b[33m\"\u001b[39m)\n\u001b[32m--> \u001b[39m\u001b[32m203\u001b[39m \u001b[38;5;28;01mreturn\u001b[39;00m \u001b[43mload_cwl_from_yaml\u001b[49m\u001b[43m(\u001b[49m\n\u001b[32m    204\u001b[39m \u001b[43m    \u001b[49m\u001b[43mraw_process\u001b[49m\u001b[43m=\u001b[49m\u001b[43mcwl_content\u001b[49m\u001b[43m,\u001b[49m\n\u001b[32m    205\u001b[39m \u001b[43m    \u001b[49m\u001b[43muri\u001b[49m\u001b[43m=\u001b[49m\u001b[43muri\u001b[49m\u001b[43m,\u001b[49m\n\u001b[32m    206\u001b[39m \u001b[43m    \u001b[49m\u001b[43mcwl_version\u001b[49m\u001b[43m=\u001b[49m\u001b[43mcwl_version\u001b[49m\u001b[43m,\u001b[49m\n\u001b[32m    207\u001b[39m \u001b[43m    \u001b[49m\u001b[43msort\u001b[49m\u001b[43m=\u001b[49m\u001b[43msort\u001b[49m\n\u001b[32m    208\u001b[39m \u001b[43m\u001b[49m\u001b[43m)\u001b[49m\n",
      "\u001b[36mFile \u001b[39m\u001b[32m/usr/local/lib/python3.11/site-packages/cwl_loader/__init__.py:160\u001b[39m, in \u001b[36mload_cwl_from_yaml\u001b[39m\u001b[34m(raw_process, uri, cwl_version, sort)\u001b[39m\n\u001b[32m    156\u001b[39m logger.debug(\u001b[33m'\u001b[39m\u001b[33mRaw CWL document successfully parsed to the CWL Utils DOM!\u001b[39m\u001b[33m'\u001b[39m)\n\u001b[32m    158\u001b[39m logger.debug(\u001b[33m'\u001b[39m\u001b[33mDereferencing the steps[].run...\u001b[39m\u001b[33m'\u001b[39m)\n\u001b[32m--> \u001b[39m\u001b[32m160\u001b[39m dereferenced_process = \u001b[43m_dereference_steps\u001b[49m\u001b[43m(\u001b[49m\n\u001b[32m    161\u001b[39m \u001b[43m    \u001b[49m\u001b[43mprocess\u001b[49m\u001b[43m=\u001b[49m\u001b[43mprocess\u001b[49m\u001b[43m,\u001b[49m\n\u001b[32m    162\u001b[39m \u001b[43m    \u001b[49m\u001b[43muri\u001b[49m\u001b[43m=\u001b[49m\u001b[43muri\u001b[49m\n\u001b[32m    163\u001b[39m \u001b[43m\u001b[49m\u001b[43m)\u001b[49m\n\u001b[32m    165\u001b[39m logger.debug(\u001b[33m'\u001b[39m\u001b[33msteps[].run successfully dereferenced! Dereferencing the FQNs...\u001b[39m\u001b[33m'\u001b[39m)\n\u001b[32m    167\u001b[39m remove_refs(dereferenced_process)\n",
      "\u001b[36mFile \u001b[39m\u001b[32m/usr/local/lib/python3.11/site-packages/cwl_loader/__init__.py:104\u001b[39m, in \u001b[36m_dereference_steps\u001b[39m\u001b[34m(process, uri)\u001b[39m\n\u001b[32m    102\u001b[39m         _on_process(p, result)\n\u001b[32m    103\u001b[39m \u001b[38;5;28;01melse\u001b[39;00m:\n\u001b[32m--> \u001b[39m\u001b[32m104\u001b[39m      \u001b[43m_on_process\u001b[49m\u001b[43m(\u001b[49m\u001b[43mprocess\u001b[49m\u001b[43m,\u001b[49m\u001b[43m \u001b[49m\u001b[43mresult\u001b[49m\u001b[43m)\u001b[49m\n\u001b[32m    106\u001b[39m \u001b[38;5;28;01mreturn\u001b[39;00m result\n",
      "\u001b[36mFile \u001b[39m\u001b[32m/usr/local/lib/python3.11/site-packages/cwl_loader/__init__.py:83\u001b[39m, in \u001b[36m_dereference_steps.<locals>._on_process\u001b[39m\u001b[34m(p, accumulator)\u001b[39m\n\u001b[32m     80\u001b[39m logger.debug(\u001b[33mf\u001b[39m\u001b[33m\"\u001b[39m\u001b[33mrun_url: \u001b[39m\u001b[38;5;132;01m{\u001b[39;00mrun_url\u001b[38;5;132;01m}\u001b[39;00m\u001b[33m - uri: \u001b[39m\u001b[38;5;132;01m{\u001b[39;00muri\u001b[38;5;132;01m}\u001b[39;00m\u001b[33m\"\u001b[39m)\n\u001b[32m     82\u001b[39m \u001b[38;5;28;01mif\u001b[39;00m run_url \u001b[38;5;129;01mand\u001b[39;00m \u001b[38;5;129;01mnot\u001b[39;00m uri == run_url:\n\u001b[32m---> \u001b[39m\u001b[32m83\u001b[39m     referenced = \u001b[43mload_cwl_from_location\u001b[49m\u001b[43m(\u001b[49m\u001b[43mrun_url\u001b[49m\u001b[43m)\u001b[49m\n\u001b[32m     85\u001b[39m     \u001b[38;5;28;01mif\u001b[39;00m \u001b[38;5;28misinstance\u001b[39m(referenced, \u001b[38;5;28mlist\u001b[39m):\n\u001b[32m     86\u001b[39m         accumulator += referenced\n",
      "\u001b[36mFile \u001b[39m\u001b[32m/usr/local/lib/python3.11/site-packages/cwl_loader/__init__.py:261\u001b[39m, in \u001b[36mload_cwl_from_location\u001b[39m\u001b[34m(path, cwl_version, sort)\u001b[39m\n\u001b[32m    259\u001b[39m         \u001b[38;5;28;01mreturn\u001b[39;00m _load_cwl_from_stream(f)\n\u001b[32m    260\u001b[39m \u001b[38;5;28;01melse\u001b[39;00m:\n\u001b[32m--> \u001b[39m\u001b[32m261\u001b[39m     \u001b[38;5;28;01mraise\u001b[39;00m \u001b[38;5;167;01mValueError\u001b[39;00m(\u001b[33mf\u001b[39m\u001b[33m\"\u001b[39m\u001b[33mInvalid source \u001b[39m\u001b[38;5;132;01m{\u001b[39;00mpath\u001b[38;5;132;01m}\u001b[39;00m\u001b[33m: not a URL or existing file path\u001b[39m\u001b[33m\"\u001b[39m)\n",
      "\u001b[31mValueError\u001b[39m: Invalid source Workflow/10_foldseek_easy_search_wf.cwl: not a URL or existing file path"
     ]
    }
   ],
   "source": [
    "cwl_document = cwl_loader.load_cwl_from_location(\n",
    "    \"../Workflow/plant2human_v2.cwl\"\n",
    ")"
   ]
  }
 ],
 "metadata": {
  "kernelspec": {
   "display_name": "Python 3",
   "language": "python",
   "name": "python3"
  },
  "language_info": {
   "codemirror_mode": {
    "name": "ipython",
    "version": 3
   },
   "file_extension": ".py",
   "mimetype": "text/x-python",
   "name": "python",
   "nbconvert_exporter": "python",
   "pygments_lexer": "ipython3",
   "version": "3.11.4"
  }
 },
 "nbformat": 4,
 "nbformat_minor": 5
}
