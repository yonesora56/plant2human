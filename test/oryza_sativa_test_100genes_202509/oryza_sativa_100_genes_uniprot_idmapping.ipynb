{
 "cells": [
  {
   "cell_type": "code",
   "execution_count": 1,
   "id": "9a3efa9e",
   "metadata": {
    "execution": {
     "iopub.execute_input": "2025-09-03T07:09:03.597368Z",
     "iopub.status.busy": "2025-09-03T07:09:03.596495Z",
     "iopub.status.idle": "2025-09-03T07:09:03.678283Z",
     "shell.execute_reply": "2025-09-03T07:09:03.678096Z"
    },
    "papermill": {
     "duration": 0.093746,
     "end_time": "2025-09-03T07:09:03.678784",
     "exception": false,
     "start_time": "2025-09-03T07:09:03.585038",
     "status": "completed"
    },
    "tags": []
   },
   "outputs": [],
   "source": [
    "import time\n",
    "import polars as pl\n",
    "import requests\n",
    "import json\n",
    "import pathlib\n",
    "from typing import List, Tuple\n",
    "from unipressed import IdMappingClient"
   ]
  },
  {
   "cell_type": "code",
   "execution_count": 2,
   "id": "5363986a",
   "metadata": {
    "execution": {
     "iopub.execute_input": "2025-09-03T07:09:03.682100Z",
     "iopub.status.busy": "2025-09-03T07:09:03.681915Z",
     "iopub.status.idle": "2025-09-03T07:09:03.683678Z",
     "shell.execute_reply": "2025-09-03T07:09:03.683522Z"
    },
    "papermill": {
     "duration": 0.003623,
     "end_time": "2025-09-03T07:09:03.683949",
     "exception": false,
     "start_time": "2025-09-03T07:09:03.680326",
     "status": "completed"
    },
    "tags": [
     "parameters"
    ]
   },
   "outputs": [],
   "source": [
    "gene_id_tsv = \"../test/zea_mays_test/zea_mays_random_gene_list.tsv\"\n",
    "query_db = \"Ensembl_Genomes\"\n",
    "target_db = \"UniProtKB\"\n",
    "json_dir = \"zea_mays_random_gene_afinfo\"\n",
    "data_url = \"cifUrl\" # or \"pdbUrl\", \"bcifUrl\", \"paeImageUrl\", \"paeDocUrl\"\n",
    "structure_dir = \"zea_mays_random_gene_mmcif\"\n",
    "id_mapping_all_file = \"zea_mays_random_gene_idmapping_all.tsv\""
   ]
  },
  {
   "cell_type": "code",
   "execution_count": 3,
   "id": "0e6aa193",
   "metadata": {
    "execution": {
     "iopub.execute_input": "2025-09-03T07:09:03.688073Z",
     "iopub.status.busy": "2025-09-03T07:09:03.687928Z",
     "iopub.status.idle": "2025-09-03T07:09:03.689533Z",
     "shell.execute_reply": "2025-09-03T07:09:03.689394Z"
    },
    "papermill": {
     "duration": 0.004131,
     "end_time": "2025-09-03T07:09:03.689855",
     "exception": false,
     "start_time": "2025-09-03T07:09:03.685724",
     "status": "completed"
    },
    "tags": [
     "injected-parameters"
    ]
   },
   "outputs": [],
   "source": [
    "# Parameters\n",
    "gene_id_tsv = \"/tmp/fld2_0og/stgf1a0008b-654b-4981-ac61-58dbc6b5b586/oryza_sativa_random_100genes_list.tsv\"\n",
    "query_db = \"Ensembl_Genomes\"\n",
    "target_db = \"UniProtKB\"\n",
    "json_dir = \"os_100_genes_afinfo_json\"\n",
    "data_url = \"cifUrl\"\n",
    "structure_dir = \"os_100_genes_mmcif\"\n",
    "id_mapping_all_file = \"os_100_genes_idmapping_all.tsv\"\n"
   ]
  },
  {
   "cell_type": "markdown",
   "id": "e8ae7c30",
   "metadata": {
    "papermill": {
     "duration": 0.001189,
     "end_time": "2025-09-03T07:09:03.692315",
     "exception": false,
     "start_time": "2025-09-03T07:09:03.691126",
     "status": "completed"
    },
    "tags": []
   },
   "source": [
    "&nbsp;\n",
    "\n",
    "&nbsp;"
   ]
  },
  {
   "cell_type": "markdown",
   "id": "df4784ca",
   "metadata": {
    "papermill": {
     "duration": 0.001118,
     "end_time": "2025-09-03T07:09:03.694640",
     "exception": false,
     "start_time": "2025-09-03T07:09:03.693522",
     "status": "completed"
    },
    "tags": []
   },
   "source": [
    "## 1. UniProt ID mapping step"
   ]
  },
  {
   "cell_type": "code",
   "execution_count": 4,
   "id": "7da09717",
   "metadata": {
    "execution": {
     "iopub.execute_input": "2025-09-03T07:09:03.697277Z",
     "iopub.status.busy": "2025-09-03T07:09:03.697179Z",
     "iopub.status.idle": "2025-09-03T07:09:03.699009Z",
     "shell.execute_reply": "2025-09-03T07:09:03.698859Z"
    },
    "papermill": {
     "duration": 0.003721,
     "end_time": "2025-09-03T07:09:03.699425",
     "exception": false,
     "start_time": "2025-09-03T07:09:03.695704",
     "status": "completed"
    },
    "tags": [
     "Function"
    ]
   },
   "outputs": [],
   "source": [
    "def chunk_list(lst: List, chunk_size: int) -> List[List]:\n",
    "    \"\"\"Split a gene list into chunks\"\"\"\n",
    "    return [lst[i:i + chunk_size] for i in range(0, len(lst), chunk_size)]"
   ]
  },
  {
   "cell_type": "code",
   "execution_count": 5,
   "id": "7e5c4cf6",
   "metadata": {
    "execution": {
     "iopub.execute_input": "2025-09-03T07:09:03.702128Z",
     "iopub.status.busy": "2025-09-03T07:09:03.702012Z",
     "iopub.status.idle": "2025-09-03T07:09:03.704566Z",
     "shell.execute_reply": "2025-09-03T07:09:03.704444Z"
    },
    "papermill": {
     "duration": 0.004201,
     "end_time": "2025-09-03T07:09:03.704818",
     "exception": false,
     "start_time": "2025-09-03T07:09:03.700617",
     "status": "completed"
    },
    "tags": []
   },
   "outputs": [],
   "source": [
    "def batch_id_mapping(from_db: str, to_db: str, ids: List[str], chunk_size: int = 100) -> Tuple[pl.DataFrame, List[str]]:\n",
    "    \"\"\"function for batch id mapping\"\"\"\n",
    "    all_results = []\n",
    "    all_unmapped = []\n",
    "    chunked_ids = chunk_list(ids, chunk_size)\n",
    "\n",
    "    for i, chunk in enumerate(chunked_ids):\n",
    "        print(f\"Processing chunk {i+1}/{len(chunked_ids)}...\")\n",
    "        \n",
    "        # create request and run\n",
    "        request = IdMappingClient.submit(source=from_db, dest=to_db, ids=chunk)\n",
    "        \n",
    "        # process results\n",
    "        chunk_results = list(request.each_result())\n",
    "        mapped_results = [{\"from\": item[\"from\"], \"to\": item[\"to\"]} for item in chunk_results]\n",
    "        all_results.extend(mapped_results)\n",
    "\n",
    "        # record unmapped ids\n",
    "        mapped_ids = set(item[\"from\"] for item in mapped_results)\n",
    "        unmapped = [id for id in chunk if id not in mapped_ids]\n",
    "        all_unmapped.extend(unmapped)\n",
    "\n",
    "        # avoid API rate limit\n",
    "        time.sleep(3)\n",
    "\n",
    "    # convert results to DataFrame\n",
    "    final_df = pl.DataFrame(all_results)\n",
    "    return final_df, all_unmapped"
   ]
  },
  {
   "cell_type": "code",
   "execution_count": 6,
   "id": "a0f6374a",
   "metadata": {
    "execution": {
     "iopub.execute_input": "2025-09-03T07:09:03.707270Z",
     "iopub.status.busy": "2025-09-03T07:09:03.707177Z",
     "iopub.status.idle": "2025-09-03T07:09:17.258880Z",
     "shell.execute_reply": "2025-09-03T07:09:17.258410Z"
    },
    "papermill": {
     "duration": 13.554029,
     "end_time": "2025-09-03T07:09:17.259944",
     "exception": false,
     "start_time": "2025-09-03T07:09:03.705915",
     "status": "completed"
    },
    "tags": []
   },
   "outputs": [
    {
     "name": "stdout",
     "output_type": "stream",
     "text": [
      "Processing chunk 1/1...\n"
     ]
    },
    {
     "data": {
      "text/html": [
       "<div><style>\n",
       ".dataframe > thead > tr,\n",
       ".dataframe > tbody > tr {\n",
       "  text-align: right;\n",
       "  white-space: pre-wrap;\n",
       "}\n",
       "</style>\n",
       "<small>shape: (159, 2)</small><table border=\"1\" class=\"dataframe\"><thead><tr><th>from</th><th>to</th></tr><tr><td>str</td><td>str</td></tr></thead><tbody><tr><td>&quot;Os12g0269700&quot;</td><td>&quot;A0A0P0Y8T9&quot;</td></tr><tr><td>&quot;Os12g0269700&quot;</td><td>&quot;C7J9I2&quot;</td></tr><tr><td>&quot;Os10g0410900&quot;</td><td>&quot;A0A0P0XU49&quot;</td></tr><tr><td>&quot;Os05g0403000&quot;</td><td>&quot;B9FID2&quot;</td></tr><tr><td>&quot;Os05g0403000&quot;</td><td>&quot;Q6AUL2&quot;</td></tr><tr><td>&hellip;</td><td>&hellip;</td></tr><tr><td>&quot;Os01g0322300&quot;</td><td>&quot;A0A9K3Y6N1&quot;</td></tr><tr><td>&quot;Os01g0322300&quot;</td><td>&quot;Q657N1&quot;</td></tr><tr><td>&quot;Os07g0655300&quot;</td><td>&quot;B9FUL9&quot;</td></tr><tr><td>&quot;Os07g0655300&quot;</td><td>&quot;Q8H3E5&quot;</td></tr><tr><td>&quot;Os01g0875300&quot;</td><td>&quot;A0A0P0VB72&quot;</td></tr></tbody></table></div>"
      ],
      "text/plain": [
       "shape: (159, 2)\n",
       "┌──────────────┬────────────┐\n",
       "│ from         ┆ to         │\n",
       "│ ---          ┆ ---        │\n",
       "│ str          ┆ str        │\n",
       "╞══════════════╪════════════╡\n",
       "│ Os12g0269700 ┆ A0A0P0Y8T9 │\n",
       "│ Os12g0269700 ┆ C7J9I2     │\n",
       "│ Os10g0410900 ┆ A0A0P0XU49 │\n",
       "│ Os05g0403000 ┆ B9FID2     │\n",
       "│ Os05g0403000 ┆ Q6AUL2     │\n",
       "│ …            ┆ …          │\n",
       "│ Os01g0322300 ┆ A0A9K3Y6N1 │\n",
       "│ Os01g0322300 ┆ Q657N1     │\n",
       "│ Os07g0655300 ┆ B9FUL9     │\n",
       "│ Os07g0655300 ┆ Q8H3E5     │\n",
       "│ Os01g0875300 ┆ A0A0P0VB72 │\n",
       "└──────────────┴────────────┘"
      ]
     },
     "metadata": {},
     "output_type": "display_data"
    },
    {
     "data": {
      "text/plain": [
       "['Os03g0660050',\n",
       " 'ENSRNA049441959',\n",
       " 'ENSRNA049471020',\n",
       " 'ENSRNA049475823',\n",
       " 'ENSRNA049468095',\n",
       " 'Os02g0700350',\n",
       " 'Os02g0157700',\n",
       " 'Os03g0317700']"
      ]
     },
     "metadata": {},
     "output_type": "display_data"
    }
   ],
   "source": [
    "gene_ids = pl.read_csv(\n",
    "    gene_id_tsv,\n",
    "    separator='\\t'\n",
    ").get_column(\"From\").to_list()\n",
    "\n",
    "mapped_df, unmapped_ids = batch_id_mapping(\n",
    "    query_db,\n",
    "    target_db,\n",
    "    gene_ids\n",
    ")\n",
    "\n",
    "display(mapped_df)\n",
    "display(unmapped_ids)"
   ]
  },
  {
   "cell_type": "code",
   "execution_count": 7,
   "id": "438978bf",
   "metadata": {
    "execution": {
     "iopub.execute_input": "2025-09-03T07:09:17.269512Z",
     "iopub.status.busy": "2025-09-03T07:09:17.269317Z",
     "iopub.status.idle": "2025-09-03T07:09:17.277577Z",
     "shell.execute_reply": "2025-09-03T07:09:17.277116Z"
    },
    "papermill": {
     "duration": 0.013603,
     "end_time": "2025-09-03T07:09:17.278286",
     "exception": false,
     "start_time": "2025-09-03T07:09:17.264683",
     "status": "completed"
    },
    "tags": []
   },
   "outputs": [
    {
     "data": {
      "text/html": [
       "<div><style>\n",
       ".dataframe > thead > tr,\n",
       ".dataframe > tbody > tr {\n",
       "  text-align: right;\n",
       "  white-space: pre-wrap;\n",
       "}\n",
       "</style>\n",
       "<small>shape: (159, 2)</small><table border=\"1\" class=\"dataframe\"><thead><tr><th>From</th><th>UniProt Accession</th></tr><tr><td>str</td><td>str</td></tr></thead><tbody><tr><td>&quot;Os12g0269700&quot;</td><td>&quot;A0A0P0Y8T9&quot;</td></tr><tr><td>&quot;Os12g0269700&quot;</td><td>&quot;C7J9I2&quot;</td></tr><tr><td>&quot;Os10g0410900&quot;</td><td>&quot;A0A0P0XU49&quot;</td></tr><tr><td>&quot;Os05g0403000&quot;</td><td>&quot;B9FID2&quot;</td></tr><tr><td>&quot;Os05g0403000&quot;</td><td>&quot;Q6AUL2&quot;</td></tr><tr><td>&hellip;</td><td>&hellip;</td></tr><tr><td>&quot;Os01g0322300&quot;</td><td>&quot;A0A9K3Y6N1&quot;</td></tr><tr><td>&quot;Os01g0322300&quot;</td><td>&quot;Q657N1&quot;</td></tr><tr><td>&quot;Os07g0655300&quot;</td><td>&quot;B9FUL9&quot;</td></tr><tr><td>&quot;Os07g0655300&quot;</td><td>&quot;Q8H3E5&quot;</td></tr><tr><td>&quot;Os01g0875300&quot;</td><td>&quot;A0A0P0VB72&quot;</td></tr></tbody></table></div>"
      ],
      "text/plain": [
       "shape: (159, 2)\n",
       "┌──────────────┬───────────────────┐\n",
       "│ From         ┆ UniProt Accession │\n",
       "│ ---          ┆ ---               │\n",
       "│ str          ┆ str               │\n",
       "╞══════════════╪═══════════════════╡\n",
       "│ Os12g0269700 ┆ A0A0P0Y8T9        │\n",
       "│ Os12g0269700 ┆ C7J9I2            │\n",
       "│ Os10g0410900 ┆ A0A0P0XU49        │\n",
       "│ Os05g0403000 ┆ B9FID2            │\n",
       "│ Os05g0403000 ┆ Q6AUL2            │\n",
       "│ …            ┆ …                 │\n",
       "│ Os01g0322300 ┆ A0A9K3Y6N1        │\n",
       "│ Os01g0322300 ┆ Q657N1            │\n",
       "│ Os07g0655300 ┆ B9FUL9            │\n",
       "│ Os07g0655300 ┆ Q8H3E5            │\n",
       "│ Os01g0875300 ┆ A0A0P0VB72        │\n",
       "└──────────────┴───────────────────┘"
      ]
     },
     "metadata": {},
     "output_type": "display_data"
    }
   ],
   "source": [
    "mapped_df2 = mapped_df.rename(\n",
    "    {\n",
    "        \"from\": \"From\",\n",
    "        \"to\": \"UniProt Accession\"\n",
    "    }\n",
    ")\n",
    "\n",
    "display(mapped_df2)"
   ]
  },
  {
   "cell_type": "code",
   "execution_count": 8,
   "id": "42e9bb26",
   "metadata": {
    "execution": {
     "iopub.execute_input": "2025-09-03T07:09:17.284577Z",
     "iopub.status.busy": "2025-09-03T07:09:17.284435Z",
     "iopub.status.idle": "2025-09-03T07:09:17.286711Z",
     "shell.execute_reply": "2025-09-03T07:09:17.286319Z"
    },
    "papermill": {
     "duration": 0.005996,
     "end_time": "2025-09-03T07:09:17.287226",
     "exception": false,
     "start_time": "2025-09-03T07:09:17.281230",
     "status": "completed"
    },
    "tags": []
   },
   "outputs": [
    {
     "name": "stdout",
     "output_type": "stream",
     "text": [
      "False\n",
      "False\n"
     ]
    }
   ],
   "source": [
    "print(mapped_df.is_empty())\n",
    "print(len(unmapped_ids) == 0)\n"
   ]
  },
  {
   "cell_type": "markdown",
   "id": "8175e855",
   "metadata": {
    "papermill": {
     "duration": 0.002375,
     "end_time": "2025-09-03T07:09:17.292104",
     "exception": false,
     "start_time": "2025-09-03T07:09:17.289729",
     "status": "completed"
    },
    "tags": []
   },
   "source": [
    "&nbsp;\n",
    "\n",
    "&nbsp;"
   ]
  },
  {
   "cell_type": "markdown",
   "id": "f71d24a7",
   "metadata": {
    "papermill": {
     "duration": 0.002173,
     "end_time": "2025-09-03T07:09:17.296654",
     "exception": false,
     "start_time": "2025-09-03T07:09:17.294481",
     "status": "completed"
    },
    "tags": []
   },
   "source": [
    "## 2. UniProt re-mapping \n",
    "\n",
    "## 3. Concatenate the two dataframes\n",
    "\n",
    "## 4. AlphaFoldDB metadata JSON files"
   ]
  },
  {
   "cell_type": "code",
   "execution_count": 9,
   "id": "935cc57b",
   "metadata": {
    "execution": {
     "iopub.execute_input": "2025-09-03T07:09:17.301182Z",
     "iopub.status.busy": "2025-09-03T07:09:17.301087Z",
     "iopub.status.idle": "2025-09-03T07:09:17.305056Z",
     "shell.execute_reply": "2025-09-03T07:09:17.304726Z"
    },
    "papermill": {
     "duration": 0.006712,
     "end_time": "2025-09-03T07:09:17.305424",
     "exception": false,
     "start_time": "2025-09-03T07:09:17.298712",
     "status": "completed"
    },
    "tags": [
     "function"
    ]
   },
   "outputs": [],
   "source": [
    "def fetch_uniprot_data(ensembl_ids: List[str]) -> pl.DataFrame:\n",
    "    results = []\n",
    "\n",
    "    for id in ensembl_ids:\n",
    "        print(f\"Processing {id}...\")\n",
    "        url = (\n",
    "            f\"https://rest.uniprot.org/uniprotkb/search?\"\n",
    "            f\"query=gene:{id}&format=json\"\n",
    "        )\n",
    "        response = requests.get(url)\n",
    "        \n",
    "        if response.status_code == 200:\n",
    "            data = json.loads(response.text)\n",
    "            for item in data.get('results', []):\n",
    "                primary_accession = item.get('primaryAccession', '')\n",
    "                secondary_accessions = item.get('secondaryAccessions', [])\n",
    "                all_accessions = [primary_accession] + secondary_accessions\n",
    "                \n",
    "                for accession in all_accessions:\n",
    "                    entry = {\n",
    "                        \"From\": id,\n",
    "                        \"UniProt Accession\": accession\n",
    "                    }\n",
    "                    \n",
    "                    # Check if the accession is a match for the gene \n",
    "                    # (e.g. Os03g0293000 matches OrderedLocusNames)\n",
    "                    match_found = False\n",
    "                    for gene in item.get('genes', []):\n",
    "                        for locus in gene.get('orderedLocusNames', []):\n",
    "                            if locus.get('value', '') == id:\n",
    "                                match_found = True\n",
    "                                break\n",
    "                        if match_found:\n",
    "                            break\n",
    "                    \n",
    "                    if match_found:\n",
    "                        results.append(entry)\n",
    "        else:\n",
    "            print(f\"Error fetching data for {id}: {response.status_code}\")\n",
    "        \n",
    "        time.sleep(1)\n",
    "\n",
    "    return pl.DataFrame(results)"
   ]
  },
  {
   "cell_type": "code",
   "execution_count": 10,
   "id": "4ab8976f",
   "metadata": {
    "execution": {
     "iopub.execute_input": "2025-09-03T07:09:17.309705Z",
     "iopub.status.busy": "2025-09-03T07:09:17.309617Z",
     "iopub.status.idle": "2025-09-03T07:09:17.313426Z",
     "shell.execute_reply": "2025-09-03T07:09:17.313148Z"
    },
    "papermill": {
     "duration": 0.006481,
     "end_time": "2025-09-03T07:09:17.313861",
     "exception": false,
     "start_time": "2025-09-03T07:09:17.307380",
     "status": "completed"
    },
    "tags": []
   },
   "outputs": [],
   "source": [
    "def get_af_json(dataframe: pl.DataFrame, target_dir: str):\n",
    "    \"\"\"\n",
    "    Get JSON file from AlphaFoldDB\n",
    "    \"\"\"\n",
    "    pathlib.Path(target_dir).mkdir(parents=True, exist_ok=True)\n",
    "    \n",
    "    for row in dataframe.iter_rows():\n",
    "        gene_id = row[0]\n",
    "        uniprot_id = row[1]\n",
    "        \n",
    "        json_file_name = pathlib.Path(target_dir) / f\"{gene_id}_{uniprot_id}_info.json\"\n",
    "        \n",
    "        if json_file_name.exists():\n",
    "            message_1 = f\"{json_file_name} already exists\"\n",
    "            print(message_1)\n",
    "            continue\n",
    "        \n",
    "        request_url = f\"https://alphafold.ebi.ac.uk/api/prediction/{uniprot_id}\"\n",
    "        \n",
    "        try:\n",
    "            response = requests.get(request_url, headers={\"Accept\": \"application/json\"}, timeout=30)\n",
    "            response.raise_for_status()\n",
    "            \n",
    "            if response.text:\n",
    "                data = json.loads(response.text) # parse json\n",
    "                if isinstance(data, list) and len(data) > 0:\n",
    "                    message_2 = f\"AlphaFold ID {uniprot_id} found in AlphaFold\"\n",
    "                    print(message_2)\n",
    "                    with open(json_file_name, 'w') as f:\n",
    "                        json.dump(data[0], f, indent=4)\n",
    "                else:\n",
    "                    message_3 = f\"AlphaFold ID {uniprot_id} not found in AlphaFold\"\n",
    "                    print(message_3)\n",
    "            else:\n",
    "                message_4 = f\"Empty response for AlphaFold ID {uniprot_id}\"\n",
    "                print(message_4)\n",
    "        except requests.exceptions.RequestException as e:\n",
    "            message_5 = f\"Request failed: {e}\"\n",
    "            print(message_5)\n",
    "            message_6 = f\"AlphaFold ID {uniprot_id} not found in AlphaFold\"\n",
    "            print(message_6)\n",
    "        time.sleep(5)"
   ]
  },
  {
   "cell_type": "code",
   "execution_count": 11,
   "id": "7a27862a",
   "metadata": {
    "execution": {
     "iopub.execute_input": "2025-09-03T07:09:17.317810Z",
     "iopub.status.busy": "2025-09-03T07:09:17.317725Z",
     "iopub.status.idle": "2025-09-03T07:09:36.409031Z",
     "shell.execute_reply": "2025-09-03T07:09:36.408183Z"
    },
    "papermill": {
     "duration": 19.094511,
     "end_time": "2025-09-03T07:09:36.410201",
     "exception": false,
     "start_time": "2025-09-03T07:09:17.315690",
     "status": "completed"
    },
    "tags": []
   },
   "outputs": [
    {
     "name": "stdout",
     "output_type": "stream",
     "text": [
      "Processing Os03g0660050...\n"
     ]
    },
    {
     "name": "stdout",
     "output_type": "stream",
     "text": [
      "Processing ENSRNA049441959...\n"
     ]
    },
    {
     "name": "stdout",
     "output_type": "stream",
     "text": [
      "Processing ENSRNA049471020...\n"
     ]
    },
    {
     "name": "stdout",
     "output_type": "stream",
     "text": [
      "Processing ENSRNA049475823...\n"
     ]
    },
    {
     "name": "stdout",
     "output_type": "stream",
     "text": [
      "Processing ENSRNA049468095...\n"
     ]
    },
    {
     "name": "stdout",
     "output_type": "stream",
     "text": [
      "Processing Os02g0700350...\n"
     ]
    },
    {
     "name": "stdout",
     "output_type": "stream",
     "text": [
      "Processing Os02g0157700...\n"
     ]
    },
    {
     "name": "stdout",
     "output_type": "stream",
     "text": [
      "Processing Os03g0317700...\n"
     ]
    },
    {
     "data": {
      "text/html": [
       "<div><style>\n",
       ".dataframe > thead > tr,\n",
       ".dataframe > tbody > tr {\n",
       "  text-align: right;\n",
       "  white-space: pre-wrap;\n",
       "}\n",
       "</style>\n",
       "<small>shape: (2, 2)</small><table border=\"1\" class=\"dataframe\"><thead><tr><th>From</th><th>UniProt Accession</th></tr><tr><td>str</td><td>str</td></tr></thead><tbody><tr><td>&quot;Os02g0157700&quot;</td><td>&quot;B9F2U5&quot;</td></tr><tr><td>&quot;Os02g0157700&quot;</td><td>&quot;Q6ET52&quot;</td></tr></tbody></table></div>"
      ],
      "text/plain": [
       "shape: (2, 2)\n",
       "┌──────────────┬───────────────────┐\n",
       "│ From         ┆ UniProt Accession │\n",
       "│ ---          ┆ ---               │\n",
       "│ str          ┆ str               │\n",
       "╞══════════════╪═══════════════════╡\n",
       "│ Os02g0157700 ┆ B9F2U5            │\n",
       "│ Os02g0157700 ┆ Q6ET52            │\n",
       "└──────────────┴───────────────────┘"
      ]
     },
     "metadata": {},
     "output_type": "display_data"
    }
   ],
   "source": [
    "unmapped_df = fetch_uniprot_data(unmapped_ids)\n",
    "display(unmapped_df)"
   ]
  },
  {
   "cell_type": "code",
   "execution_count": 12,
   "id": "d8fd4524",
   "metadata": {
    "execution": {
     "iopub.execute_input": "2025-09-03T07:09:36.425447Z",
     "iopub.status.busy": "2025-09-03T07:09:36.425203Z",
     "iopub.status.idle": "2025-09-03T07:26:46.630817Z",
     "shell.execute_reply": "2025-09-03T07:26:46.630389Z"
    },
    "papermill": {
     "duration": 1030.2142,
     "end_time": "2025-09-03T07:26:46.631924",
     "exception": false,
     "start_time": "2025-09-03T07:09:36.417724",
     "status": "completed"
    },
    "tags": []
   },
   "outputs": [
    {
     "name": "stdout",
     "output_type": "stream",
     "text": [
      "Processing Os03g0660050...\n"
     ]
    },
    {
     "name": "stdout",
     "output_type": "stream",
     "text": [
      "Processing ENSRNA049441959...\n"
     ]
    },
    {
     "name": "stdout",
     "output_type": "stream",
     "text": [
      "Processing ENSRNA049471020...\n"
     ]
    },
    {
     "name": "stdout",
     "output_type": "stream",
     "text": [
      "Processing ENSRNA049475823...\n"
     ]
    },
    {
     "name": "stdout",
     "output_type": "stream",
     "text": [
      "Processing ENSRNA049468095...\n"
     ]
    },
    {
     "name": "stdout",
     "output_type": "stream",
     "text": [
      "Processing Os02g0700350...\n"
     ]
    },
    {
     "name": "stdout",
     "output_type": "stream",
     "text": [
      "Processing Os02g0157700...\n"
     ]
    },
    {
     "name": "stdout",
     "output_type": "stream",
     "text": [
      "Processing Os03g0317700...\n"
     ]
    },
    {
     "data": {
      "text/html": [
       "<div><style>\n",
       ".dataframe > thead > tr,\n",
       ".dataframe > tbody > tr {\n",
       "  text-align: right;\n",
       "  white-space: pre-wrap;\n",
       "}\n",
       "</style>\n",
       "<small>shape: (2, 2)</small><table border=\"1\" class=\"dataframe\"><thead><tr><th>From</th><th>UniProt Accession</th></tr><tr><td>str</td><td>str</td></tr></thead><tbody><tr><td>&quot;Os02g0157700&quot;</td><td>&quot;B9F2U5&quot;</td></tr><tr><td>&quot;Os02g0157700&quot;</td><td>&quot;Q6ET52&quot;</td></tr></tbody></table></div>"
      ],
      "text/plain": [
       "shape: (2, 2)\n",
       "┌──────────────┬───────────────────┐\n",
       "│ From         ┆ UniProt Accession │\n",
       "│ ---          ┆ ---               │\n",
       "│ str          ┆ str               │\n",
       "╞══════════════╪═══════════════════╡\n",
       "│ Os02g0157700 ┆ B9F2U5            │\n",
       "│ Os02g0157700 ┆ Q6ET52            │\n",
       "└──────────────┴───────────────────┘"
      ]
     },
     "metadata": {},
     "output_type": "display_data"
    },
    {
     "data": {
      "text/html": [
       "<div><style>\n",
       ".dataframe > thead > tr,\n",
       ".dataframe > tbody > tr {\n",
       "  text-align: right;\n",
       "  white-space: pre-wrap;\n",
       "}\n",
       "</style>\n",
       "<small>shape: (161, 2)</small><table border=\"1\" class=\"dataframe\"><thead><tr><th>From</th><th>UniProt Accession</th></tr><tr><td>str</td><td>str</td></tr></thead><tbody><tr><td>&quot;Os01g0104800&quot;</td><td>&quot;A0A0N7KC66&quot;</td></tr><tr><td>&quot;Os01g0104800&quot;</td><td>&quot;Q657Z6&quot;</td></tr><tr><td>&quot;Os01g0104800&quot;</td><td>&quot;Q658C6&quot;</td></tr><tr><td>&quot;Os01g0152300&quot;</td><td>&quot;Q9LGI2&quot;</td></tr><tr><td>&quot;Os01g0322300&quot;</td><td>&quot;A0A9K3Y6N1&quot;</td></tr><tr><td>&hellip;</td><td>&hellip;</td></tr><tr><td>&quot;Os12g0411700&quot;</td><td>&quot;Q2QT07&quot;</td></tr><tr><td>&quot;Os12g0566200&quot;</td><td>&quot;A0A0P0YBZ4&quot;</td></tr><tr><td>&quot;Os12g0577733&quot;</td><td>&quot;A0A0P0YBQ9&quot;</td></tr><tr><td>&quot;Os12g0586300&quot;</td><td>&quot;Q0IM90&quot;</td></tr><tr><td>&quot;Os12g0586300&quot;</td><td>&quot;Q2QMY1&quot;</td></tr></tbody></table></div>"
      ],
      "text/plain": [
       "shape: (161, 2)\n",
       "┌──────────────┬───────────────────┐\n",
       "│ From         ┆ UniProt Accession │\n",
       "│ ---          ┆ ---               │\n",
       "│ str          ┆ str               │\n",
       "╞══════════════╪═══════════════════╡\n",
       "│ Os01g0104800 ┆ A0A0N7KC66        │\n",
       "│ Os01g0104800 ┆ Q657Z6            │\n",
       "│ Os01g0104800 ┆ Q658C6            │\n",
       "│ Os01g0152300 ┆ Q9LGI2            │\n",
       "│ Os01g0322300 ┆ A0A9K3Y6N1        │\n",
       "│ …            ┆ …                 │\n",
       "│ Os12g0411700 ┆ Q2QT07            │\n",
       "│ Os12g0566200 ┆ A0A0P0YBZ4        │\n",
       "│ Os12g0577733 ┆ A0A0P0YBQ9        │\n",
       "│ Os12g0586300 ┆ Q0IM90            │\n",
       "│ Os12g0586300 ┆ Q2QMY1            │\n",
       "└──────────────┴───────────────────┘"
      ]
     },
     "metadata": {},
     "output_type": "display_data"
    },
    {
     "name": "stdout",
     "output_type": "stream",
     "text": [
      "AlphaFold ID A0A0N7KC66 found in AlphaFold\n"
     ]
    },
    {
     "name": "stdout",
     "output_type": "stream",
     "text": [
      "AlphaFold ID Q657Z6 found in AlphaFold\n"
     ]
    },
    {
     "name": "stdout",
     "output_type": "stream",
     "text": [
      "AlphaFold ID Q658C6 found in AlphaFold\n"
     ]
    },
    {
     "name": "stdout",
     "output_type": "stream",
     "text": [
      "AlphaFold ID Q9LGI2 found in AlphaFold\n"
     ]
    },
    {
     "name": "stdout",
     "output_type": "stream",
     "text": [
      "Request failed: 404 Client Error: Not Found for url: https://alphafold.ebi.ac.uk/api/prediction/A0A9K3Y6N1\n",
      "AlphaFold ID A0A9K3Y6N1 not found in AlphaFold\n"
     ]
    },
    {
     "name": "stdout",
     "output_type": "stream",
     "text": [
      "AlphaFold ID Q657N1 found in AlphaFold\n"
     ]
    },
    {
     "name": "stdout",
     "output_type": "stream",
     "text": [
      "AlphaFold ID A0A0N7KD66 found in AlphaFold\n"
     ]
    },
    {
     "name": "stdout",
     "output_type": "stream",
     "text": [
      "AlphaFold ID Q657K0 found in AlphaFold\n"
     ]
    },
    {
     "name": "stdout",
     "output_type": "stream",
     "text": [
      "AlphaFold ID A0A0P0V4A8 found in AlphaFold\n"
     ]
    },
    {
     "name": "stdout",
     "output_type": "stream",
     "text": [
      "Request failed: 404 Client Error: Not Found for url: https://alphafold.ebi.ac.uk/api/prediction/A0A8J8XFG3\n",
      "AlphaFold ID A0A8J8XFG3 not found in AlphaFold\n"
     ]
    },
    {
     "name": "stdout",
     "output_type": "stream",
     "text": [
      "AlphaFold ID Q5SN58 found in AlphaFold\n"
     ]
    },
    {
     "name": "stdout",
     "output_type": "stream",
     "text": [
      "Request failed: 404 Client Error: Not Found for url: https://alphafold.ebi.ac.uk/api/prediction/A0A8J8XDQ1\n",
      "AlphaFold ID A0A8J8XDQ1 not found in AlphaFold\n"
     ]
    },
    {
     "name": "stdout",
     "output_type": "stream",
     "text": [
      "AlphaFold ID B7FAC9 found in AlphaFold\n"
     ]
    },
    {
     "name": "stdout",
     "output_type": "stream",
     "text": [
      "AlphaFold ID A0A0P0VB72 found in AlphaFold\n"
     ]
    },
    {
     "name": "stdout",
     "output_type": "stream",
     "text": [
      "AlphaFold ID A0A0P0VCB7 found in AlphaFold\n"
     ]
    },
    {
     "name": "stdout",
     "output_type": "stream",
     "text": [
      "Request failed: 404 Client Error: Not Found for url: https://alphafold.ebi.ac.uk/api/prediction/B9EVY6\n",
      "AlphaFold ID B9EVY6 not found in AlphaFold\n"
     ]
    },
    {
     "name": "stdout",
     "output_type": "stream",
     "text": [
      "AlphaFold ID Q5JJP8 found in AlphaFold\n"
     ]
    },
    {
     "name": "stdout",
     "output_type": "stream",
     "text": [
      "Request failed: 404 Client Error: Not Found for url: https://alphafold.ebi.ac.uk/api/prediction/A3A2T4\n",
      "AlphaFold ID A3A2T4 not found in AlphaFold\n"
     ]
    },
    {
     "name": "stdout",
     "output_type": "stream",
     "text": [
      "AlphaFold ID Q6ZG90 found in AlphaFold\n"
     ]
    },
    {
     "name": "stdout",
     "output_type": "stream",
     "text": [
      "AlphaFold ID B9F2U5 found in AlphaFold\n"
     ]
    },
    {
     "name": "stdout",
     "output_type": "stream",
     "text": [
      "Request failed: 404 Client Error: Not Found for url: https://alphafold.ebi.ac.uk/api/prediction/Q6ET52\n",
      "AlphaFold ID Q6ET52 not found in AlphaFold\n"
     ]
    },
    {
     "name": "stdout",
     "output_type": "stream",
     "text": [
      "AlphaFold ID Q02897 found in AlphaFold\n"
     ]
    },
    {
     "name": "stdout",
     "output_type": "stream",
     "text": [
      "AlphaFold ID A0A5S6RCW4 found in AlphaFold\n"
     ]
    },
    {
     "name": "stdout",
     "output_type": "stream",
     "text": [
      "AlphaFold ID Q0E2D5 found in AlphaFold\n"
     ]
    },
    {
     "name": "stdout",
     "output_type": "stream",
     "text": [
      "AlphaFold ID A0A0P0VHQ5 found in AlphaFold\n"
     ]
    },
    {
     "name": "stdout",
     "output_type": "stream",
     "text": [
      "AlphaFold ID Q0E1Z2 found in AlphaFold\n"
     ]
    },
    {
     "name": "stdout",
     "output_type": "stream",
     "text": [
      "AlphaFold ID Q6K8A9 found in AlphaFold\n"
     ]
    },
    {
     "name": "stdout",
     "output_type": "stream",
     "text": [
      "AlphaFold ID A0A0N7KFI2 found in AlphaFold\n"
     ]
    },
    {
     "name": "stdout",
     "output_type": "stream",
     "text": [
      "AlphaFold ID A0A0P0VLF8 found in AlphaFold\n"
     ]
    },
    {
     "name": "stdout",
     "output_type": "stream",
     "text": [
      "Request failed: 404 Client Error: Not Found for url: https://alphafold.ebi.ac.uk/api/prediction/A0A0P0VNF3\n",
      "AlphaFold ID A0A0P0VNF3 not found in AlphaFold\n"
     ]
    },
    {
     "name": "stdout",
     "output_type": "stream",
     "text": [
      "AlphaFold ID Q6YUQ1 found in AlphaFold\n"
     ]
    },
    {
     "name": "stdout",
     "output_type": "stream",
     "text": [
      "AlphaFold ID Q6K7H2 found in AlphaFold\n"
     ]
    },
    {
     "name": "stdout",
     "output_type": "stream",
     "text": [
      "AlphaFold ID A0A0P0VQA4 found in AlphaFold\n"
     ]
    },
    {
     "name": "stdout",
     "output_type": "stream",
     "text": [
      "AlphaFold ID A0A0P0VQC6 found in AlphaFold\n"
     ]
    },
    {
     "name": "stdout",
     "output_type": "stream",
     "text": [
      "AlphaFold ID Q6K822 found in AlphaFold\n"
     ]
    },
    {
     "name": "stdout",
     "output_type": "stream",
     "text": [
      "AlphaFold ID Q6K826 found in AlphaFold\n"
     ]
    },
    {
     "name": "stdout",
     "output_type": "stream",
     "text": [
      "Request failed: 404 Client Error: Not Found for url: https://alphafold.ebi.ac.uk/api/prediction/A0A0P0VR64\n",
      "AlphaFold ID A0A0P0VR64 not found in AlphaFold\n"
     ]
    },
    {
     "name": "stdout",
     "output_type": "stream",
     "text": [
      "AlphaFold ID Q6K6B6 found in AlphaFold\n"
     ]
    },
    {
     "name": "stdout",
     "output_type": "stream",
     "text": [
      "AlphaFold ID Q0DW27 found in AlphaFold\n"
     ]
    },
    {
     "name": "stdout",
     "output_type": "stream",
     "text": [
      "AlphaFold ID Q10T57 found in AlphaFold\n"
     ]
    },
    {
     "name": "stdout",
     "output_type": "stream",
     "text": [
      "AlphaFold ID Q10P20 found in AlphaFold\n"
     ]
    },
    {
     "name": "stdout",
     "output_type": "stream",
     "text": [
      "Request failed: 404 Client Error: Not Found for url: https://alphafold.ebi.ac.uk/api/prediction/A0A8J8XMS3\n",
      "AlphaFold ID A0A8J8XMS3 not found in AlphaFold\n"
     ]
    },
    {
     "name": "stdout",
     "output_type": "stream",
     "text": [
      "AlphaFold ID Q10NK5 found in AlphaFold\n"
     ]
    },
    {
     "name": "stdout",
     "output_type": "stream",
     "text": [
      "AlphaFold ID A0A0P0VXL8 found in AlphaFold\n"
     ]
    },
    {
     "name": "stdout",
     "output_type": "stream",
     "text": [
      "Request failed: 404 Client Error: Not Found for url: https://alphafold.ebi.ac.uk/api/prediction/Q0DRN9\n",
      "AlphaFold ID Q0DRN9 not found in AlphaFold\n"
     ]
    },
    {
     "name": "stdout",
     "output_type": "stream",
     "text": [
      "AlphaFold ID Q10KW4 found in AlphaFold\n"
     ]
    },
    {
     "name": "stdout",
     "output_type": "stream",
     "text": [
      "AlphaFold ID A0A0P0VY76 found in AlphaFold\n"
     ]
    },
    {
     "name": "stdout",
     "output_type": "stream",
     "text": [
      "AlphaFold ID B7F8A3 found in AlphaFold\n"
     ]
    },
    {
     "name": "stdout",
     "output_type": "stream",
     "text": [
      "AlphaFold ID B9F9D8 found in AlphaFold\n"
     ]
    },
    {
     "name": "stdout",
     "output_type": "stream",
     "text": [
      "AlphaFold ID Q0DQJ4 found in AlphaFold\n"
     ]
    },
    {
     "name": "stdout",
     "output_type": "stream",
     "text": [
      "AlphaFold ID Q5W6J8 found in AlphaFold\n"
     ]
    },
    {
     "name": "stdout",
     "output_type": "stream",
     "text": [
      "AlphaFold ID Q6AUE3 found in AlphaFold\n"
     ]
    },
    {
     "name": "stdout",
     "output_type": "stream",
     "text": [
      "AlphaFold ID Q75J49 found in AlphaFold\n"
     ]
    },
    {
     "name": "stdout",
     "output_type": "stream",
     "text": [
      "AlphaFold ID A0A0P0W1I4 found in AlphaFold\n"
     ]
    },
    {
     "name": "stdout",
     "output_type": "stream",
     "text": [
      "Request failed: 404 Client Error: Not Found for url: https://alphafold.ebi.ac.uk/api/prediction/A3ALI3\n",
      "AlphaFold ID A3ALI3 not found in AlphaFold\n"
     ]
    },
    {
     "name": "stdout",
     "output_type": "stream",
     "text": [
      "AlphaFold ID Q7XXS3 found in AlphaFold\n"
     ]
    },
    {
     "name": "stdout",
     "output_type": "stream",
     "text": [
      "AlphaFold ID A0A0P0W2K8 found in AlphaFold\n"
     ]
    },
    {
     "name": "stdout",
     "output_type": "stream",
     "text": [
      "AlphaFold ID A0A0P0W2T0 found in AlphaFold\n"
     ]
    },
    {
     "name": "stdout",
     "output_type": "stream",
     "text": [
      "AlphaFold ID A0A0P0W487 found in AlphaFold\n"
     ]
    },
    {
     "name": "stdout",
     "output_type": "stream",
     "text": [
      "AlphaFold ID Q0DMF1 found in AlphaFold\n"
     ]
    },
    {
     "name": "stdout",
     "output_type": "stream",
     "text": [
      "AlphaFold ID Q7XZG9 found in AlphaFold\n"
     ]
    },
    {
     "name": "stdout",
     "output_type": "stream",
     "text": [
      "Request failed: 404 Client Error: Not Found for url: https://alphafold.ebi.ac.uk/api/prediction/Q0DLQ1\n",
      "AlphaFold ID Q0DLQ1 not found in AlphaFold\n"
     ]
    },
    {
     "name": "stdout",
     "output_type": "stream",
     "text": [
      "AlphaFold ID Q851X5 found in AlphaFold\n"
     ]
    },
    {
     "name": "stdout",
     "output_type": "stream",
     "text": [
      "AlphaFold ID A0A0P0W6N8 found in AlphaFold\n"
     ]
    },
    {
     "name": "stdout",
     "output_type": "stream",
     "text": [
      "AlphaFold ID A0A0P0WCE1 found in AlphaFold\n"
     ]
    },
    {
     "name": "stdout",
     "output_type": "stream",
     "text": [
      "AlphaFold ID Q0JBU4 found in AlphaFold\n"
     ]
    },
    {
     "name": "stdout",
     "output_type": "stream",
     "text": [
      "AlphaFold ID A0A0P0WCZ7 found in AlphaFold\n"
     ]
    },
    {
     "name": "stdout",
     "output_type": "stream",
     "text": [
      "AlphaFold ID Q0JBC2 found in AlphaFold\n"
     ]
    },
    {
     "name": "stdout",
     "output_type": "stream",
     "text": [
      "AlphaFold ID A0A0N7KJH9 found in AlphaFold\n"
     ]
    },
    {
     "name": "stdout",
     "output_type": "stream",
     "text": [
      "AlphaFold ID A0A0P0WDT6 found in AlphaFold\n"
     ]
    },
    {
     "name": "stdout",
     "output_type": "stream",
     "text": [
      "AlphaFold ID Q7XSQ8 found in AlphaFold\n"
     ]
    },
    {
     "name": "stdout",
     "output_type": "stream",
     "text": [
      "AlphaFold ID A0A0P0WE29 found in AlphaFold\n"
     ]
    },
    {
     "name": "stdout",
     "output_type": "stream",
     "text": [
      "AlphaFold ID Q0JAL1 found in AlphaFold\n"
     ]
    },
    {
     "name": "stdout",
     "output_type": "stream",
     "text": [
      "AlphaFold ID A0A0P0WEW1 found in AlphaFold\n"
     ]
    },
    {
     "name": "stdout",
     "output_type": "stream",
     "text": [
      "Request failed: 404 Client Error: Not Found for url: https://alphafold.ebi.ac.uk/api/prediction/A0A8J8Y9H6\n",
      "AlphaFold ID A0A8J8Y9H6 not found in AlphaFold\n"
     ]
    },
    {
     "name": "stdout",
     "output_type": "stream",
     "text": [
      "AlphaFold ID B9FCD7 found in AlphaFold\n"
     ]
    },
    {
     "name": "stdout",
     "output_type": "stream",
     "text": [
      "AlphaFold ID A0A0P0WI65 found in AlphaFold\n"
     ]
    },
    {
     "name": "stdout",
     "output_type": "stream",
     "text": [
      "AlphaFold ID A0A0P0WID2 found in AlphaFold\n"
     ]
    },
    {
     "name": "stdout",
     "output_type": "stream",
     "text": [
      "AlphaFold ID Q0DKK4 found in AlphaFold\n"
     ]
    },
    {
     "name": "stdout",
     "output_type": "stream",
     "text": [
      "AlphaFold ID Q75M00 found in AlphaFold\n"
     ]
    },
    {
     "name": "stdout",
     "output_type": "stream",
     "text": [
      "AlphaFold ID A0A0P0WIH9 found in AlphaFold\n"
     ]
    },
    {
     "name": "stdout",
     "output_type": "stream",
     "text": [
      "AlphaFold ID Q0DKG4 found in AlphaFold\n"
     ]
    },
    {
     "name": "stdout",
     "output_type": "stream",
     "text": [
      "AlphaFold ID A0A0P0WJ00 found in AlphaFold\n"
     ]
    },
    {
     "name": "stdout",
     "output_type": "stream",
     "text": [
      "AlphaFold ID B9FID2 found in AlphaFold\n"
     ]
    },
    {
     "name": "stdout",
     "output_type": "stream",
     "text": [
      "AlphaFold ID Q6AUL2 found in AlphaFold\n"
     ]
    },
    {
     "name": "stdout",
     "output_type": "stream",
     "text": [
      "AlphaFold ID A0A0P0WME4 found in AlphaFold\n"
     ]
    },
    {
     "name": "stdout",
     "output_type": "stream",
     "text": [
      "AlphaFold ID A0A0P0WQU7 found in AlphaFold\n"
     ]
    },
    {
     "name": "stdout",
     "output_type": "stream",
     "text": [
      "AlphaFold ID A0A0P0WR51 found in AlphaFold\n"
     ]
    },
    {
     "name": "stdout",
     "output_type": "stream",
     "text": [
      "AlphaFold ID A0A0P0WRP3 found in AlphaFold\n"
     ]
    },
    {
     "name": "stdout",
     "output_type": "stream",
     "text": [
      "AlphaFold ID A0A0P0WV91 found in AlphaFold\n"
     ]
    },
    {
     "name": "stdout",
     "output_type": "stream",
     "text": [
      "AlphaFold ID A0A0P0WVK9 found in AlphaFold\n"
     ]
    },
    {
     "name": "stdout",
     "output_type": "stream",
     "text": [
      "AlphaFold ID A0A0P0WWQ6 found in AlphaFold\n"
     ]
    },
    {
     "name": "stdout",
     "output_type": "stream",
     "text": [
      "AlphaFold ID A0A0P0WWX7 found in AlphaFold\n"
     ]
    },
    {
     "name": "stdout",
     "output_type": "stream",
     "text": [
      "Request failed: 404 Client Error: Not Found for url: https://alphafold.ebi.ac.uk/api/prediction/B9FQW4\n",
      "AlphaFold ID B9FQW4 not found in AlphaFold\n"
     ]
    },
    {
     "name": "stdout",
     "output_type": "stream",
     "text": [
      "AlphaFold ID Q0D9H9 found in AlphaFold\n"
     ]
    },
    {
     "name": "stdout",
     "output_type": "stream",
     "text": [
      "AlphaFold ID A0A0P0X1N4 found in AlphaFold\n"
     ]
    },
    {
     "name": "stdout",
     "output_type": "stream",
     "text": [
      "AlphaFold ID Q0D935 found in AlphaFold\n"
     ]
    },
    {
     "name": "stdout",
     "output_type": "stream",
     "text": [
      "AlphaFold ID Q7F225 found in AlphaFold\n"
     ]
    },
    {
     "name": "stdout",
     "output_type": "stream",
     "text": [
      "AlphaFold ID A0A0P0X3M3 found in AlphaFold\n"
     ]
    },
    {
     "name": "stdout",
     "output_type": "stream",
     "text": [
      "AlphaFold ID Q7X7E6 found in AlphaFold\n"
     ]
    },
    {
     "name": "stdout",
     "output_type": "stream",
     "text": [
      "Request failed: 404 Client Error: Not Found for url: https://alphafold.ebi.ac.uk/api/prediction/A0A8J8XVT2\n",
      "AlphaFold ID A0A8J8XVT2 not found in AlphaFold\n"
     ]
    },
    {
     "name": "stdout",
     "output_type": "stream",
     "text": [
      "AlphaFold ID B9FXX1 found in AlphaFold\n"
     ]
    },
    {
     "name": "stdout",
     "output_type": "stream",
     "text": [
      "AlphaFold ID A0A0N7KNR3 found in AlphaFold\n"
     ]
    },
    {
     "name": "stdout",
     "output_type": "stream",
     "text": [
      "AlphaFold ID Q0D554 found in AlphaFold\n"
     ]
    },
    {
     "name": "stdout",
     "output_type": "stream",
     "text": [
      "AlphaFold ID Q7XI89 found in AlphaFold\n"
     ]
    },
    {
     "name": "stdout",
     "output_type": "stream",
     "text": [
      "Request failed: 404 Client Error: Not Found for url: https://alphafold.ebi.ac.uk/api/prediction/B9FUL9\n",
      "AlphaFold ID B9FUL9 not found in AlphaFold\n"
     ]
    },
    {
     "name": "stdout",
     "output_type": "stream",
     "text": [
      "AlphaFold ID Q8H3E5 found in AlphaFold\n"
     ]
    },
    {
     "name": "stdout",
     "output_type": "stream",
     "text": [
      "AlphaFold ID A0A0P0X9T2 found in AlphaFold\n"
     ]
    },
    {
     "name": "stdout",
     "output_type": "stream",
     "text": [
      "Request failed: 404 Client Error: Not Found for url: https://alphafold.ebi.ac.uk/api/prediction/Q0D3W5\n",
      "AlphaFold ID Q0D3W5 not found in AlphaFold\n"
     ]
    },
    {
     "name": "stdout",
     "output_type": "stream",
     "text": [
      "AlphaFold ID Q7EYE5 found in AlphaFold\n"
     ]
    },
    {
     "name": "stdout",
     "output_type": "stream",
     "text": [
      "AlphaFold ID Q84UP3 found in AlphaFold\n"
     ]
    },
    {
     "name": "stdout",
     "output_type": "stream",
     "text": [
      "AlphaFold ID B7EAV6 found in AlphaFold\n"
     ]
    },
    {
     "name": "stdout",
     "output_type": "stream",
     "text": [
      "AlphaFold ID C7J6E2 found in AlphaFold\n"
     ]
    },
    {
     "name": "stdout",
     "output_type": "stream",
     "text": [
      "AlphaFold ID Q0J793 found in AlphaFold\n"
     ]
    },
    {
     "name": "stdout",
     "output_type": "stream",
     "text": [
      "Request failed: 404 Client Error: Not Found for url: https://alphafold.ebi.ac.uk/api/prediction/Q6ZDI9\n",
      "AlphaFold ID Q6ZDI9 not found in AlphaFold\n"
     ]
    },
    {
     "name": "stdout",
     "output_type": "stream",
     "text": [
      "AlphaFold ID Q8GVW5 found in AlphaFold\n"
     ]
    },
    {
     "name": "stdout",
     "output_type": "stream",
     "text": [
      "AlphaFold ID A0A0P0XIQ3 found in AlphaFold\n"
     ]
    },
    {
     "name": "stdout",
     "output_type": "stream",
     "text": [
      "AlphaFold ID Q6ZIA3 found in AlphaFold\n"
     ]
    },
    {
     "name": "stdout",
     "output_type": "stream",
     "text": [
      "AlphaFold ID A0A0P0XIY8 found in AlphaFold\n"
     ]
    },
    {
     "name": "stdout",
     "output_type": "stream",
     "text": [
      "AlphaFold ID Q6YZI0 found in AlphaFold\n"
     ]
    },
    {
     "name": "stdout",
     "output_type": "stream",
     "text": [
      "AlphaFold ID Q0J381 found in AlphaFold\n"
     ]
    },
    {
     "name": "stdout",
     "output_type": "stream",
     "text": [
      "AlphaFold ID Q6ZXK6 found in AlphaFold\n"
     ]
    },
    {
     "name": "stdout",
     "output_type": "stream",
     "text": [
      "AlphaFold ID A0A0N7KQM5 found in AlphaFold\n"
     ]
    },
    {
     "name": "stdout",
     "output_type": "stream",
     "text": [
      "AlphaFold ID Q0J2E8 found in AlphaFold\n"
     ]
    },
    {
     "name": "stdout",
     "output_type": "stream",
     "text": [
      "AlphaFold ID A0A0P0XPX4 found in AlphaFold\n"
     ]
    },
    {
     "name": "stdout",
     "output_type": "stream",
     "text": [
      "AlphaFold ID A0A0P0XR04 found in AlphaFold\n"
     ]
    },
    {
     "name": "stdout",
     "output_type": "stream",
     "text": [
      "AlphaFold ID A0A0P0XRG0 found in AlphaFold\n"
     ]
    },
    {
     "name": "stdout",
     "output_type": "stream",
     "text": [
      "AlphaFold ID Q0IZR6 found in AlphaFold\n"
     ]
    },
    {
     "name": "stdout",
     "output_type": "stream",
     "text": [
      "AlphaFold ID A0A0P0XQK4 found in AlphaFold\n"
     ]
    },
    {
     "name": "stdout",
     "output_type": "stream",
     "text": [
      "AlphaFold ID A0A0P0XQQ2 found in AlphaFold\n"
     ]
    },
    {
     "name": "stdout",
     "output_type": "stream",
     "text": [
      "AlphaFold ID Q0IZI1 found in AlphaFold\n"
     ]
    },
    {
     "name": "stdout",
     "output_type": "stream",
     "text": [
      "AlphaFold ID A0A0P0XRX9 found in AlphaFold\n"
     ]
    },
    {
     "name": "stdout",
     "output_type": "stream",
     "text": [
      "AlphaFold ID A0A0P0XU49 found in AlphaFold\n"
     ]
    },
    {
     "name": "stdout",
     "output_type": "stream",
     "text": [
      "Request failed: 404 Client Error: Not Found for url: https://alphafold.ebi.ac.uk/api/prediction/A0A8J8YAA9\n",
      "AlphaFold ID A0A8J8YAA9 not found in AlphaFold\n"
     ]
    },
    {
     "name": "stdout",
     "output_type": "stream",
     "text": [
      "AlphaFold ID B9G5S0 found in AlphaFold\n"
     ]
    },
    {
     "name": "stdout",
     "output_type": "stream",
     "text": [
      "AlphaFold ID A0A0P0XUQ6 found in AlphaFold\n"
     ]
    },
    {
     "name": "stdout",
     "output_type": "stream",
     "text": [
      "AlphaFold ID A0A0P0XVR9 found in AlphaFold\n"
     ]
    },
    {
     "name": "stdout",
     "output_type": "stream",
     "text": [
      "AlphaFold ID Q7G228 found in AlphaFold\n"
     ]
    },
    {
     "name": "stdout",
     "output_type": "stream",
     "text": [
      "AlphaFold ID A0A5S6R8C2 found in AlphaFold\n"
     ]
    },
    {
     "name": "stdout",
     "output_type": "stream",
     "text": [
      "AlphaFold ID Q7XCK0 found in AlphaFold\n"
     ]
    },
    {
     "name": "stdout",
     "output_type": "stream",
     "text": [
      "AlphaFold ID A0A0P0XY12 found in AlphaFold\n"
     ]
    },
    {
     "name": "stdout",
     "output_type": "stream",
     "text": [
      "AlphaFold ID Q0IV40 found in AlphaFold\n"
     ]
    },
    {
     "name": "stdout",
     "output_type": "stream",
     "text": [
      "AlphaFold ID A0A0P0XYE1 found in AlphaFold\n"
     ]
    },
    {
     "name": "stdout",
     "output_type": "stream",
     "text": [
      "AlphaFold ID A0A0P0Y047 found in AlphaFold\n"
     ]
    },
    {
     "name": "stdout",
     "output_type": "stream",
     "text": [
      "AlphaFold ID Q0IU14 found in AlphaFold\n"
     ]
    },
    {
     "name": "stdout",
     "output_type": "stream",
     "text": [
      "AlphaFold ID Q2R9B5 found in AlphaFold\n"
     ]
    },
    {
     "name": "stdout",
     "output_type": "stream",
     "text": [
      "AlphaFold ID A0A0N7KSV2 found in AlphaFold\n"
     ]
    },
    {
     "name": "stdout",
     "output_type": "stream",
     "text": [
      "Request failed: 404 Client Error: Not Found for url: https://alphafold.ebi.ac.uk/api/prediction/A0A8J8XSM4\n",
      "AlphaFold ID A0A8J8XSM4 not found in AlphaFold\n"
     ]
    },
    {
     "name": "stdout",
     "output_type": "stream",
     "text": [
      "AlphaFold ID Q2R2M1 found in AlphaFold\n"
     ]
    },
    {
     "name": "stdout",
     "output_type": "stream",
     "text": [
      "AlphaFold ID A0A0P0Y3R8 found in AlphaFold\n"
     ]
    },
    {
     "name": "stdout",
     "output_type": "stream",
     "text": [
      "AlphaFold ID Q0IS17 found in AlphaFold\n"
     ]
    },
    {
     "name": "stdout",
     "output_type": "stream",
     "text": [
      "AlphaFold ID A0A0P0Y788 found in AlphaFold\n"
     ]
    },
    {
     "name": "stdout",
     "output_type": "stream",
     "text": [
      "AlphaFold ID A0A0P0Y8T9 found in AlphaFold\n"
     ]
    },
    {
     "name": "stdout",
     "output_type": "stream",
     "text": [
      "AlphaFold ID C7J9I2 found in AlphaFold\n"
     ]
    },
    {
     "name": "stdout",
     "output_type": "stream",
     "text": [
      "AlphaFold ID A0A0N7KTX9 found in AlphaFold\n"
     ]
    },
    {
     "name": "stdout",
     "output_type": "stream",
     "text": [
      "AlphaFold ID Q0INQ2 found in AlphaFold\n"
     ]
    },
    {
     "name": "stdout",
     "output_type": "stream",
     "text": [
      "AlphaFold ID Q2QT07 found in AlphaFold\n"
     ]
    },
    {
     "name": "stdout",
     "output_type": "stream",
     "text": [
      "AlphaFold ID A0A0P0YBZ4 found in AlphaFold\n"
     ]
    },
    {
     "name": "stdout",
     "output_type": "stream",
     "text": [
      "AlphaFold ID A0A0P0YBQ9 found in AlphaFold\n"
     ]
    },
    {
     "name": "stdout",
     "output_type": "stream",
     "text": [
      "AlphaFold ID Q0IM90 found in AlphaFold\n"
     ]
    },
    {
     "name": "stdout",
     "output_type": "stream",
     "text": [
      "AlphaFold ID Q2QMY1 found in AlphaFold\n"
     ]
    }
   ],
   "source": [
    "if len(unmapped_ids) > 0:\n",
    "    unmapped_df = fetch_uniprot_data(unmapped_ids)\n",
    "    display(unmapped_df)\n",
    "\n",
    "    # Concatenate the two dataframes\n",
    "    if not unmapped_df.is_empty():\n",
    "        id_mapping_df = pl.concat(\n",
    "            [\n",
    "                mapped_df2,\n",
    "                unmapped_df\n",
    "            ],\n",
    "            how=\"vertical_relaxed\"\n",
    "        ).sort(\n",
    "            by=\"From\",\n",
    "            descending=False\n",
    "        )\n",
    "        display(id_mapping_df)\n",
    "        # Get AlphaFold metadata JSON files\n",
    "        get_af_json(id_mapping_df, json_dir)\n",
    "    else:\n",
    "        print(\"unmapped dataframe is empty, skipping get_af_json.\")\n",
    "        get_af_json(mapped_df2, json_dir)\n",
    "else:\n",
    "    print(\"unmapped_ids is empty, skipping fetch_uniprot_data.\")\n",
    "    get_af_json(mapped_df2, json_dir)"
   ]
  },
  {
   "cell_type": "markdown",
   "id": "08a3e9e1",
   "metadata": {
    "papermill": {
     "duration": 0.008521,
     "end_time": "2025-09-03T07:26:46.651154",
     "exception": false,
     "start_time": "2025-09-03T07:26:46.642633",
     "status": "completed"
    },
    "tags": []
   },
   "source": [
    "&nbsp;\n",
    "\n",
    "&nbsp;"
   ]
  },
  {
   "cell_type": "markdown",
   "id": "6fc6f0df",
   "metadata": {
    "papermill": {
     "duration": 0.008022,
     "end_time": "2025-09-03T07:26:46.664757",
     "exception": false,
     "start_time": "2025-09-03T07:26:46.656735",
     "status": "completed"
    },
    "tags": []
   },
   "source": [
    "## 5. Download CIF files"
   ]
  },
  {
   "cell_type": "code",
   "execution_count": 13,
   "id": "0a27a662",
   "metadata": {
    "execution": {
     "iopub.execute_input": "2025-09-03T07:26:46.680771Z",
     "iopub.status.busy": "2025-09-03T07:26:46.680479Z",
     "iopub.status.idle": "2025-09-03T07:26:46.683773Z",
     "shell.execute_reply": "2025-09-03T07:26:46.683600Z"
    },
    "papermill": {
     "duration": 0.011299,
     "end_time": "2025-09-03T07:26:46.684090",
     "exception": false,
     "start_time": "2025-09-03T07:26:46.672791",
     "status": "completed"
    },
    "tags": []
   },
   "outputs": [],
   "source": [
    "def get_cif_file(json_dir_path: str, output_dir_path: str):\n",
    "    \"\"\"\n",
    "    Get CIF file from JSON files retrieved from AlphaFoldDB\n",
    "    \n",
    "    Args:\n",
    "        json_dir_path: Directory containing AlphaFold JSON metadata files\n",
    "        output_dir_path: Directory to save downloaded CIF files\n",
    "    \"\"\"\n",
    "    pathlib.Path(output_dir_path).mkdir(parents=True, exist_ok=True)\n",
    "\n",
    "    for json_file in pathlib.Path(json_dir_path).glob(\"*.json\"):\n",
    "        with open(json_file, \"r\", encoding=\"utf-8\") as f:\n",
    "            try:\n",
    "                data = json.load(f)\n",
    "                cif_url = data.get(data_url)\n",
    "                \n",
    "                if not cif_url:\n",
    "                    print(f\"No {data_url} found in {json_file}\")\n",
    "                    continue\n",
    "                    \n",
    "                # Extract filename from URL and create output path\n",
    "                cif_filename = pathlib.Path(cif_url).name\n",
    "                output_file = pathlib.Path(output_dir_path) / cif_filename\n",
    "                \n",
    "                # Skip if file already exists\n",
    "                if output_file.exists():\n",
    "                    print(f\"{output_file} already exists\")\n",
    "                    continue\n",
    "                \n",
    "                print(f\"Downloading {cif_url}\")\n",
    "                response = requests.get(cif_url, timeout=30)\n",
    "                response.raise_for_status()\n",
    "                \n",
    "                # Save CIF file\n",
    "                output_file.write_bytes(response.content)\n",
    "                print(f\"Saved {output_file}\")\n",
    "                \n",
    "            except json.JSONDecodeError:\n",
    "                print(f\"Error parsing JSON file: {json_file}\")\n",
    "            except requests.exceptions.RequestException as e:\n",
    "                print(f\"Error downloading CIF file: {e}\")\n",
    "            \n",
    "            # Rate limiting\n",
    "            time.sleep(1)"
   ]
  },
  {
   "cell_type": "code",
   "execution_count": 14,
   "id": "6971e51f",
   "metadata": {
    "execution": {
     "iopub.execute_input": "2025-09-03T07:26:46.696096Z",
     "iopub.status.busy": "2025-09-03T07:26:46.696000Z",
     "iopub.status.idle": "2025-09-03T07:30:36.570313Z",
     "shell.execute_reply": "2025-09-03T07:30:36.568959Z"
    },
    "papermill": {
     "duration": 229.882775,
     "end_time": "2025-09-03T07:30:36.572696",
     "exception": false,
     "start_time": "2025-09-03T07:26:46.689921",
     "status": "completed"
    },
    "tags": []
   },
   "outputs": [
    {
     "name": "stdout",
     "output_type": "stream",
     "text": [
      "Downloading https://alphafold.ebi.ac.uk/files/AF-Q2QMY1-F1-model_v4.cif\n"
     ]
    },
    {
     "name": "stdout",
     "output_type": "stream",
     "text": [
      "Saved os_100_genes_mmcif/AF-Q2QMY1-F1-model_v4.cif\n"
     ]
    },
    {
     "name": "stdout",
     "output_type": "stream",
     "text": [
      "Downloading https://alphafold.ebi.ac.uk/files/AF-Q0IM90-F1-model_v4.cif\n"
     ]
    },
    {
     "name": "stdout",
     "output_type": "stream",
     "text": [
      "Saved os_100_genes_mmcif/AF-Q0IM90-F1-model_v4.cif\n"
     ]
    },
    {
     "name": "stdout",
     "output_type": "stream",
     "text": [
      "Downloading https://alphafold.ebi.ac.uk/files/AF-A0A0P0YBQ9-F1-model_v4.cif\n"
     ]
    },
    {
     "name": "stdout",
     "output_type": "stream",
     "text": [
      "Saved os_100_genes_mmcif/AF-A0A0P0YBQ9-F1-model_v4.cif\n"
     ]
    },
    {
     "name": "stdout",
     "output_type": "stream",
     "text": [
      "Downloading https://alphafold.ebi.ac.uk/files/AF-A0A0P0YBZ4-F1-model_v4.cif\n"
     ]
    },
    {
     "name": "stdout",
     "output_type": "stream",
     "text": [
      "Saved os_100_genes_mmcif/AF-A0A0P0YBZ4-F1-model_v4.cif\n"
     ]
    },
    {
     "name": "stdout",
     "output_type": "stream",
     "text": [
      "Downloading https://alphafold.ebi.ac.uk/files/AF-Q2QT07-F1-model_v4.cif\n"
     ]
    },
    {
     "name": "stdout",
     "output_type": "stream",
     "text": [
      "Saved os_100_genes_mmcif/AF-Q2QT07-F1-model_v4.cif\n"
     ]
    },
    {
     "name": "stdout",
     "output_type": "stream",
     "text": [
      "Downloading https://alphafold.ebi.ac.uk/files/AF-Q0INQ2-F1-model_v4.cif\n"
     ]
    },
    {
     "name": "stdout",
     "output_type": "stream",
     "text": [
      "Saved os_100_genes_mmcif/AF-Q0INQ2-F1-model_v4.cif\n"
     ]
    },
    {
     "name": "stdout",
     "output_type": "stream",
     "text": [
      "Downloading https://alphafold.ebi.ac.uk/files/AF-A0A0N7KTX9-F1-model_v4.cif\n"
     ]
    },
    {
     "name": "stdout",
     "output_type": "stream",
     "text": [
      "Saved os_100_genes_mmcif/AF-A0A0N7KTX9-F1-model_v4.cif\n"
     ]
    },
    {
     "name": "stdout",
     "output_type": "stream",
     "text": [
      "Downloading https://alphafold.ebi.ac.uk/files/AF-C7J9I2-F1-model_v4.cif\n"
     ]
    },
    {
     "name": "stdout",
     "output_type": "stream",
     "text": [
      "Saved os_100_genes_mmcif/AF-C7J9I2-F1-model_v4.cif\n"
     ]
    },
    {
     "name": "stdout",
     "output_type": "stream",
     "text": [
      "Downloading https://alphafold.ebi.ac.uk/files/AF-A0A0P0Y8T9-F1-model_v4.cif\n"
     ]
    },
    {
     "name": "stdout",
     "output_type": "stream",
     "text": [
      "Saved os_100_genes_mmcif/AF-A0A0P0Y8T9-F1-model_v4.cif\n"
     ]
    },
    {
     "name": "stdout",
     "output_type": "stream",
     "text": [
      "Downloading https://alphafold.ebi.ac.uk/files/AF-A0A0P0Y788-F1-model_v4.cif\n"
     ]
    },
    {
     "name": "stdout",
     "output_type": "stream",
     "text": [
      "Saved os_100_genes_mmcif/AF-A0A0P0Y788-F1-model_v4.cif\n"
     ]
    },
    {
     "name": "stdout",
     "output_type": "stream",
     "text": [
      "Downloading https://alphafold.ebi.ac.uk/files/AF-Q0IS17-F1-model_v4.cif\n"
     ]
    },
    {
     "name": "stdout",
     "output_type": "stream",
     "text": [
      "Saved os_100_genes_mmcif/AF-Q0IS17-F1-model_v4.cif\n"
     ]
    },
    {
     "name": "stdout",
     "output_type": "stream",
     "text": [
      "Downloading https://alphafold.ebi.ac.uk/files/AF-A0A0P0Y3R8-F1-model_v4.cif\n"
     ]
    },
    {
     "name": "stdout",
     "output_type": "stream",
     "text": [
      "Saved os_100_genes_mmcif/AF-A0A0P0Y3R8-F1-model_v4.cif\n"
     ]
    },
    {
     "name": "stdout",
     "output_type": "stream",
     "text": [
      "Downloading https://alphafold.ebi.ac.uk/files/AF-Q2R2M1-F1-model_v4.cif\n"
     ]
    },
    {
     "name": "stdout",
     "output_type": "stream",
     "text": [
      "Saved os_100_genes_mmcif/AF-Q2R2M1-F1-model_v4.cif\n"
     ]
    },
    {
     "name": "stdout",
     "output_type": "stream",
     "text": [
      "Downloading https://alphafold.ebi.ac.uk/files/AF-A0A0N7KSV2-F1-model_v4.cif\n"
     ]
    },
    {
     "name": "stdout",
     "output_type": "stream",
     "text": [
      "Saved os_100_genes_mmcif/AF-A0A0N7KSV2-F1-model_v4.cif\n"
     ]
    },
    {
     "name": "stdout",
     "output_type": "stream",
     "text": [
      "Downloading https://alphafold.ebi.ac.uk/files/AF-Q2R9B5-F1-model_v4.cif\n"
     ]
    },
    {
     "name": "stdout",
     "output_type": "stream",
     "text": [
      "Saved os_100_genes_mmcif/AF-Q2R9B5-F1-model_v4.cif\n"
     ]
    },
    {
     "name": "stdout",
     "output_type": "stream",
     "text": [
      "Downloading https://alphafold.ebi.ac.uk/files/AF-Q0IU14-F1-model_v4.cif\n"
     ]
    },
    {
     "name": "stdout",
     "output_type": "stream",
     "text": [
      "Saved os_100_genes_mmcif/AF-Q0IU14-F1-model_v4.cif\n"
     ]
    },
    {
     "name": "stdout",
     "output_type": "stream",
     "text": [
      "Downloading https://alphafold.ebi.ac.uk/files/AF-A0A0P0Y047-F1-model_v4.cif\n"
     ]
    },
    {
     "name": "stdout",
     "output_type": "stream",
     "text": [
      "Saved os_100_genes_mmcif/AF-A0A0P0Y047-F1-model_v4.cif\n"
     ]
    },
    {
     "name": "stdout",
     "output_type": "stream",
     "text": [
      "Downloading https://alphafold.ebi.ac.uk/files/AF-A0A0P0XYE1-F1-model_v4.cif\n"
     ]
    },
    {
     "name": "stdout",
     "output_type": "stream",
     "text": [
      "Saved os_100_genes_mmcif/AF-A0A0P0XYE1-F1-model_v4.cif\n"
     ]
    },
    {
     "name": "stdout",
     "output_type": "stream",
     "text": [
      "Downloading https://alphafold.ebi.ac.uk/files/AF-Q0IV40-F1-model_v4.cif\n"
     ]
    },
    {
     "name": "stdout",
     "output_type": "stream",
     "text": [
      "Saved os_100_genes_mmcif/AF-Q0IV40-F1-model_v4.cif\n"
     ]
    },
    {
     "name": "stdout",
     "output_type": "stream",
     "text": [
      "Downloading https://alphafold.ebi.ac.uk/files/AF-A0A0P0XY12-F1-model_v4.cif\n"
     ]
    },
    {
     "name": "stdout",
     "output_type": "stream",
     "text": [
      "Saved os_100_genes_mmcif/AF-A0A0P0XY12-F1-model_v4.cif\n"
     ]
    },
    {
     "name": "stdout",
     "output_type": "stream",
     "text": [
      "Downloading https://alphafold.ebi.ac.uk/files/AF-Q7XCK0-F1-model_v4.cif\n"
     ]
    },
    {
     "name": "stdout",
     "output_type": "stream",
     "text": [
      "Saved os_100_genes_mmcif/AF-Q7XCK0-F1-model_v4.cif\n"
     ]
    },
    {
     "name": "stdout",
     "output_type": "stream",
     "text": [
      "Downloading https://alphafold.ebi.ac.uk/files/AF-A0A5S6R8C2-F1-model_v4.cif\n"
     ]
    },
    {
     "name": "stdout",
     "output_type": "stream",
     "text": [
      "Saved os_100_genes_mmcif/AF-A0A5S6R8C2-F1-model_v4.cif\n"
     ]
    },
    {
     "name": "stdout",
     "output_type": "stream",
     "text": [
      "Downloading https://alphafold.ebi.ac.uk/files/AF-Q7G228-F1-model_v4.cif\n"
     ]
    },
    {
     "name": "stdout",
     "output_type": "stream",
     "text": [
      "Saved os_100_genes_mmcif/AF-Q7G228-F1-model_v4.cif\n"
     ]
    },
    {
     "name": "stdout",
     "output_type": "stream",
     "text": [
      "Downloading https://alphafold.ebi.ac.uk/files/AF-A0A0P0XVR9-F1-model_v4.cif\n"
     ]
    },
    {
     "name": "stdout",
     "output_type": "stream",
     "text": [
      "Saved os_100_genes_mmcif/AF-A0A0P0XVR9-F1-model_v4.cif\n"
     ]
    },
    {
     "name": "stdout",
     "output_type": "stream",
     "text": [
      "Downloading https://alphafold.ebi.ac.uk/files/AF-A0A0P0XUQ6-F1-model_v4.cif\n"
     ]
    },
    {
     "name": "stdout",
     "output_type": "stream",
     "text": [
      "Saved os_100_genes_mmcif/AF-A0A0P0XUQ6-F1-model_v4.cif\n"
     ]
    },
    {
     "name": "stdout",
     "output_type": "stream",
     "text": [
      "Downloading https://alphafold.ebi.ac.uk/files/AF-B9G5S0-F1-model_v4.cif\n"
     ]
    },
    {
     "name": "stdout",
     "output_type": "stream",
     "text": [
      "Saved os_100_genes_mmcif/AF-B9G5S0-F1-model_v4.cif\n"
     ]
    },
    {
     "name": "stdout",
     "output_type": "stream",
     "text": [
      "Downloading https://alphafold.ebi.ac.uk/files/AF-A0A0P0XU49-F1-model_v4.cif\n"
     ]
    },
    {
     "name": "stdout",
     "output_type": "stream",
     "text": [
      "Saved os_100_genes_mmcif/AF-A0A0P0XU49-F1-model_v4.cif\n"
     ]
    },
    {
     "name": "stdout",
     "output_type": "stream",
     "text": [
      "Downloading https://alphafold.ebi.ac.uk/files/AF-A0A0P0XRX9-F1-model_v4.cif\n"
     ]
    },
    {
     "name": "stdout",
     "output_type": "stream",
     "text": [
      "Saved os_100_genes_mmcif/AF-A0A0P0XRX9-F1-model_v4.cif\n"
     ]
    },
    {
     "name": "stdout",
     "output_type": "stream",
     "text": [
      "Downloading https://alphafold.ebi.ac.uk/files/AF-Q0IZI1-F1-model_v4.cif\n"
     ]
    },
    {
     "name": "stdout",
     "output_type": "stream",
     "text": [
      "Saved os_100_genes_mmcif/AF-Q0IZI1-F1-model_v4.cif\n"
     ]
    },
    {
     "name": "stdout",
     "output_type": "stream",
     "text": [
      "Downloading https://alphafold.ebi.ac.uk/files/AF-A0A0P0XQQ2-F1-model_v4.cif\n"
     ]
    },
    {
     "name": "stdout",
     "output_type": "stream",
     "text": [
      "Saved os_100_genes_mmcif/AF-A0A0P0XQQ2-F1-model_v4.cif\n"
     ]
    },
    {
     "name": "stdout",
     "output_type": "stream",
     "text": [
      "Downloading https://alphafold.ebi.ac.uk/files/AF-A0A0P0XQK4-F1-model_v4.cif\n"
     ]
    },
    {
     "name": "stdout",
     "output_type": "stream",
     "text": [
      "Saved os_100_genes_mmcif/AF-A0A0P0XQK4-F1-model_v4.cif\n"
     ]
    },
    {
     "name": "stdout",
     "output_type": "stream",
     "text": [
      "Downloading https://alphafold.ebi.ac.uk/files/AF-Q0IZR6-F1-model_v4.cif\n"
     ]
    },
    {
     "name": "stdout",
     "output_type": "stream",
     "text": [
      "Saved os_100_genes_mmcif/AF-Q0IZR6-F1-model_v4.cif\n"
     ]
    },
    {
     "name": "stdout",
     "output_type": "stream",
     "text": [
      "Downloading https://alphafold.ebi.ac.uk/files/AF-A0A0P0XRG0-F1-model_v4.cif\n"
     ]
    },
    {
     "name": "stdout",
     "output_type": "stream",
     "text": [
      "Saved os_100_genes_mmcif/AF-A0A0P0XRG0-F1-model_v4.cif\n"
     ]
    },
    {
     "name": "stdout",
     "output_type": "stream",
     "text": [
      "Downloading https://alphafold.ebi.ac.uk/files/AF-A0A0P0XR04-F1-model_v4.cif\n"
     ]
    },
    {
     "name": "stdout",
     "output_type": "stream",
     "text": [
      "Saved os_100_genes_mmcif/AF-A0A0P0XR04-F1-model_v4.cif\n"
     ]
    },
    {
     "name": "stdout",
     "output_type": "stream",
     "text": [
      "Downloading https://alphafold.ebi.ac.uk/files/AF-A0A0P0XPX4-F1-model_v4.cif\n"
     ]
    },
    {
     "name": "stdout",
     "output_type": "stream",
     "text": [
      "Saved os_100_genes_mmcif/AF-A0A0P0XPX4-F1-model_v4.cif\n"
     ]
    },
    {
     "name": "stdout",
     "output_type": "stream",
     "text": [
      "Downloading https://alphafold.ebi.ac.uk/files/AF-Q0J2E8-F1-model_v4.cif\n"
     ]
    },
    {
     "name": "stdout",
     "output_type": "stream",
     "text": [
      "Saved os_100_genes_mmcif/AF-Q0J2E8-F1-model_v4.cif\n"
     ]
    },
    {
     "name": "stdout",
     "output_type": "stream",
     "text": [
      "Downloading https://alphafold.ebi.ac.uk/files/AF-A0A0N7KQM5-F1-model_v4.cif\n"
     ]
    },
    {
     "name": "stdout",
     "output_type": "stream",
     "text": [
      "Saved os_100_genes_mmcif/AF-A0A0N7KQM5-F1-model_v4.cif\n"
     ]
    },
    {
     "name": "stdout",
     "output_type": "stream",
     "text": [
      "Downloading https://alphafold.ebi.ac.uk/files/AF-Q6ZXK6-F1-model_v4.cif\n"
     ]
    },
    {
     "name": "stdout",
     "output_type": "stream",
     "text": [
      "Saved os_100_genes_mmcif/AF-Q6ZXK6-F1-model_v4.cif\n"
     ]
    },
    {
     "name": "stdout",
     "output_type": "stream",
     "text": [
      "Downloading https://alphafold.ebi.ac.uk/files/AF-Q0J381-F1-model_v4.cif\n"
     ]
    },
    {
     "name": "stdout",
     "output_type": "stream",
     "text": [
      "Saved os_100_genes_mmcif/AF-Q0J381-F1-model_v4.cif\n"
     ]
    },
    {
     "name": "stdout",
     "output_type": "stream",
     "text": [
      "Downloading https://alphafold.ebi.ac.uk/files/AF-Q6YZI0-F1-model_v4.cif\n"
     ]
    },
    {
     "name": "stdout",
     "output_type": "stream",
     "text": [
      "Saved os_100_genes_mmcif/AF-Q6YZI0-F1-model_v4.cif\n"
     ]
    },
    {
     "name": "stdout",
     "output_type": "stream",
     "text": [
      "Downloading https://alphafold.ebi.ac.uk/files/AF-A0A0P0XIY8-F1-model_v4.cif\n"
     ]
    },
    {
     "name": "stdout",
     "output_type": "stream",
     "text": [
      "Saved os_100_genes_mmcif/AF-A0A0P0XIY8-F1-model_v4.cif\n"
     ]
    },
    {
     "name": "stdout",
     "output_type": "stream",
     "text": [
      "Downloading https://alphafold.ebi.ac.uk/files/AF-Q6ZIA3-F1-model_v4.cif\n"
     ]
    },
    {
     "name": "stdout",
     "output_type": "stream",
     "text": [
      "Saved os_100_genes_mmcif/AF-Q6ZIA3-F1-model_v4.cif\n"
     ]
    },
    {
     "name": "stdout",
     "output_type": "stream",
     "text": [
      "Downloading https://alphafold.ebi.ac.uk/files/AF-A0A0P0XIQ3-F1-model_v4.cif\n"
     ]
    },
    {
     "name": "stdout",
     "output_type": "stream",
     "text": [
      "Saved os_100_genes_mmcif/AF-A0A0P0XIQ3-F1-model_v4.cif\n"
     ]
    },
    {
     "name": "stdout",
     "output_type": "stream",
     "text": [
      "Downloading https://alphafold.ebi.ac.uk/files/AF-Q8GVW5-F1-model_v4.cif\n"
     ]
    },
    {
     "name": "stdout",
     "output_type": "stream",
     "text": [
      "Saved os_100_genes_mmcif/AF-Q8GVW5-F1-model_v4.cif\n"
     ]
    },
    {
     "name": "stdout",
     "output_type": "stream",
     "text": [
      "Downloading https://alphafold.ebi.ac.uk/files/AF-Q0J793-F1-model_v4.cif\n"
     ]
    },
    {
     "name": "stdout",
     "output_type": "stream",
     "text": [
      "Saved os_100_genes_mmcif/AF-Q0J793-F1-model_v4.cif\n"
     ]
    },
    {
     "name": "stdout",
     "output_type": "stream",
     "text": [
      "Downloading https://alphafold.ebi.ac.uk/files/AF-C7J6E2-F1-model_v4.cif\n"
     ]
    },
    {
     "name": "stdout",
     "output_type": "stream",
     "text": [
      "Saved os_100_genes_mmcif/AF-C7J6E2-F1-model_v4.cif\n"
     ]
    },
    {
     "name": "stdout",
     "output_type": "stream",
     "text": [
      "Downloading https://alphafold.ebi.ac.uk/files/AF-B7EAV6-F1-model_v4.cif\n"
     ]
    },
    {
     "name": "stdout",
     "output_type": "stream",
     "text": [
      "Saved os_100_genes_mmcif/AF-B7EAV6-F1-model_v4.cif\n"
     ]
    },
    {
     "name": "stdout",
     "output_type": "stream",
     "text": [
      "Downloading https://alphafold.ebi.ac.uk/files/AF-Q84UP3-F1-model_v4.cif\n"
     ]
    },
    {
     "name": "stdout",
     "output_type": "stream",
     "text": [
      "Saved os_100_genes_mmcif/AF-Q84UP3-F1-model_v4.cif\n"
     ]
    },
    {
     "name": "stdout",
     "output_type": "stream",
     "text": [
      "Downloading https://alphafold.ebi.ac.uk/files/AF-Q7EYE5-F1-model_v4.cif\n"
     ]
    },
    {
     "name": "stdout",
     "output_type": "stream",
     "text": [
      "Saved os_100_genes_mmcif/AF-Q7EYE5-F1-model_v4.cif\n"
     ]
    },
    {
     "name": "stdout",
     "output_type": "stream",
     "text": [
      "Downloading https://alphafold.ebi.ac.uk/files/AF-A0A0P0X9T2-F1-model_v4.cif\n"
     ]
    },
    {
     "name": "stdout",
     "output_type": "stream",
     "text": [
      "Saved os_100_genes_mmcif/AF-A0A0P0X9T2-F1-model_v4.cif\n"
     ]
    },
    {
     "name": "stdout",
     "output_type": "stream",
     "text": [
      "Downloading https://alphafold.ebi.ac.uk/files/AF-Q8H3E5-F1-model_v4.cif\n"
     ]
    },
    {
     "name": "stdout",
     "output_type": "stream",
     "text": [
      "Saved os_100_genes_mmcif/AF-Q8H3E5-F1-model_v4.cif\n"
     ]
    },
    {
     "name": "stdout",
     "output_type": "stream",
     "text": [
      "Downloading https://alphafold.ebi.ac.uk/files/AF-Q7XI89-F1-model_v4.cif\n"
     ]
    },
    {
     "name": "stdout",
     "output_type": "stream",
     "text": [
      "Saved os_100_genes_mmcif/AF-Q7XI89-F1-model_v4.cif\n"
     ]
    },
    {
     "name": "stdout",
     "output_type": "stream",
     "text": [
      "Downloading https://alphafold.ebi.ac.uk/files/AF-Q0D554-F1-model_v4.cif\n"
     ]
    },
    {
     "name": "stdout",
     "output_type": "stream",
     "text": [
      "Saved os_100_genes_mmcif/AF-Q0D554-F1-model_v4.cif\n"
     ]
    },
    {
     "name": "stdout",
     "output_type": "stream",
     "text": [
      "Downloading https://alphafold.ebi.ac.uk/files/AF-A0A0N7KNR3-F1-model_v4.cif\n"
     ]
    },
    {
     "name": "stdout",
     "output_type": "stream",
     "text": [
      "Saved os_100_genes_mmcif/AF-A0A0N7KNR3-F1-model_v4.cif\n"
     ]
    },
    {
     "name": "stdout",
     "output_type": "stream",
     "text": [
      "Downloading https://alphafold.ebi.ac.uk/files/AF-B9FXX1-F1-model_v4.cif\n"
     ]
    },
    {
     "name": "stdout",
     "output_type": "stream",
     "text": [
      "Saved os_100_genes_mmcif/AF-B9FXX1-F1-model_v4.cif\n"
     ]
    },
    {
     "name": "stdout",
     "output_type": "stream",
     "text": [
      "Downloading https://alphafold.ebi.ac.uk/files/AF-Q7X7E6-F1-model_v4.cif\n"
     ]
    },
    {
     "name": "stdout",
     "output_type": "stream",
     "text": [
      "Saved os_100_genes_mmcif/AF-Q7X7E6-F1-model_v4.cif\n"
     ]
    },
    {
     "name": "stdout",
     "output_type": "stream",
     "text": [
      "Downloading https://alphafold.ebi.ac.uk/files/AF-A0A0P0X3M3-F1-model_v4.cif\n"
     ]
    },
    {
     "name": "stdout",
     "output_type": "stream",
     "text": [
      "Saved os_100_genes_mmcif/AF-A0A0P0X3M3-F1-model_v4.cif\n"
     ]
    },
    {
     "name": "stdout",
     "output_type": "stream",
     "text": [
      "Downloading https://alphafold.ebi.ac.uk/files/AF-Q7F225-F1-model_v4.cif\n"
     ]
    },
    {
     "name": "stdout",
     "output_type": "stream",
     "text": [
      "Saved os_100_genes_mmcif/AF-Q7F225-F1-model_v4.cif\n"
     ]
    },
    {
     "name": "stdout",
     "output_type": "stream",
     "text": [
      "Downloading https://alphafold.ebi.ac.uk/files/AF-Q0D935-F1-model_v4.cif\n"
     ]
    },
    {
     "name": "stdout",
     "output_type": "stream",
     "text": [
      "Saved os_100_genes_mmcif/AF-Q0D935-F1-model_v4.cif\n"
     ]
    },
    {
     "name": "stdout",
     "output_type": "stream",
     "text": [
      "Downloading https://alphafold.ebi.ac.uk/files/AF-A0A0P0X1N4-F1-model_v4.cif\n"
     ]
    },
    {
     "name": "stdout",
     "output_type": "stream",
     "text": [
      "Saved os_100_genes_mmcif/AF-A0A0P0X1N4-F1-model_v4.cif\n"
     ]
    },
    {
     "name": "stdout",
     "output_type": "stream",
     "text": [
      "Downloading https://alphafold.ebi.ac.uk/files/AF-Q0D9H9-F1-model_v4.cif\n"
     ]
    },
    {
     "name": "stdout",
     "output_type": "stream",
     "text": [
      "Saved os_100_genes_mmcif/AF-Q0D9H9-F1-model_v4.cif\n"
     ]
    },
    {
     "name": "stdout",
     "output_type": "stream",
     "text": [
      "Downloading https://alphafold.ebi.ac.uk/files/AF-A0A0P0WWX7-F1-model_v4.cif\n"
     ]
    },
    {
     "name": "stdout",
     "output_type": "stream",
     "text": [
      "Saved os_100_genes_mmcif/AF-A0A0P0WWX7-F1-model_v4.cif\n"
     ]
    },
    {
     "name": "stdout",
     "output_type": "stream",
     "text": [
      "Downloading https://alphafold.ebi.ac.uk/files/AF-A0A0P0WWQ6-F1-model_v4.cif\n"
     ]
    },
    {
     "name": "stdout",
     "output_type": "stream",
     "text": [
      "Saved os_100_genes_mmcif/AF-A0A0P0WWQ6-F1-model_v4.cif\n"
     ]
    },
    {
     "name": "stdout",
     "output_type": "stream",
     "text": [
      "Downloading https://alphafold.ebi.ac.uk/files/AF-A0A0P0WVK9-F1-model_v4.cif\n"
     ]
    },
    {
     "name": "stdout",
     "output_type": "stream",
     "text": [
      "Saved os_100_genes_mmcif/AF-A0A0P0WVK9-F1-model_v4.cif\n"
     ]
    },
    {
     "name": "stdout",
     "output_type": "stream",
     "text": [
      "Downloading https://alphafold.ebi.ac.uk/files/AF-A0A0P0WV91-F1-model_v4.cif\n"
     ]
    },
    {
     "name": "stdout",
     "output_type": "stream",
     "text": [
      "Saved os_100_genes_mmcif/AF-A0A0P0WV91-F1-model_v4.cif\n"
     ]
    },
    {
     "name": "stdout",
     "output_type": "stream",
     "text": [
      "Downloading https://alphafold.ebi.ac.uk/files/AF-A0A0P0WRP3-F1-model_v4.cif\n"
     ]
    },
    {
     "name": "stdout",
     "output_type": "stream",
     "text": [
      "Saved os_100_genes_mmcif/AF-A0A0P0WRP3-F1-model_v4.cif\n"
     ]
    },
    {
     "name": "stdout",
     "output_type": "stream",
     "text": [
      "Downloading https://alphafold.ebi.ac.uk/files/AF-A0A0P0WR51-F1-model_v4.cif\n"
     ]
    },
    {
     "name": "stdout",
     "output_type": "stream",
     "text": [
      "Saved os_100_genes_mmcif/AF-A0A0P0WR51-F1-model_v4.cif\n"
     ]
    },
    {
     "name": "stdout",
     "output_type": "stream",
     "text": [
      "Downloading https://alphafold.ebi.ac.uk/files/AF-A0A0P0WQU7-F1-model_v4.cif\n"
     ]
    },
    {
     "name": "stdout",
     "output_type": "stream",
     "text": [
      "Saved os_100_genes_mmcif/AF-A0A0P0WQU7-F1-model_v4.cif\n"
     ]
    },
    {
     "name": "stdout",
     "output_type": "stream",
     "text": [
      "Downloading https://alphafold.ebi.ac.uk/files/AF-A0A0P0WME4-F1-model_v4.cif\n"
     ]
    },
    {
     "name": "stdout",
     "output_type": "stream",
     "text": [
      "Saved os_100_genes_mmcif/AF-A0A0P0WME4-F1-model_v4.cif\n"
     ]
    },
    {
     "name": "stdout",
     "output_type": "stream",
     "text": [
      "Downloading https://alphafold.ebi.ac.uk/files/AF-Q6AUL2-F1-model_v4.cif\n"
     ]
    },
    {
     "name": "stdout",
     "output_type": "stream",
     "text": [
      "Saved os_100_genes_mmcif/AF-Q6AUL2-F1-model_v4.cif\n"
     ]
    },
    {
     "name": "stdout",
     "output_type": "stream",
     "text": [
      "Downloading https://alphafold.ebi.ac.uk/files/AF-B9FID2-F1-model_v4.cif\n"
     ]
    },
    {
     "name": "stdout",
     "output_type": "stream",
     "text": [
      "Saved os_100_genes_mmcif/AF-B9FID2-F1-model_v4.cif\n"
     ]
    },
    {
     "name": "stdout",
     "output_type": "stream",
     "text": [
      "Downloading https://alphafold.ebi.ac.uk/files/AF-A0A0P0WJ00-F1-model_v4.cif\n"
     ]
    },
    {
     "name": "stdout",
     "output_type": "stream",
     "text": [
      "Saved os_100_genes_mmcif/AF-A0A0P0WJ00-F1-model_v4.cif\n"
     ]
    },
    {
     "name": "stdout",
     "output_type": "stream",
     "text": [
      "Downloading https://alphafold.ebi.ac.uk/files/AF-Q0DKG4-F1-model_v4.cif\n"
     ]
    },
    {
     "name": "stdout",
     "output_type": "stream",
     "text": [
      "Saved os_100_genes_mmcif/AF-Q0DKG4-F1-model_v4.cif\n"
     ]
    },
    {
     "name": "stdout",
     "output_type": "stream",
     "text": [
      "Downloading https://alphafold.ebi.ac.uk/files/AF-A0A0P0WIH9-F1-model_v4.cif\n"
     ]
    },
    {
     "name": "stdout",
     "output_type": "stream",
     "text": [
      "Saved os_100_genes_mmcif/AF-A0A0P0WIH9-F1-model_v4.cif\n"
     ]
    },
    {
     "name": "stdout",
     "output_type": "stream",
     "text": [
      "Downloading https://alphafold.ebi.ac.uk/files/AF-Q75M00-F1-model_v4.cif\n"
     ]
    },
    {
     "name": "stdout",
     "output_type": "stream",
     "text": [
      "Saved os_100_genes_mmcif/AF-Q75M00-F1-model_v4.cif\n"
     ]
    },
    {
     "name": "stdout",
     "output_type": "stream",
     "text": [
      "Downloading https://alphafold.ebi.ac.uk/files/AF-Q0DKK4-F1-model_v4.cif\n"
     ]
    },
    {
     "name": "stdout",
     "output_type": "stream",
     "text": [
      "Saved os_100_genes_mmcif/AF-Q0DKK4-F1-model_v4.cif\n"
     ]
    },
    {
     "name": "stdout",
     "output_type": "stream",
     "text": [
      "Downloading https://alphafold.ebi.ac.uk/files/AF-A0A0P0WID2-F1-model_v4.cif\n"
     ]
    },
    {
     "name": "stdout",
     "output_type": "stream",
     "text": [
      "Saved os_100_genes_mmcif/AF-A0A0P0WID2-F1-model_v4.cif\n"
     ]
    },
    {
     "name": "stdout",
     "output_type": "stream",
     "text": [
      "Downloading https://alphafold.ebi.ac.uk/files/AF-A0A0P0WI65-F1-model_v4.cif\n"
     ]
    },
    {
     "name": "stdout",
     "output_type": "stream",
     "text": [
      "Saved os_100_genes_mmcif/AF-A0A0P0WI65-F1-model_v4.cif\n"
     ]
    },
    {
     "name": "stdout",
     "output_type": "stream",
     "text": [
      "Downloading https://alphafold.ebi.ac.uk/files/AF-B9FCD7-F1-model_v4.cif\n"
     ]
    },
    {
     "name": "stdout",
     "output_type": "stream",
     "text": [
      "Saved os_100_genes_mmcif/AF-B9FCD7-F1-model_v4.cif\n"
     ]
    },
    {
     "name": "stdout",
     "output_type": "stream",
     "text": [
      "Downloading https://alphafold.ebi.ac.uk/files/AF-A0A0P0WEW1-F1-model_v4.cif\n"
     ]
    },
    {
     "name": "stdout",
     "output_type": "stream",
     "text": [
      "Saved os_100_genes_mmcif/AF-A0A0P0WEW1-F1-model_v4.cif\n"
     ]
    },
    {
     "name": "stdout",
     "output_type": "stream",
     "text": [
      "Downloading https://alphafold.ebi.ac.uk/files/AF-Q0JAL1-F1-model_v4.cif\n"
     ]
    },
    {
     "name": "stdout",
     "output_type": "stream",
     "text": [
      "Saved os_100_genes_mmcif/AF-Q0JAL1-F1-model_v4.cif\n"
     ]
    },
    {
     "name": "stdout",
     "output_type": "stream",
     "text": [
      "Downloading https://alphafold.ebi.ac.uk/files/AF-A0A0P0WE29-F1-model_v4.cif\n"
     ]
    },
    {
     "name": "stdout",
     "output_type": "stream",
     "text": [
      "Saved os_100_genes_mmcif/AF-A0A0P0WE29-F1-model_v4.cif\n"
     ]
    },
    {
     "name": "stdout",
     "output_type": "stream",
     "text": [
      "Downloading https://alphafold.ebi.ac.uk/files/AF-Q7XSQ8-F1-model_v4.cif\n"
     ]
    },
    {
     "name": "stdout",
     "output_type": "stream",
     "text": [
      "Saved os_100_genes_mmcif/AF-Q7XSQ8-F1-model_v4.cif\n"
     ]
    },
    {
     "name": "stdout",
     "output_type": "stream",
     "text": [
      "Downloading https://alphafold.ebi.ac.uk/files/AF-A0A0P0WDT6-F1-model_v4.cif\n"
     ]
    },
    {
     "name": "stdout",
     "output_type": "stream",
     "text": [
      "Saved os_100_genes_mmcif/AF-A0A0P0WDT6-F1-model_v4.cif\n"
     ]
    },
    {
     "name": "stdout",
     "output_type": "stream",
     "text": [
      "Downloading https://alphafold.ebi.ac.uk/files/AF-A0A0N7KJH9-F1-model_v4.cif\n"
     ]
    },
    {
     "name": "stdout",
     "output_type": "stream",
     "text": [
      "Saved os_100_genes_mmcif/AF-A0A0N7KJH9-F1-model_v4.cif\n"
     ]
    },
    {
     "name": "stdout",
     "output_type": "stream",
     "text": [
      "Downloading https://alphafold.ebi.ac.uk/files/AF-Q0JBC2-F1-model_v4.cif\n"
     ]
    },
    {
     "name": "stdout",
     "output_type": "stream",
     "text": [
      "Saved os_100_genes_mmcif/AF-Q0JBC2-F1-model_v4.cif\n"
     ]
    },
    {
     "name": "stdout",
     "output_type": "stream",
     "text": [
      "Downloading https://alphafold.ebi.ac.uk/files/AF-A0A0P0WCZ7-F1-model_v4.cif\n"
     ]
    },
    {
     "name": "stdout",
     "output_type": "stream",
     "text": [
      "Saved os_100_genes_mmcif/AF-A0A0P0WCZ7-F1-model_v4.cif\n"
     ]
    },
    {
     "name": "stdout",
     "output_type": "stream",
     "text": [
      "Downloading https://alphafold.ebi.ac.uk/files/AF-Q0JBU4-F1-model_v4.cif\n"
     ]
    },
    {
     "name": "stdout",
     "output_type": "stream",
     "text": [
      "Saved os_100_genes_mmcif/AF-Q0JBU4-F1-model_v4.cif\n"
     ]
    },
    {
     "name": "stdout",
     "output_type": "stream",
     "text": [
      "Downloading https://alphafold.ebi.ac.uk/files/AF-A0A0P0WCE1-F1-model_v4.cif\n"
     ]
    },
    {
     "name": "stdout",
     "output_type": "stream",
     "text": [
      "Saved os_100_genes_mmcif/AF-A0A0P0WCE1-F1-model_v4.cif\n"
     ]
    },
    {
     "name": "stdout",
     "output_type": "stream",
     "text": [
      "Downloading https://alphafold.ebi.ac.uk/files/AF-A0A0P0W6N8-F1-model_v4.cif\n"
     ]
    },
    {
     "name": "stdout",
     "output_type": "stream",
     "text": [
      "Saved os_100_genes_mmcif/AF-A0A0P0W6N8-F1-model_v4.cif\n"
     ]
    },
    {
     "name": "stdout",
     "output_type": "stream",
     "text": [
      "Downloading https://alphafold.ebi.ac.uk/files/AF-Q851X5-F1-model_v4.cif\n"
     ]
    },
    {
     "name": "stdout",
     "output_type": "stream",
     "text": [
      "Saved os_100_genes_mmcif/AF-Q851X5-F1-model_v4.cif\n"
     ]
    },
    {
     "name": "stdout",
     "output_type": "stream",
     "text": [
      "Downloading https://alphafold.ebi.ac.uk/files/AF-Q7XZG9-F1-model_v4.cif\n"
     ]
    },
    {
     "name": "stdout",
     "output_type": "stream",
     "text": [
      "Saved os_100_genes_mmcif/AF-Q7XZG9-F1-model_v4.cif\n"
     ]
    },
    {
     "name": "stdout",
     "output_type": "stream",
     "text": [
      "Downloading https://alphafold.ebi.ac.uk/files/AF-Q0DMF1-F1-model_v4.cif\n"
     ]
    },
    {
     "name": "stdout",
     "output_type": "stream",
     "text": [
      "Saved os_100_genes_mmcif/AF-Q0DMF1-F1-model_v4.cif\n"
     ]
    },
    {
     "name": "stdout",
     "output_type": "stream",
     "text": [
      "Downloading https://alphafold.ebi.ac.uk/files/AF-A0A0P0W487-F1-model_v4.cif\n"
     ]
    },
    {
     "name": "stdout",
     "output_type": "stream",
     "text": [
      "Saved os_100_genes_mmcif/AF-A0A0P0W487-F1-model_v4.cif\n"
     ]
    },
    {
     "name": "stdout",
     "output_type": "stream",
     "text": [
      "Downloading https://alphafold.ebi.ac.uk/files/AF-A0A0P0W2T0-F1-model_v4.cif\n"
     ]
    },
    {
     "name": "stdout",
     "output_type": "stream",
     "text": [
      "Saved os_100_genes_mmcif/AF-A0A0P0W2T0-F1-model_v4.cif\n"
     ]
    },
    {
     "name": "stdout",
     "output_type": "stream",
     "text": [
      "Downloading https://alphafold.ebi.ac.uk/files/AF-A0A0P0W2K8-F1-model_v4.cif\n"
     ]
    },
    {
     "name": "stdout",
     "output_type": "stream",
     "text": [
      "Saved os_100_genes_mmcif/AF-A0A0P0W2K8-F1-model_v4.cif\n"
     ]
    },
    {
     "name": "stdout",
     "output_type": "stream",
     "text": [
      "Downloading https://alphafold.ebi.ac.uk/files/AF-Q7XXS3-F1-model_v4.cif\n"
     ]
    },
    {
     "name": "stdout",
     "output_type": "stream",
     "text": [
      "Saved os_100_genes_mmcif/AF-Q7XXS3-F1-model_v4.cif\n"
     ]
    },
    {
     "name": "stdout",
     "output_type": "stream",
     "text": [
      "Downloading https://alphafold.ebi.ac.uk/files/AF-A0A0P0W1I4-F1-model_v4.cif\n"
     ]
    },
    {
     "name": "stdout",
     "output_type": "stream",
     "text": [
      "Saved os_100_genes_mmcif/AF-A0A0P0W1I4-F1-model_v4.cif\n"
     ]
    },
    {
     "name": "stdout",
     "output_type": "stream",
     "text": [
      "Downloading https://alphafold.ebi.ac.uk/files/AF-Q75J49-F1-model_v4.cif\n"
     ]
    },
    {
     "name": "stdout",
     "output_type": "stream",
     "text": [
      "Saved os_100_genes_mmcif/AF-Q75J49-F1-model_v4.cif\n"
     ]
    },
    {
     "name": "stdout",
     "output_type": "stream",
     "text": [
      "Downloading https://alphafold.ebi.ac.uk/files/AF-Q6AUE3-F1-model_v4.cif\n"
     ]
    },
    {
     "name": "stdout",
     "output_type": "stream",
     "text": [
      "Saved os_100_genes_mmcif/AF-Q6AUE3-F1-model_v4.cif\n"
     ]
    },
    {
     "name": "stdout",
     "output_type": "stream",
     "text": [
      "Downloading https://alphafold.ebi.ac.uk/files/AF-Q5W6J8-F1-model_v4.cif\n"
     ]
    },
    {
     "name": "stdout",
     "output_type": "stream",
     "text": [
      "Saved os_100_genes_mmcif/AF-Q5W6J8-F1-model_v4.cif\n"
     ]
    },
    {
     "name": "stdout",
     "output_type": "stream",
     "text": [
      "Downloading https://alphafold.ebi.ac.uk/files/AF-Q0DQJ4-F1-model_v4.cif\n"
     ]
    },
    {
     "name": "stdout",
     "output_type": "stream",
     "text": [
      "Saved os_100_genes_mmcif/AF-Q0DQJ4-F1-model_v4.cif\n"
     ]
    },
    {
     "name": "stdout",
     "output_type": "stream",
     "text": [
      "Downloading https://alphafold.ebi.ac.uk/files/AF-B9F9D8-F1-model_v4.cif\n"
     ]
    },
    {
     "name": "stdout",
     "output_type": "stream",
     "text": [
      "Saved os_100_genes_mmcif/AF-B9F9D8-F1-model_v4.cif\n"
     ]
    },
    {
     "name": "stdout",
     "output_type": "stream",
     "text": [
      "Downloading https://alphafold.ebi.ac.uk/files/AF-B7F8A3-F1-model_v4.cif\n"
     ]
    },
    {
     "name": "stdout",
     "output_type": "stream",
     "text": [
      "Saved os_100_genes_mmcif/AF-B7F8A3-F1-model_v4.cif\n"
     ]
    },
    {
     "name": "stdout",
     "output_type": "stream",
     "text": [
      "Downloading https://alphafold.ebi.ac.uk/files/AF-A0A0P0VY76-F1-model_v4.cif\n"
     ]
    },
    {
     "name": "stdout",
     "output_type": "stream",
     "text": [
      "Saved os_100_genes_mmcif/AF-A0A0P0VY76-F1-model_v4.cif\n"
     ]
    },
    {
     "name": "stdout",
     "output_type": "stream",
     "text": [
      "Downloading https://alphafold.ebi.ac.uk/files/AF-Q10KW4-F1-model_v4.cif\n"
     ]
    },
    {
     "name": "stdout",
     "output_type": "stream",
     "text": [
      "Saved os_100_genes_mmcif/AF-Q10KW4-F1-model_v4.cif\n"
     ]
    },
    {
     "name": "stdout",
     "output_type": "stream",
     "text": [
      "Downloading https://alphafold.ebi.ac.uk/files/AF-A0A0P0VXL8-F1-model_v4.cif\n"
     ]
    },
    {
     "name": "stdout",
     "output_type": "stream",
     "text": [
      "Saved os_100_genes_mmcif/AF-A0A0P0VXL8-F1-model_v4.cif\n"
     ]
    },
    {
     "name": "stdout",
     "output_type": "stream",
     "text": [
      "Downloading https://alphafold.ebi.ac.uk/files/AF-Q10NK5-F1-model_v4.cif\n"
     ]
    },
    {
     "name": "stdout",
     "output_type": "stream",
     "text": [
      "Saved os_100_genes_mmcif/AF-Q10NK5-F1-model_v4.cif\n"
     ]
    },
    {
     "name": "stdout",
     "output_type": "stream",
     "text": [
      "Downloading https://alphafold.ebi.ac.uk/files/AF-Q10P20-F1-model_v4.cif\n"
     ]
    },
    {
     "name": "stdout",
     "output_type": "stream",
     "text": [
      "Saved os_100_genes_mmcif/AF-Q10P20-F1-model_v4.cif\n"
     ]
    },
    {
     "name": "stdout",
     "output_type": "stream",
     "text": [
      "Downloading https://alphafold.ebi.ac.uk/files/AF-Q10T57-F1-model_v4.cif\n"
     ]
    },
    {
     "name": "stdout",
     "output_type": "stream",
     "text": [
      "Saved os_100_genes_mmcif/AF-Q10T57-F1-model_v4.cif\n"
     ]
    },
    {
     "name": "stdout",
     "output_type": "stream",
     "text": [
      "Downloading https://alphafold.ebi.ac.uk/files/AF-Q0DW27-F1-model_v4.cif\n"
     ]
    },
    {
     "name": "stdout",
     "output_type": "stream",
     "text": [
      "Saved os_100_genes_mmcif/AF-Q0DW27-F1-model_v4.cif\n"
     ]
    },
    {
     "name": "stdout",
     "output_type": "stream",
     "text": [
      "Downloading https://alphafold.ebi.ac.uk/files/AF-Q6K6B6-F1-model_v4.cif\n"
     ]
    },
    {
     "name": "stdout",
     "output_type": "stream",
     "text": [
      "Saved os_100_genes_mmcif/AF-Q6K6B6-F1-model_v4.cif\n"
     ]
    },
    {
     "name": "stdout",
     "output_type": "stream",
     "text": [
      "Downloading https://alphafold.ebi.ac.uk/files/AF-Q6K826-F1-model_v4.cif\n"
     ]
    },
    {
     "name": "stdout",
     "output_type": "stream",
     "text": [
      "Saved os_100_genes_mmcif/AF-Q6K826-F1-model_v4.cif\n"
     ]
    },
    {
     "name": "stdout",
     "output_type": "stream",
     "text": [
      "Downloading https://alphafold.ebi.ac.uk/files/AF-Q6K822-F1-model_v4.cif\n"
     ]
    },
    {
     "name": "stdout",
     "output_type": "stream",
     "text": [
      "Saved os_100_genes_mmcif/AF-Q6K822-F1-model_v4.cif\n"
     ]
    },
    {
     "name": "stdout",
     "output_type": "stream",
     "text": [
      "Downloading https://alphafold.ebi.ac.uk/files/AF-A0A0P0VQC6-F1-model_v4.cif\n"
     ]
    },
    {
     "name": "stdout",
     "output_type": "stream",
     "text": [
      "Saved os_100_genes_mmcif/AF-A0A0P0VQC6-F1-model_v4.cif\n"
     ]
    },
    {
     "name": "stdout",
     "output_type": "stream",
     "text": [
      "Downloading https://alphafold.ebi.ac.uk/files/AF-A0A0P0VQA4-F1-model_v4.cif\n"
     ]
    },
    {
     "name": "stdout",
     "output_type": "stream",
     "text": [
      "Saved os_100_genes_mmcif/AF-A0A0P0VQA4-F1-model_v4.cif\n"
     ]
    },
    {
     "name": "stdout",
     "output_type": "stream",
     "text": [
      "Downloading https://alphafold.ebi.ac.uk/files/AF-Q6K7H2-F1-model_v4.cif\n"
     ]
    },
    {
     "name": "stdout",
     "output_type": "stream",
     "text": [
      "Saved os_100_genes_mmcif/AF-Q6K7H2-F1-model_v4.cif\n"
     ]
    },
    {
     "name": "stdout",
     "output_type": "stream",
     "text": [
      "Downloading https://alphafold.ebi.ac.uk/files/AF-Q6YUQ1-F1-model_v4.cif\n"
     ]
    },
    {
     "name": "stdout",
     "output_type": "stream",
     "text": [
      "Saved os_100_genes_mmcif/AF-Q6YUQ1-F1-model_v4.cif\n"
     ]
    },
    {
     "name": "stdout",
     "output_type": "stream",
     "text": [
      "Downloading https://alphafold.ebi.ac.uk/files/AF-A0A0P0VLF8-F1-model_v4.cif\n"
     ]
    },
    {
     "name": "stdout",
     "output_type": "stream",
     "text": [
      "Saved os_100_genes_mmcif/AF-A0A0P0VLF8-F1-model_v4.cif\n"
     ]
    },
    {
     "name": "stdout",
     "output_type": "stream",
     "text": [
      "Downloading https://alphafold.ebi.ac.uk/files/AF-A0A0N7KFI2-F1-model_v4.cif\n"
     ]
    },
    {
     "name": "stdout",
     "output_type": "stream",
     "text": [
      "Saved os_100_genes_mmcif/AF-A0A0N7KFI2-F1-model_v4.cif\n"
     ]
    },
    {
     "name": "stdout",
     "output_type": "stream",
     "text": [
      "Downloading https://alphafold.ebi.ac.uk/files/AF-Q6K8A9-F1-model_v4.cif\n"
     ]
    },
    {
     "name": "stdout",
     "output_type": "stream",
     "text": [
      "Saved os_100_genes_mmcif/AF-Q6K8A9-F1-model_v4.cif\n"
     ]
    },
    {
     "name": "stdout",
     "output_type": "stream",
     "text": [
      "Downloading https://alphafold.ebi.ac.uk/files/AF-Q0E1Z2-F1-model_v4.cif\n"
     ]
    },
    {
     "name": "stdout",
     "output_type": "stream",
     "text": [
      "Saved os_100_genes_mmcif/AF-Q0E1Z2-F1-model_v4.cif\n"
     ]
    },
    {
     "name": "stdout",
     "output_type": "stream",
     "text": [
      "Downloading https://alphafold.ebi.ac.uk/files/AF-A0A0P0VHQ5-F1-model_v4.cif\n"
     ]
    },
    {
     "name": "stdout",
     "output_type": "stream",
     "text": [
      "Saved os_100_genes_mmcif/AF-A0A0P0VHQ5-F1-model_v4.cif\n"
     ]
    },
    {
     "name": "stdout",
     "output_type": "stream",
     "text": [
      "Downloading https://alphafold.ebi.ac.uk/files/AF-Q0E2D5-F1-model_v4.cif\n"
     ]
    },
    {
     "name": "stdout",
     "output_type": "stream",
     "text": [
      "Saved os_100_genes_mmcif/AF-Q0E2D5-F1-model_v4.cif\n"
     ]
    },
    {
     "name": "stdout",
     "output_type": "stream",
     "text": [
      "Downloading https://alphafold.ebi.ac.uk/files/AF-A0A5S6RCW4-F1-model_v4.cif\n"
     ]
    },
    {
     "name": "stdout",
     "output_type": "stream",
     "text": [
      "Saved os_100_genes_mmcif/AF-A0A5S6RCW4-F1-model_v4.cif\n"
     ]
    },
    {
     "name": "stdout",
     "output_type": "stream",
     "text": [
      "Downloading https://alphafold.ebi.ac.uk/files/AF-Q02897-F1-model_v4.cif\n"
     ]
    },
    {
     "name": "stdout",
     "output_type": "stream",
     "text": [
      "Saved os_100_genes_mmcif/AF-Q02897-F1-model_v4.cif\n"
     ]
    },
    {
     "name": "stdout",
     "output_type": "stream",
     "text": [
      "Downloading https://alphafold.ebi.ac.uk/files/AF-B9F2U5-F1-model_v4.cif\n"
     ]
    },
    {
     "name": "stdout",
     "output_type": "stream",
     "text": [
      "Saved os_100_genes_mmcif/AF-B9F2U5-F1-model_v4.cif\n"
     ]
    },
    {
     "name": "stdout",
     "output_type": "stream",
     "text": [
      "Downloading https://alphafold.ebi.ac.uk/files/AF-Q6ZG90-F1-model_v4.cif\n"
     ]
    },
    {
     "name": "stdout",
     "output_type": "stream",
     "text": [
      "Saved os_100_genes_mmcif/AF-Q6ZG90-F1-model_v4.cif\n"
     ]
    },
    {
     "name": "stdout",
     "output_type": "stream",
     "text": [
      "Downloading https://alphafold.ebi.ac.uk/files/AF-Q5JJP8-F1-model_v4.cif\n"
     ]
    },
    {
     "name": "stdout",
     "output_type": "stream",
     "text": [
      "Saved os_100_genes_mmcif/AF-Q5JJP8-F1-model_v4.cif\n"
     ]
    },
    {
     "name": "stdout",
     "output_type": "stream",
     "text": [
      "Downloading https://alphafold.ebi.ac.uk/files/AF-A0A0P0VCB7-F1-model_v4.cif\n"
     ]
    },
    {
     "name": "stdout",
     "output_type": "stream",
     "text": [
      "Saved os_100_genes_mmcif/AF-A0A0P0VCB7-F1-model_v4.cif\n"
     ]
    },
    {
     "name": "stdout",
     "output_type": "stream",
     "text": [
      "Downloading https://alphafold.ebi.ac.uk/files/AF-A0A0P0VB72-F1-model_v4.cif\n"
     ]
    },
    {
     "name": "stdout",
     "output_type": "stream",
     "text": [
      "Saved os_100_genes_mmcif/AF-A0A0P0VB72-F1-model_v4.cif\n"
     ]
    },
    {
     "name": "stdout",
     "output_type": "stream",
     "text": [
      "Downloading https://alphafold.ebi.ac.uk/files/AF-B7FAC9-F1-model_v4.cif\n"
     ]
    },
    {
     "name": "stdout",
     "output_type": "stream",
     "text": [
      "Saved os_100_genes_mmcif/AF-B7FAC9-F1-model_v4.cif\n"
     ]
    },
    {
     "name": "stdout",
     "output_type": "stream",
     "text": [
      "Downloading https://alphafold.ebi.ac.uk/files/AF-Q5SN58-F1-model_v4.cif\n"
     ]
    },
    {
     "name": "stdout",
     "output_type": "stream",
     "text": [
      "Saved os_100_genes_mmcif/AF-Q5SN58-F1-model_v4.cif\n"
     ]
    },
    {
     "name": "stdout",
     "output_type": "stream",
     "text": [
      "Downloading https://alphafold.ebi.ac.uk/files/AF-A0A0P0V4A8-F1-model_v4.cif\n"
     ]
    },
    {
     "name": "stdout",
     "output_type": "stream",
     "text": [
      "Saved os_100_genes_mmcif/AF-A0A0P0V4A8-F1-model_v4.cif\n"
     ]
    },
    {
     "name": "stdout",
     "output_type": "stream",
     "text": [
      "Downloading https://alphafold.ebi.ac.uk/files/AF-Q657K0-F1-model_v4.cif\n"
     ]
    },
    {
     "name": "stdout",
     "output_type": "stream",
     "text": [
      "Saved os_100_genes_mmcif/AF-Q657K0-F1-model_v4.cif\n"
     ]
    },
    {
     "name": "stdout",
     "output_type": "stream",
     "text": [
      "Downloading https://alphafold.ebi.ac.uk/files/AF-A0A0N7KD66-F1-model_v4.cif\n"
     ]
    },
    {
     "name": "stdout",
     "output_type": "stream",
     "text": [
      "Saved os_100_genes_mmcif/AF-A0A0N7KD66-F1-model_v4.cif\n"
     ]
    },
    {
     "name": "stdout",
     "output_type": "stream",
     "text": [
      "Downloading https://alphafold.ebi.ac.uk/files/AF-Q657N1-F1-model_v4.cif\n"
     ]
    },
    {
     "name": "stdout",
     "output_type": "stream",
     "text": [
      "Saved os_100_genes_mmcif/AF-Q657N1-F1-model_v4.cif\n"
     ]
    },
    {
     "name": "stdout",
     "output_type": "stream",
     "text": [
      "Downloading https://alphafold.ebi.ac.uk/files/AF-Q9LGI2-F1-model_v4.cif\n"
     ]
    },
    {
     "name": "stdout",
     "output_type": "stream",
     "text": [
      "Saved os_100_genes_mmcif/AF-Q9LGI2-F1-model_v4.cif\n"
     ]
    },
    {
     "name": "stdout",
     "output_type": "stream",
     "text": [
      "Downloading https://alphafold.ebi.ac.uk/files/AF-Q658C6-F1-model_v4.cif\n"
     ]
    },
    {
     "name": "stdout",
     "output_type": "stream",
     "text": [
      "Saved os_100_genes_mmcif/AF-Q658C6-F1-model_v4.cif\n"
     ]
    },
    {
     "name": "stdout",
     "output_type": "stream",
     "text": [
      "Downloading https://alphafold.ebi.ac.uk/files/AF-Q657Z6-F1-model_v4.cif\n"
     ]
    },
    {
     "name": "stdout",
     "output_type": "stream",
     "text": [
      "Saved os_100_genes_mmcif/AF-Q657Z6-F1-model_v4.cif\n"
     ]
    },
    {
     "name": "stdout",
     "output_type": "stream",
     "text": [
      "Downloading https://alphafold.ebi.ac.uk/files/AF-A0A0N7KC66-F1-model_v4.cif\n"
     ]
    },
    {
     "name": "stdout",
     "output_type": "stream",
     "text": [
      "Saved os_100_genes_mmcif/AF-A0A0N7KC66-F1-model_v4.cif\n"
     ]
    }
   ],
   "source": [
    "get_cif_file(json_dir, structure_dir)"
   ]
  },
  {
   "cell_type": "markdown",
   "id": "38fd8486",
   "metadata": {
    "papermill": {
     "duration": 0.018082,
     "end_time": "2025-09-03T07:30:36.628520",
     "exception": false,
     "start_time": "2025-09-03T07:30:36.610438",
     "status": "completed"
    },
    "tags": []
   },
   "source": [
    "&nbsp;\n",
    "\n",
    "&nbsp;"
   ]
  },
  {
   "cell_type": "markdown",
   "id": "c43b1f46",
   "metadata": {
    "papermill": {
     "duration": 0.011781,
     "end_time": "2025-09-03T07:30:36.654285",
     "exception": false,
     "start_time": "2025-09-03T07:30:36.642504",
     "status": "completed"
    },
    "tags": []
   },
   "source": [
    "## 6. Save all results"
   ]
  },
  {
   "cell_type": "code",
   "execution_count": 15,
   "id": "36b7a29f",
   "metadata": {
    "execution": {
     "iopub.execute_input": "2025-09-03T07:30:36.675961Z",
     "iopub.status.busy": "2025-09-03T07:30:36.675834Z",
     "iopub.status.idle": "2025-09-03T07:30:36.685079Z",
     "shell.execute_reply": "2025-09-03T07:30:36.684887Z"
    },
    "papermill": {
     "duration": 0.020645,
     "end_time": "2025-09-03T07:30:36.685457",
     "exception": false,
     "start_time": "2025-09-03T07:30:36.664812",
     "status": "completed"
    },
    "tags": []
   },
   "outputs": [],
   "source": [
    "# Save all results\n",
    "if len(unmapped_ids) > 0 and not unmapped_df.is_empty():\n",
    "    id_mapping_df.write_csv(id_mapping_all_file, separator=\"\\t\")\n",
    "\n",
    "elif unmapped_df.is_empty():\n",
    "    print(\"re-mapping process is skipped, mapping results are saved in id_mapping_df.write_csv.\")\n",
    "    mapped_df2.write_csv(id_mapping_all_file, separator=\"\\t\")\n",
    "\n",
    "else:\n",
    "    print(\"unmapped_ids is empty, skipping re-mapping process.\")\n",
    "    mapped_df2.write_csv(id_mapping_all_file, separator=\"\\t\")"
   ]
  }
 ],
 "metadata": {
  "kernelspec": {
   "display_name": "Python 3",
   "language": "python",
   "name": "python3"
  },
  "language_info": {
   "codemirror_mode": {
    "name": "ipython",
    "version": 3
   },
   "file_extension": ".py",
   "mimetype": "text/x-python",
   "name": "python",
   "nbconvert_exporter": "python",
   "pygments_lexer": "ipython3",
   "version": "3.11.4"
  },
  "papermill": {
   "default_parameters": {},
   "duration": 1293.912868,
   "end_time": "2025-09-03T07:30:36.814739",
   "environment_variables": {},
   "exception": null,
   "input_path": "/tmp/fld2_0og/stgdb8489fe-1b7a-4f96-89d7-1ef55725d110/uniprot_idmapping.ipynb",
   "output_path": "oryza_sativa_100_genes_uniprot_idmapping.ipynb",
   "parameters": {
    "data_url": "cifUrl",
    "gene_id_tsv": "/tmp/fld2_0og/stgf1a0008b-654b-4981-ac61-58dbc6b5b586/oryza_sativa_random_100genes_list.tsv",
    "id_mapping_all_file": "os_100_genes_idmapping_all.tsv",
    "json_dir": "os_100_genes_afinfo_json",
    "query_db": "Ensembl_Genomes",
    "structure_dir": "os_100_genes_mmcif",
    "target_db": "UniProtKB"
   },
   "start_time": "2025-09-03T07:09:02.901871",
   "version": "2.6.0"
  }
 },
 "nbformat": 4,
 "nbformat_minor": 5
}