{
 "cells": [
  {
   "cell_type": "code",
   "execution_count": 1,
   "id": "a088323a",
   "metadata": {
    "execution": {
     "iopub.execute_input": "2024-11-12T06:31:09.816675Z",
     "iopub.status.busy": "2024-11-12T06:31:09.815086Z",
     "iopub.status.idle": "2024-11-12T06:31:09.895889Z",
     "shell.execute_reply": "2024-11-12T06:31:09.895538Z"
    },
    "papermill": {
     "duration": 0.089538,
     "end_time": "2024-11-12T06:31:09.896477",
     "exception": false,
     "start_time": "2024-11-12T06:31:09.806939",
     "status": "completed"
    },
    "tags": []
   },
   "outputs": [],
   "source": [
    "import time\n",
    "import polars as pl\n",
    "import requests\n",
    "import json\n",
    "import pathlib\n",
    "from typing import List, Tuple\n",
    "from unipressed import IdMappingClient"
   ]
  },
  {
   "cell_type": "code",
   "execution_count": 2,
   "id": "5cd5d8a6",
   "metadata": {
    "execution": {
     "iopub.execute_input": "2024-11-12T06:31:09.899194Z",
     "iopub.status.busy": "2024-11-12T06:31:09.899126Z",
     "iopub.status.idle": "2024-11-12T06:31:09.901000Z",
     "shell.execute_reply": "2024-11-12T06:31:09.900731Z"
    },
    "papermill": {
     "duration": 0.003527,
     "end_time": "2024-11-12T06:31:09.901340",
     "exception": false,
     "start_time": "2024-11-12T06:31:09.897813",
     "status": "completed"
    },
    "tags": [
     "parameters"
    ]
   },
   "outputs": [],
   "source": [
    "gene_id_tsv = \"../test/oryza_sativa_test/oryza_sativa_random_gene_list.tsv\"\n",
    "query_db = \"Ensembl_Genomes\"\n",
    "target_db = \"UniProtKB\"\n",
    "json_dir = \"rice_up_afinfo\"\n",
    "data_url = \"cifUrl\" # or \"pdbUrl\", \"bcifUrl\", \"paeImageUrl\", \"paeDocUrl\"\n",
    "structure_dir = \"rice_up_mmcif\"\n",
    "id_mapping_all_file = \"rice_up_idmapping_all.tsv\""
   ]
  },
  {
   "cell_type": "code",
   "execution_count": 3,
   "id": "da5fb976",
   "metadata": {
    "execution": {
     "iopub.execute_input": "2024-11-12T06:31:09.903775Z",
     "iopub.status.busy": "2024-11-12T06:31:09.903707Z",
     "iopub.status.idle": "2024-11-12T06:31:09.905457Z",
     "shell.execute_reply": "2024-11-12T06:31:09.905174Z"
    },
    "papermill": {
     "duration": 0.003429,
     "end_time": "2024-11-12T06:31:09.905856",
     "exception": false,
     "start_time": "2024-11-12T06:31:09.902427",
     "status": "completed"
    },
    "tags": [
     "injected-parameters"
    ]
   },
   "outputs": [],
   "source": [
    "# Parameters\n",
    "gene_id_tsv = \"/tmp/08g7e6sx/stg188bc4ca-f07d-41a8-a973-88f74a9ceef6/oryza_sativa_random_gene_list.tsv\"\n",
    "query_db = \"Ensembl_Genomes\"\n",
    "target_db = \"UniProtKB\"\n",
    "json_dir = \"rice_random_gene_afinfo\"\n",
    "data_url = \"cifUrl\"\n",
    "structure_dir = \"rice_random_gene_mmcif\"\n",
    "id_mapping_all_file = \"rice_random_gene_idmapping_all.tsv\"\n"
   ]
  },
  {
   "cell_type": "markdown",
   "id": "8d7c496b",
   "metadata": {
    "papermill": {
     "duration": 0.001044,
     "end_time": "2024-11-12T06:31:09.908119",
     "exception": false,
     "start_time": "2024-11-12T06:31:09.907075",
     "status": "completed"
    },
    "tags": []
   },
   "source": [
    "&nbsp;\n",
    "\n",
    "&nbsp;"
   ]
  },
  {
   "cell_type": "markdown",
   "id": "0fab4ce4",
   "metadata": {
    "papermill": {
     "duration": 0.000967,
     "end_time": "2024-11-12T06:31:09.910102",
     "exception": false,
     "start_time": "2024-11-12T06:31:09.909135",
     "status": "completed"
    },
    "tags": []
   },
   "source": [
    "## 1. UniProt ID mapping step"
   ]
  },
  {
   "cell_type": "code",
   "execution_count": 4,
   "id": "785f2b37",
   "metadata": {
    "execution": {
     "iopub.execute_input": "2024-11-12T06:31:09.912472Z",
     "iopub.status.busy": "2024-11-12T06:31:09.912401Z",
     "iopub.status.idle": "2024-11-12T06:31:09.914285Z",
     "shell.execute_reply": "2024-11-12T06:31:09.914043Z"
    },
    "papermill": {
     "duration": 0.003546,
     "end_time": "2024-11-12T06:31:09.914639",
     "exception": false,
     "start_time": "2024-11-12T06:31:09.911093",
     "status": "completed"
    },
    "tags": [
     "Function"
    ]
   },
   "outputs": [],
   "source": [
    "def chunk_list(lst: List, chunk_size: int) -> List[List]:\n",
    "    \"\"\"Split a gene list into chunks\"\"\"\n",
    "    return [lst[i:i + chunk_size] for i in range(0, len(lst), chunk_size)]"
   ]
  },
  {
   "cell_type": "code",
   "execution_count": 5,
   "id": "a8f266e5",
   "metadata": {
    "execution": {
     "iopub.execute_input": "2024-11-12T06:31:09.917006Z",
     "iopub.status.busy": "2024-11-12T06:31:09.916941Z",
     "iopub.status.idle": "2024-11-12T06:31:09.919935Z",
     "shell.execute_reply": "2024-11-12T06:31:09.919645Z"
    },
    "papermill": {
     "duration": 0.004565,
     "end_time": "2024-11-12T06:31:09.920289",
     "exception": false,
     "start_time": "2024-11-12T06:31:09.915724",
     "status": "completed"
    },
    "tags": []
   },
   "outputs": [],
   "source": [
    "def batch_id_mapping(from_db: str, to_db: str, ids: List[str], chunk_size: int = 100) -> Tuple[pl.DataFrame, List[str]]:\n",
    "    \"\"\"function for batch id mapping\"\"\"\n",
    "    all_results = []\n",
    "    all_unmapped = []\n",
    "    chunked_ids = chunk_list(ids, chunk_size)\n",
    "\n",
    "    for i, chunk in enumerate(chunked_ids):\n",
    "        print(f\"Processing chunk {i+1}/{len(chunked_ids)}...\")\n",
    "        \n",
    "        # create request and run\n",
    "        request = IdMappingClient.submit(source=from_db, dest=to_db, ids=chunk)\n",
    "        \n",
    "        # process results\n",
    "        chunk_results = list(request.each_result())\n",
    "        mapped_results = [{\"from\": item[\"from\"], \"to\": item[\"to\"]} for item in chunk_results]\n",
    "        all_results.extend(mapped_results)\n",
    "\n",
    "        # record unmapped ids\n",
    "        mapped_ids = set(item[\"from\"] for item in mapped_results)\n",
    "        unmapped = [id for id in chunk if id not in mapped_ids]\n",
    "        all_unmapped.extend(unmapped)\n",
    "\n",
    "        # avoid API rate limit\n",
    "        time.sleep(3)\n",
    "\n",
    "    # convert results to DataFrame\n",
    "    final_df = pl.DataFrame(all_results)\n",
    "    return final_df, all_unmapped"
   ]
  },
  {
   "cell_type": "code",
   "execution_count": 6,
   "id": "915a4ccc",
   "metadata": {
    "execution": {
     "iopub.execute_input": "2024-11-12T06:31:09.922701Z",
     "iopub.status.busy": "2024-11-12T06:31:09.922637Z",
     "iopub.status.idle": "2024-11-12T06:31:15.349863Z",
     "shell.execute_reply": "2024-11-12T06:31:15.349328Z"
    },
    "papermill": {
     "duration": 5.429795,
     "end_time": "2024-11-12T06:31:15.351162",
     "exception": false,
     "start_time": "2024-11-12T06:31:09.921367",
     "status": "completed"
    },
    "tags": []
   },
   "outputs": [
    {
     "name": "stdout",
     "output_type": "stream",
     "text": [
      "Processing chunk 1/1...\n"
     ]
    },
    {
     "data": {
      "text/html": [
       "<div><style>\n",
       ".dataframe > thead > tr,\n",
       ".dataframe > tbody > tr {\n",
       "  text-align: right;\n",
       "  white-space: pre-wrap;\n",
       "}\n",
       "</style>\n",
       "<small>shape: (19, 2)</small><table border=\"1\" class=\"dataframe\"><thead><tr><th>from</th><th>to</th></tr><tr><td>str</td><td>str</td></tr></thead><tbody><tr><td>&quot;Os01g0187600&quot;</td><td>&quot;A0A0P0UZ77&quot;</td></tr><tr><td>&quot;Os12g0129300&quot;</td><td>&quot;A0A0P0Y6G7&quot;</td></tr><tr><td>&quot;Os12g0129300&quot;</td><td>&quot;B9GBP4&quot;</td></tr><tr><td>&quot;Os12g0159500&quot;</td><td>&quot;A0A0P0Y794&quot;</td></tr><tr><td>&quot;Os12g0159500&quot;</td><td>&quot;A0A8J8YJ44&quot;</td></tr><tr><td>&hellip;</td><td>&hellip;</td></tr><tr><td>&quot;Os04g0391500&quot;</td><td>&quot;Q01LC6&quot;</td></tr><tr><td>&quot;Os01g0795250&quot;</td><td>&quot;A0A0P0V975&quot;</td></tr><tr><td>&quot;Os01g0859200&quot;</td><td>&quot;A0A0P0VAK7&quot;</td></tr><tr><td>&quot;Os01g0859200&quot;</td><td>&quot;A0A0P0VAM0&quot;</td></tr><tr><td>&quot;Os01g0859200&quot;</td><td>&quot;Q94DD0&quot;</td></tr></tbody></table></div>"
      ],
      "text/plain": [
       "shape: (19, 2)\n",
       "┌──────────────┬────────────┐\n",
       "│ from         ┆ to         │\n",
       "│ ---          ┆ ---        │\n",
       "│ str          ┆ str        │\n",
       "╞══════════════╪════════════╡\n",
       "│ Os01g0187600 ┆ A0A0P0UZ77 │\n",
       "│ Os12g0129300 ┆ A0A0P0Y6G7 │\n",
       "│ Os12g0129300 ┆ B9GBP4     │\n",
       "│ Os12g0159500 ┆ A0A0P0Y794 │\n",
       "│ Os12g0159500 ┆ A0A8J8YJ44 │\n",
       "│ …            ┆ …          │\n",
       "│ Os04g0391500 ┆ Q01LC6     │\n",
       "│ Os01g0795250 ┆ A0A0P0V975 │\n",
       "│ Os01g0859200 ┆ A0A0P0VAK7 │\n",
       "│ Os01g0859200 ┆ A0A0P0VAM0 │\n",
       "│ Os01g0859200 ┆ Q94DD0     │\n",
       "└──────────────┴────────────┘"
      ]
     },
     "metadata": {},
     "output_type": "display_data"
    },
    {
     "data": {
      "text/plain": [
       "[]"
      ]
     },
     "metadata": {},
     "output_type": "display_data"
    }
   ],
   "source": [
    "gene_ids = pl.read_csv(\n",
    "    gene_id_tsv,\n",
    "    separator='\\t'\n",
    ").get_column(\"From\").to_list()\n",
    "\n",
    "mapped_df, unmapped_ids = batch_id_mapping(\n",
    "    query_db,\n",
    "    target_db,\n",
    "    gene_ids\n",
    ")\n",
    "\n",
    "display(mapped_df)\n",
    "display(unmapped_ids)"
   ]
  },
  {
   "cell_type": "code",
   "execution_count": 7,
   "id": "66975553",
   "metadata": {
    "execution": {
     "iopub.execute_input": "2024-11-12T06:31:15.362301Z",
     "iopub.status.busy": "2024-11-12T06:31:15.361585Z",
     "iopub.status.idle": "2024-11-12T06:31:15.369269Z",
     "shell.execute_reply": "2024-11-12T06:31:15.368851Z"
    },
    "papermill": {
     "duration": 0.012949,
     "end_time": "2024-11-12T06:31:15.369852",
     "exception": false,
     "start_time": "2024-11-12T06:31:15.356903",
     "status": "completed"
    },
    "tags": []
   },
   "outputs": [
    {
     "data": {
      "text/html": [
       "<div><style>\n",
       ".dataframe > thead > tr,\n",
       ".dataframe > tbody > tr {\n",
       "  text-align: right;\n",
       "  white-space: pre-wrap;\n",
       "}\n",
       "</style>\n",
       "<small>shape: (19, 2)</small><table border=\"1\" class=\"dataframe\"><thead><tr><th>From</th><th>UniProt Accession</th></tr><tr><td>str</td><td>str</td></tr></thead><tbody><tr><td>&quot;Os01g0187600&quot;</td><td>&quot;A0A0P0UZ77&quot;</td></tr><tr><td>&quot;Os12g0129300&quot;</td><td>&quot;A0A0P0Y6G7&quot;</td></tr><tr><td>&quot;Os12g0129300&quot;</td><td>&quot;B9GBP4&quot;</td></tr><tr><td>&quot;Os12g0159500&quot;</td><td>&quot;A0A0P0Y794&quot;</td></tr><tr><td>&quot;Os12g0159500&quot;</td><td>&quot;A0A8J8YJ44&quot;</td></tr><tr><td>&hellip;</td><td>&hellip;</td></tr><tr><td>&quot;Os04g0391500&quot;</td><td>&quot;Q01LC6&quot;</td></tr><tr><td>&quot;Os01g0795250&quot;</td><td>&quot;A0A0P0V975&quot;</td></tr><tr><td>&quot;Os01g0859200&quot;</td><td>&quot;A0A0P0VAK7&quot;</td></tr><tr><td>&quot;Os01g0859200&quot;</td><td>&quot;A0A0P0VAM0&quot;</td></tr><tr><td>&quot;Os01g0859200&quot;</td><td>&quot;Q94DD0&quot;</td></tr></tbody></table></div>"
      ],
      "text/plain": [
       "shape: (19, 2)\n",
       "┌──────────────┬───────────────────┐\n",
       "│ From         ┆ UniProt Accession │\n",
       "│ ---          ┆ ---               │\n",
       "│ str          ┆ str               │\n",
       "╞══════════════╪═══════════════════╡\n",
       "│ Os01g0187600 ┆ A0A0P0UZ77        │\n",
       "│ Os12g0129300 ┆ A0A0P0Y6G7        │\n",
       "│ Os12g0129300 ┆ B9GBP4            │\n",
       "│ Os12g0159500 ┆ A0A0P0Y794        │\n",
       "│ Os12g0159500 ┆ A0A8J8YJ44        │\n",
       "│ …            ┆ …                 │\n",
       "│ Os04g0391500 ┆ Q01LC6            │\n",
       "│ Os01g0795250 ┆ A0A0P0V975        │\n",
       "│ Os01g0859200 ┆ A0A0P0VAK7        │\n",
       "│ Os01g0859200 ┆ A0A0P0VAM0        │\n",
       "│ Os01g0859200 ┆ Q94DD0            │\n",
       "└──────────────┴───────────────────┘"
      ]
     },
     "metadata": {},
     "output_type": "display_data"
    }
   ],
   "source": [
    "mapped_df2 = mapped_df.rename(\n",
    "    {\n",
    "        \"from\": \"From\",\n",
    "        \"to\": \"UniProt Accession\"\n",
    "    }\n",
    ")\n",
    "\n",
    "display(mapped_df2)"
   ]
  },
  {
   "cell_type": "code",
   "execution_count": 8,
   "id": "9cf8571f",
   "metadata": {
    "execution": {
     "iopub.execute_input": "2024-11-12T06:31:15.376613Z",
     "iopub.status.busy": "2024-11-12T06:31:15.376473Z",
     "iopub.status.idle": "2024-11-12T06:31:15.379388Z",
     "shell.execute_reply": "2024-11-12T06:31:15.378895Z"
    },
    "papermill": {
     "duration": 0.006701,
     "end_time": "2024-11-12T06:31:15.380171",
     "exception": false,
     "start_time": "2024-11-12T06:31:15.373470",
     "status": "completed"
    },
    "tags": []
   },
   "outputs": [
    {
     "name": "stdout",
     "output_type": "stream",
     "text": [
      "False\n",
      "True\n"
     ]
    }
   ],
   "source": [
    "print(mapped_df.is_empty())\n",
    "print(len(unmapped_ids) == 0)\n"
   ]
  },
  {
   "cell_type": "markdown",
   "id": "61807906",
   "metadata": {
    "papermill": {
     "duration": 0.002632,
     "end_time": "2024-11-12T06:31:15.386070",
     "exception": false,
     "start_time": "2024-11-12T06:31:15.383438",
     "status": "completed"
    },
    "tags": []
   },
   "source": [
    "&nbsp;\n",
    "\n",
    "&nbsp;"
   ]
  },
  {
   "cell_type": "markdown",
   "id": "5b37dffb",
   "metadata": {
    "papermill": {
     "duration": 0.002496,
     "end_time": "2024-11-12T06:31:15.390859",
     "exception": false,
     "start_time": "2024-11-12T06:31:15.388363",
     "status": "completed"
    },
    "tags": []
   },
   "source": [
    "## 2. UniProt re-mapping \n",
    "\n",
    "## 3. Concatenate the two dataframes\n",
    "\n",
    "## 4. AlphaFoldDB metadata JSON files"
   ]
  },
  {
   "cell_type": "code",
   "execution_count": 9,
   "id": "6aa1ae3d",
   "metadata": {
    "execution": {
     "iopub.execute_input": "2024-11-12T06:31:15.395861Z",
     "iopub.status.busy": "2024-11-12T06:31:15.395732Z",
     "iopub.status.idle": "2024-11-12T06:31:15.399600Z",
     "shell.execute_reply": "2024-11-12T06:31:15.399198Z"
    },
    "papermill": {
     "duration": 0.006855,
     "end_time": "2024-11-12T06:31:15.400044",
     "exception": false,
     "start_time": "2024-11-12T06:31:15.393189",
     "status": "completed"
    },
    "tags": [
     "function"
    ]
   },
   "outputs": [],
   "source": [
    "def fetch_uniprot_data(ensembl_ids: List[str]) -> pl.DataFrame:\n",
    "    results = []\n",
    "\n",
    "    for id in ensembl_ids:\n",
    "        print(f\"Processing {id}...\")\n",
    "        url = (\n",
    "            f\"https://rest.uniprot.org/uniprotkb/search?\"\n",
    "            f\"query=gene:{id}&format=json\"\n",
    "        )\n",
    "        response = requests.get(url)\n",
    "        \n",
    "        if response.status_code == 200:\n",
    "            data = json.loads(response.text)\n",
    "            for item in data.get('results', []):\n",
    "                primary_accession = item.get('primaryAccession', '')\n",
    "                secondary_accessions = item.get('secondaryAccessions', [])\n",
    "                all_accessions = [primary_accession] + secondary_accessions\n",
    "                \n",
    "                for accession in all_accessions:\n",
    "                    entry = {\n",
    "                        \"From\": id,\n",
    "                        \"UniProt Accession\": accession\n",
    "                    }\n",
    "                    \n",
    "                    # Check if the accession is a match for the gene \n",
    "                    # (e.g. Os03g0293000 matches OrderedLocusNames)\n",
    "                    match_found = False\n",
    "                    for gene in item.get('genes', []):\n",
    "                        for locus in gene.get('orderedLocusNames', []):\n",
    "                            if locus.get('value', '') == id:\n",
    "                                match_found = True\n",
    "                                break\n",
    "                        if match_found:\n",
    "                            break\n",
    "                    \n",
    "                    if match_found:\n",
    "                        results.append(entry)\n",
    "        else:\n",
    "            print(f\"Error fetching data for {id}: {response.status_code}\")\n",
    "        \n",
    "        time.sleep(1)\n",
    "\n",
    "    return pl.DataFrame(results)"
   ]
  },
  {
   "cell_type": "code",
   "execution_count": 10,
   "id": "e31d5b29",
   "metadata": {
    "execution": {
     "iopub.execute_input": "2024-11-12T06:31:15.404403Z",
     "iopub.status.busy": "2024-11-12T06:31:15.404302Z",
     "iopub.status.idle": "2024-11-12T06:31:15.408425Z",
     "shell.execute_reply": "2024-11-12T06:31:15.408216Z"
    },
    "papermill": {
     "duration": 0.006746,
     "end_time": "2024-11-12T06:31:15.408804",
     "exception": false,
     "start_time": "2024-11-12T06:31:15.402058",
     "status": "completed"
    },
    "tags": []
   },
   "outputs": [],
   "source": [
    "def get_af_json(dataframe: pl.DataFrame, target_dir: str):\n",
    "    \"\"\"\n",
    "    Get JSON file from AlphaFoldDB\n",
    "    \"\"\"\n",
    "    pathlib.Path(target_dir).mkdir(parents=True, exist_ok=True)\n",
    "    \n",
    "    for row in dataframe.iter_rows():\n",
    "        gene_id = row[0]\n",
    "        uniprot_id = row[1]\n",
    "        \n",
    "        json_file_name = pathlib.Path(target_dir) / f\"{gene_id}_{uniprot_id}_info.json\"\n",
    "        \n",
    "        if json_file_name.exists():\n",
    "            message_1 = f\"{json_file_name} already exists\"\n",
    "            print(message_1)\n",
    "            continue\n",
    "        \n",
    "        request_url = f\"https://alphafold.ebi.ac.uk/api/prediction/{uniprot_id}\"\n",
    "        \n",
    "        try:\n",
    "            response = requests.get(request_url, headers={\"Accept\": \"application/json\"}, timeout=30)\n",
    "            response.raise_for_status()\n",
    "            \n",
    "            if response.text:\n",
    "                data = json.loads(response.text) # parse json\n",
    "                if isinstance(data, list) and len(data) > 0:\n",
    "                    message_2 = f\"AlphaFold ID {uniprot_id} found in AlphaFold\"\n",
    "                    print(message_2)\n",
    "                    with open(json_file_name, 'w') as f:\n",
    "                        json.dump(data[0], f, indent=4)\n",
    "                else:\n",
    "                    message_3 = f\"AlphaFold ID {uniprot_id} not found in AlphaFold\"\n",
    "                    print(message_3)\n",
    "            else:\n",
    "                message_4 = f\"Empty response for AlphaFold ID {uniprot_id}\"\n",
    "                print(message_4)\n",
    "        except requests.exceptions.RequestException as e:\n",
    "            message_5 = f\"Request failed: {e}\"\n",
    "            print(message_5)\n",
    "            message_6 = f\"AlphaFold ID {uniprot_id} not found in AlphaFold\"\n",
    "            print(message_6)\n",
    "        time.sleep(5)"
   ]
  },
  {
   "cell_type": "code",
   "execution_count": 11,
   "id": "5db8b600",
   "metadata": {
    "execution": {
     "iopub.execute_input": "2024-11-12T06:31:15.413119Z",
     "iopub.status.busy": "2024-11-12T06:31:15.413034Z",
     "iopub.status.idle": "2024-11-12T06:33:09.784724Z",
     "shell.execute_reply": "2024-11-12T06:33:09.783558Z"
    },
    "papermill": {
     "duration": 114.37793,
     "end_time": "2024-11-12T06:33:09.788784",
     "exception": false,
     "start_time": "2024-11-12T06:31:15.410854",
     "status": "completed"
    },
    "tags": []
   },
   "outputs": [
    {
     "name": "stdout",
     "output_type": "stream",
     "text": [
      "unmapped_ids is empty, skipping fetch_uniprot_data.\n"
     ]
    },
    {
     "name": "stdout",
     "output_type": "stream",
     "text": [
      "AlphaFold ID A0A0P0UZ77 found in AlphaFold\n"
     ]
    },
    {
     "name": "stdout",
     "output_type": "stream",
     "text": [
      "AlphaFold ID A0A0P0Y6G7 found in AlphaFold\n"
     ]
    },
    {
     "name": "stdout",
     "output_type": "stream",
     "text": [
      "Request failed: 404 Client Error: Not Found for url: https://alphafold.ebi.ac.uk/api/prediction/B9GBP4\n",
      "AlphaFold ID B9GBP4 not found in AlphaFold\n"
     ]
    },
    {
     "name": "stdout",
     "output_type": "stream",
     "text": [
      "AlphaFold ID A0A0P0Y794 found in AlphaFold\n"
     ]
    },
    {
     "name": "stdout",
     "output_type": "stream",
     "text": [
      "Request failed: 404 Client Error: Not Found for url: https://alphafold.ebi.ac.uk/api/prediction/A0A8J8YJ44\n",
      "AlphaFold ID A0A8J8YJ44 not found in AlphaFold\n"
     ]
    },
    {
     "name": "stdout",
     "output_type": "stream",
     "text": [
      "AlphaFold ID B9GBZ8 found in AlphaFold\n"
     ]
    },
    {
     "name": "stdout",
     "output_type": "stream",
     "text": [
      "Request failed: 404 Client Error: Not Found for url: https://alphafold.ebi.ac.uk/api/prediction/B9F105\n",
      "AlphaFold ID B9F105 not found in AlphaFold\n"
     ]
    },
    {
     "name": "stdout",
     "output_type": "stream",
     "text": [
      "AlphaFold ID Q6K1X4 found in AlphaFold\n"
     ]
    },
    {
     "name": "stdout",
     "output_type": "stream",
     "text": [
      "AlphaFold ID A0A0P0WNJ6 found in AlphaFold\n"
     ]
    },
    {
     "name": "stdout",
     "output_type": "stream",
     "text": [
      "AlphaFold ID A0A0N7KKL4 found in AlphaFold\n"
     ]
    },
    {
     "name": "stdout",
     "output_type": "stream",
     "text": [
      "AlphaFold ID Q5VPE3 found in AlphaFold\n"
     ]
    },
    {
     "name": "stdout",
     "output_type": "stream",
     "text": [
      "AlphaFold ID A0A0P0W9M0 found in AlphaFold\n"
     ]
    },
    {
     "name": "stdout",
     "output_type": "stream",
     "text": [
      "AlphaFold ID Q0JDM8 found in AlphaFold\n"
     ]
    },
    {
     "name": "stdout",
     "output_type": "stream",
     "text": [
      "AlphaFold ID Q7XVN5 found in AlphaFold\n"
     ]
    },
    {
     "name": "stdout",
     "output_type": "stream",
     "text": [
      "AlphaFold ID Q01LC6 found in AlphaFold\n"
     ]
    },
    {
     "name": "stdout",
     "output_type": "stream",
     "text": [
      "AlphaFold ID A0A0P0V975 found in AlphaFold\n"
     ]
    },
    {
     "name": "stdout",
     "output_type": "stream",
     "text": [
      "AlphaFold ID A0A0P0VAK7 found in AlphaFold\n"
     ]
    },
    {
     "name": "stdout",
     "output_type": "stream",
     "text": [
      "AlphaFold ID A0A0P0VAM0 found in AlphaFold\n"
     ]
    },
    {
     "name": "stdout",
     "output_type": "stream",
     "text": [
      "AlphaFold ID Q94DD0 found in AlphaFold\n"
     ]
    }
   ],
   "source": [
    "if len(unmapped_ids) > 0:\n",
    "    unmapped_df = fetch_uniprot_data(unmapped_ids)\n",
    "    display(unmapped_df)\n",
    "\n",
    "    # Concatenate the two dataframes\n",
    "    id_mapping_df = pl.concat(\n",
    "        [\n",
    "            mapped_df2,\n",
    "            unmapped_df\n",
    "        ],\n",
    "        how=\"vertical_relaxed\"\n",
    "    ).sort(\n",
    "        by=\"From\",\n",
    "        descending=False\n",
    "    )\n",
    "    display(id_mapping_df)\n",
    "\n",
    "    # Get AlphaFold metadata JSON files\n",
    "    get_af_json(id_mapping_df, json_dir)\n",
    "else:\n",
    "    print(\"unmapped_ids is empty, skipping fetch_uniprot_data.\")\n",
    "    get_af_json(mapped_df2, json_dir)"
   ]
  },
  {
   "cell_type": "markdown",
   "id": "18e5d228",
   "metadata": {
    "papermill": {
     "duration": 0.00677,
     "end_time": "2024-11-12T06:33:09.804757",
     "exception": false,
     "start_time": "2024-11-12T06:33:09.797987",
     "status": "completed"
    },
    "tags": []
   },
   "source": [
    "&nbsp;\n",
    "\n",
    "&nbsp;"
   ]
  },
  {
   "cell_type": "markdown",
   "id": "88690326",
   "metadata": {
    "papermill": {
     "duration": 0.004427,
     "end_time": "2024-11-12T06:33:09.814835",
     "exception": false,
     "start_time": "2024-11-12T06:33:09.810408",
     "status": "completed"
    },
    "tags": []
   },
   "source": [
    "## 5. Download CIF files"
   ]
  },
  {
   "cell_type": "code",
   "execution_count": 12,
   "id": "6568b09c",
   "metadata": {
    "execution": {
     "iopub.execute_input": "2024-11-12T06:33:09.824193Z",
     "iopub.status.busy": "2024-11-12T06:33:09.823971Z",
     "iopub.status.idle": "2024-11-12T06:33:09.829464Z",
     "shell.execute_reply": "2024-11-12T06:33:09.828991Z"
    },
    "papermill": {
     "duration": 0.010718,
     "end_time": "2024-11-12T06:33:09.830182",
     "exception": false,
     "start_time": "2024-11-12T06:33:09.819464",
     "status": "completed"
    },
    "tags": []
   },
   "outputs": [],
   "source": [
    "def get_cif_file(json_dir_path: str, output_dir_path: str):\n",
    "    \"\"\"\n",
    "    Get CIF file from JSON files retrieved from AlphaFoldDB\n",
    "    \n",
    "    Args:\n",
    "        json_dir_path: Directory containing AlphaFold JSON metadata files\n",
    "        output_dir_path: Directory to save downloaded CIF files\n",
    "    \"\"\"\n",
    "    pathlib.Path(output_dir_path).mkdir(parents=True, exist_ok=True)\n",
    "\n",
    "    for json_file in pathlib.Path(json_dir_path).glob(\"*.json\"):\n",
    "        with open(json_file, \"r\", encoding=\"utf-8\") as f:\n",
    "            try:\n",
    "                data = json.load(f)\n",
    "                cif_url = data.get(data_url)\n",
    "                \n",
    "                if not cif_url:\n",
    "                    print(f\"No {data_url} found in {json_file}\")\n",
    "                    continue\n",
    "                    \n",
    "                # Extract filename from URL and create output path\n",
    "                cif_filename = pathlib.Path(cif_url).name\n",
    "                output_file = pathlib.Path(output_dir_path) / cif_filename\n",
    "                \n",
    "                # Skip if file already exists\n",
    "                if output_file.exists():\n",
    "                    print(f\"{output_file} already exists\")\n",
    "                    continue\n",
    "                \n",
    "                print(f\"Downloading {cif_url}\")\n",
    "                response = requests.get(cif_url, timeout=30)\n",
    "                response.raise_for_status()\n",
    "                \n",
    "                # Save CIF file\n",
    "                output_file.write_bytes(response.content)\n",
    "                print(f\"Saved {output_file}\")\n",
    "                \n",
    "            except json.JSONDecodeError:\n",
    "                print(f\"Error parsing JSON file: {json_file}\")\n",
    "            except requests.exceptions.RequestException as e:\n",
    "                print(f\"Error downloading CIF file: {e}\")\n",
    "            \n",
    "            # Rate limiting\n",
    "            time.sleep(1)"
   ]
  },
  {
   "cell_type": "code",
   "execution_count": 13,
   "id": "c12447a9",
   "metadata": {
    "execution": {
     "iopub.execute_input": "2024-11-12T06:33:09.837444Z",
     "iopub.status.busy": "2024-11-12T06:33:09.837307Z",
     "iopub.status.idle": "2024-11-12T06:33:28.063552Z",
     "shell.execute_reply": "2024-11-12T06:33:28.062009Z"
    },
    "papermill": {
     "duration": 18.232497,
     "end_time": "2024-11-12T06:33:28.066143",
     "exception": false,
     "start_time": "2024-11-12T06:33:09.833646",
     "status": "completed"
    },
    "tags": []
   },
   "outputs": [
    {
     "name": "stdout",
     "output_type": "stream",
     "text": [
      "Downloading https://alphafold.ebi.ac.uk/files/AF-A0A0P0UZ77-F1-model_v4.cif\n",
      "Saved rice_random_gene_mmcif/AF-A0A0P0UZ77-F1-model_v4.cif\n"
     ]
    },
    {
     "name": "stdout",
     "output_type": "stream",
     "text": [
      "Downloading https://alphafold.ebi.ac.uk/files/AF-A0A0P0Y6G7-F1-model_v4.cif\n",
      "Saved rice_random_gene_mmcif/AF-A0A0P0Y6G7-F1-model_v4.cif\n"
     ]
    },
    {
     "name": "stdout",
     "output_type": "stream",
     "text": [
      "Downloading https://alphafold.ebi.ac.uk/files/AF-A0A0P0Y794-F1-model_v4.cif\n",
      "Saved rice_random_gene_mmcif/AF-A0A0P0Y794-F1-model_v4.cif\n"
     ]
    },
    {
     "name": "stdout",
     "output_type": "stream",
     "text": [
      "Downloading https://alphafold.ebi.ac.uk/files/AF-B9GBZ8-F1-model_v4.cif\n",
      "Saved rice_random_gene_mmcif/AF-B9GBZ8-F1-model_v4.cif\n"
     ]
    },
    {
     "name": "stdout",
     "output_type": "stream",
     "text": [
      "Downloading https://alphafold.ebi.ac.uk/files/AF-Q6K1X4-F1-model_v4.cif\n",
      "Saved rice_random_gene_mmcif/AF-Q6K1X4-F1-model_v4.cif\n"
     ]
    },
    {
     "name": "stdout",
     "output_type": "stream",
     "text": [
      "Downloading https://alphafold.ebi.ac.uk/files/AF-A0A0P0WNJ6-F1-model_v4.cif\n",
      "Saved rice_random_gene_mmcif/AF-A0A0P0WNJ6-F1-model_v4.cif\n"
     ]
    },
    {
     "name": "stdout",
     "output_type": "stream",
     "text": [
      "Downloading https://alphafold.ebi.ac.uk/files/AF-A0A0N7KKL4-F1-model_v4.cif\n",
      "Saved rice_random_gene_mmcif/AF-A0A0N7KKL4-F1-model_v4.cif\n"
     ]
    },
    {
     "name": "stdout",
     "output_type": "stream",
     "text": [
      "Downloading https://alphafold.ebi.ac.uk/files/AF-Q5VPE3-F1-model_v4.cif\n",
      "Saved rice_random_gene_mmcif/AF-Q5VPE3-F1-model_v4.cif\n"
     ]
    },
    {
     "name": "stdout",
     "output_type": "stream",
     "text": [
      "Downloading https://alphafold.ebi.ac.uk/files/AF-A0A0P0W9M0-F1-model_v4.cif\n",
      "Saved rice_random_gene_mmcif/AF-A0A0P0W9M0-F1-model_v4.cif\n"
     ]
    },
    {
     "name": "stdout",
     "output_type": "stream",
     "text": [
      "Downloading https://alphafold.ebi.ac.uk/files/AF-Q0JDM8-F1-model_v4.cif\n",
      "Saved rice_random_gene_mmcif/AF-Q0JDM8-F1-model_v4.cif\n"
     ]
    },
    {
     "name": "stdout",
     "output_type": "stream",
     "text": [
      "Downloading https://alphafold.ebi.ac.uk/files/AF-Q7XVN5-F1-model_v4.cif\n",
      "Saved rice_random_gene_mmcif/AF-Q7XVN5-F1-model_v4.cif\n"
     ]
    },
    {
     "name": "stdout",
     "output_type": "stream",
     "text": [
      "Downloading https://alphafold.ebi.ac.uk/files/AF-Q01LC6-F1-model_v4.cif\n",
      "Saved rice_random_gene_mmcif/AF-Q01LC6-F1-model_v4.cif\n"
     ]
    },
    {
     "name": "stdout",
     "output_type": "stream",
     "text": [
      "Downloading https://alphafold.ebi.ac.uk/files/AF-A0A0P0V975-F1-model_v4.cif\n",
      "Saved rice_random_gene_mmcif/AF-A0A0P0V975-F1-model_v4.cif\n"
     ]
    },
    {
     "name": "stdout",
     "output_type": "stream",
     "text": [
      "Downloading https://alphafold.ebi.ac.uk/files/AF-A0A0P0VAK7-F1-model_v4.cif\n",
      "Saved rice_random_gene_mmcif/AF-A0A0P0VAK7-F1-model_v4.cif\n"
     ]
    },
    {
     "name": "stdout",
     "output_type": "stream",
     "text": [
      "Downloading https://alphafold.ebi.ac.uk/files/AF-A0A0P0VAM0-F1-model_v4.cif\n",
      "Saved rice_random_gene_mmcif/AF-A0A0P0VAM0-F1-model_v4.cif\n"
     ]
    },
    {
     "name": "stdout",
     "output_type": "stream",
     "text": [
      "Downloading https://alphafold.ebi.ac.uk/files/AF-Q94DD0-F1-model_v4.cif\n",
      "Saved rice_random_gene_mmcif/AF-Q94DD0-F1-model_v4.cif\n"
     ]
    }
   ],
   "source": [
    "get_cif_file(json_dir, structure_dir)"
   ]
  },
  {
   "cell_type": "markdown",
   "id": "6726f574",
   "metadata": {
    "papermill": {
     "duration": 0.006594,
     "end_time": "2024-11-12T06:33:28.084020",
     "exception": false,
     "start_time": "2024-11-12T06:33:28.077426",
     "status": "completed"
    },
    "tags": []
   },
   "source": [
    "&nbsp;\n",
    "\n",
    "&nbsp;"
   ]
  },
  {
   "cell_type": "markdown",
   "id": "9a3a8660",
   "metadata": {
    "papermill": {
     "duration": 0.00572,
     "end_time": "2024-11-12T06:33:28.095737",
     "exception": false,
     "start_time": "2024-11-12T06:33:28.090017",
     "status": "completed"
    },
    "tags": []
   },
   "source": [
    "## 6. Save all results"
   ]
  },
  {
   "cell_type": "code",
   "execution_count": 14,
   "id": "5070caf3",
   "metadata": {
    "execution": {
     "iopub.execute_input": "2024-11-12T06:33:28.105089Z",
     "iopub.status.busy": "2024-11-12T06:33:28.104904Z",
     "iopub.status.idle": "2024-11-12T06:33:28.120892Z",
     "shell.execute_reply": "2024-11-12T06:33:28.120496Z"
    },
    "papermill": {
     "duration": 0.021345,
     "end_time": "2024-11-12T06:33:28.121368",
     "exception": false,
     "start_time": "2024-11-12T06:33:28.100023",
     "status": "completed"
    },
    "tags": []
   },
   "outputs": [
    {
     "name": "stdout",
     "output_type": "stream",
     "text": [
      "unmapped_ids is empty, mapping results are saved in id_mapping_df.write_csv.\n"
     ]
    }
   ],
   "source": [
    "# Save all results\n",
    "if len(unmapped_ids) > 0:\n",
    "    id_mapping_df.write_csv(id_mapping_all_file, separator=\"\\t\")\n",
    "else:\n",
    "    print(\"unmapped_ids is empty, mapping results are saved in id_mapping_df.write_csv.\")\n",
    "    mapped_df2.write_csv(id_mapping_all_file, separator=\"\\t\")\n"
   ]
  }
 ],
 "metadata": {
  "kernelspec": {
   "display_name": "Python 3",
   "language": "python",
   "name": "python3"
  },
  "language_info": {
   "codemirror_mode": {
    "name": "ipython",
    "version": 3
   },
   "file_extension": ".py",
   "mimetype": "text/x-python",
   "name": "python",
   "nbconvert_exporter": "python",
   "pygments_lexer": "ipython3",
   "version": "3.11.4"
  },
  "papermill": {
   "default_parameters": {},
   "duration": 138.882596,
   "end_time": "2024-11-12T06:33:28.246409",
   "environment_variables": {},
   "exception": null,
   "input_path": "/tmp/08g7e6sx/stg7cb65f4b-055b-45f9-a59a-79a8cd6a825d/uniprot_idmapping.ipynb",
   "output_path": "rice_random_gene_uniprot_idmapping.ipynb",
   "parameters": {
    "data_url": "cifUrl",
    "gene_id_tsv": "/tmp/08g7e6sx/stg188bc4ca-f07d-41a8-a973-88f74a9ceef6/oryza_sativa_random_gene_list.tsv",
    "id_mapping_all_file": "rice_random_gene_idmapping_all.tsv",
    "json_dir": "rice_random_gene_afinfo",
    "query_db": "Ensembl_Genomes",
    "structure_dir": "rice_random_gene_mmcif",
    "target_db": "UniProtKB"
   },
   "start_time": "2024-11-12T06:31:09.363813",
   "version": "2.6.0"
  }
 },
 "nbformat": 4,
 "nbformat_minor": 5
}